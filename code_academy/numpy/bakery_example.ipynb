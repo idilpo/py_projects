{
 "cells": [
  {
   "cell_type": "markdown",
   "metadata": {},
   "source": [
    "# Betty's Bakery"
   ]
  },
  {
   "cell_type": "code",
   "execution_count": null,
   "metadata": {},
   "outputs": [],
   "source": [
    "\"\"\"\n",
    "Betty has always used her grandmother’s recipe book to make cookies, cakes, pancakes, and bread for her friends and family. \n",
    "She’s getting ready to open a business and will need to start buying all of her milk, eggs, sugar, flour, and butter in bulk.\n",
    "Help Betty figure out how much she needs to buy using NumPy arrays describing her recipes. \n",
    "\n",
    "All of Betty’s recipes call for milk, eggs, sugar, flour, and butter. For example, her cupcake recipe calls for: 2 cups of \n",
    "flour, 0.75 cups of sugar, 2 eggs, 1 cup of milk, 0.5 cups of butter. Create a NumPy array that represents this data. Each \n",
    "element should be a number (i.e., 2 for “2 cups”). Save this array as cupcakes.\n",
    "\n",
    "\n",
    "Betty’s assistant has compiled all of her recipes into a csv (comma-separated variable) file called recipes.csv. Load this \n",
    "file into a variable called recipes. Display recipes using print. Each row represents a different recipe. Each column \n",
    "represents a different ingredient. The 3rd column represents the number of eggs that each recipe needs.\n",
    "\n",
    "Select all elements from the 3rd column and save them to the variable eggs. Which recipes require exactly 1 egg? Use a \n",
    "logical statement to get True or False for each value of eggs. Betty is going to make 2 batches of cupcakes (1st row) and 1 \n",
    "batch of cookies (3rd row). You already have a variable for cupcakes. Create a variable for cookies with the data from the \n",
    "3rd row. Get the number of ingredients for a double batch of cupcakes by using multiplication on cupcakes. Save your new \n",
    "variable to double_batch. Create a new variable called grocery_list by adding cookies and double_batch.\n",
    "\"\"\""
   ]
  },
  {
   "cell_type": "code",
   "execution_count": 2,
   "metadata": {},
   "outputs": [],
   "source": [
    "import numpy as np"
   ]
  },
  {
   "cell_type": "code",
   "execution_count": null,
   "metadata": {},
   "outputs": [],
   "source": [
    "cupcakes = np.array([2, 0.75,  2, 1, 0.5])\n",
    "\n",
    "recipes = np.genfromtxt(\"recipes.csv\", delimiter=\",\")\n",
    "print(recipes)\n",
    "\n",
    "eggs = recipes[:,2]\n",
    "exactly1egg = recipes[eggs==1]\n",
    "print(exactly1egg)\n",
    "\n",
    "cookies = recipes[1,:]\n",
    "double_batch = cupcakes*2\n",
    "grocery_list = cookies + double_batch"
   ]
  },
  {
   "cell_type": "code",
   "execution_count": null,
   "metadata": {},
   "outputs": [],
   "source": []
  }
 ],
 "metadata": {
  "kernelspec": {
   "display_name": "Python 3",
   "language": "python",
   "name": "python3"
  },
  "language_info": {
   "codemirror_mode": {
    "name": "ipython",
    "version": 3
   },
   "file_extension": ".py",
   "mimetype": "text/x-python",
   "name": "python",
   "nbconvert_exporter": "python",
   "pygments_lexer": "ipython3",
   "version": "3.8.5"
  }
 },
 "nbformat": 4,
 "nbformat_minor": 4
}
