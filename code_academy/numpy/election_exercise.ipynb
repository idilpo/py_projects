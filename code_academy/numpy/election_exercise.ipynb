{
 "cells": [
  {
   "cell_type": "markdown",
   "metadata": {},
   "source": [
    "# Election Results Exercise:"
   ]
  },
  {
   "cell_type": "code",
   "execution_count": 1,
   "metadata": {},
   "outputs": [],
   "source": [
    "import numpy as np\n",
    "from matplotlib import pyplot as plt"
   ]
  },
  {
   "cell_type": "code",
   "execution_count": null,
   "metadata": {},
   "outputs": [],
   "source": [
    "\"\"\"\n",
    "You’re part of an impartial research group that conducts phone surveys prior to local elections. During this election season, \n",
    "the group conducted a survey to determine how many people would vote for Cynthia Ceballos vs. Justin Kerrigan in the mayoral election.\n",
    "Now that the election has occurred, your group wants to compare the survey responses to the actual results.\n",
    "\"\"\""
   ]
  },
  {
   "cell_type": "code",
   "execution_count": 2,
   "metadata": {},
   "outputs": [],
   "source": [
    "survey_responses = ['Ceballos', 'Kerrigan', 'Ceballos', 'Ceballos', 'Ceballos','Kerrigan', 'Kerrigan', 'Ceballos', 'Ceballos', 'Ceballos', \n",
    "'Kerrigan', 'Kerrigan', 'Ceballos', 'Ceballos', 'Kerrigan', 'Kerrigan', 'Ceballos', 'Ceballos', 'Kerrigan', 'Kerrigan', 'Kerrigan', \n",
    "'Kerrigan', 'Kerrigan', 'Kerrigan', 'Ceballos', 'Ceballos', 'Ceballos', 'Ceballos', 'Ceballos', 'Ceballos', 'Kerrigan', 'Kerrigan', \n",
    "'Ceballos', 'Ceballos', 'Ceballos', 'Kerrigan', 'Kerrigan', 'Ceballos', 'Ceballos', 'Kerrigan', 'Kerrigan', 'Ceballos', 'Ceballos', \n",
    "'Kerrigan', 'Kerrigan', 'Kerrigan', 'Kerrigan', 'Kerrigan', 'Kerrigan', 'Ceballos', 'Kerrigan', 'Kerrigan', 'Ceballos', 'Ceballos', \n",
    "'Ceballos', 'Kerrigan', 'Kerrigan', 'Ceballos', 'Ceballos', 'Kerrigan', 'Kerrigan', 'Ceballos', 'Ceballos', 'Kerrigan', 'Kerrigan', \n",
    "'Kerrigan', 'Kerrigan', 'Kerrigan', 'Kerrigan', 'Ceballos']"
   ]
  },
  {
   "cell_type": "code",
   "execution_count": null,
   "metadata": {},
   "outputs": [],
   "source": [
    "\"\"\"\n",
    "Calculate the number of people who answered ‘Ceballos’ and save the answer to the variable total_ceballos. Calculate the percentage of \n",
    "people in the survey who voted for Ceballos and save it to the variable percentage_ceballos.\n",
    "\"\"\""
   ]
  },
  {
   "cell_type": "code",
   "execution_count": 4,
   "metadata": {},
   "outputs": [
    {
     "name": "stdout",
     "output_type": "stream",
     "text": [
      "Total number of elements in the list:  70\n",
      "Ceballos Count:  33\n",
      "Ceballos Percentage:  47.142857142857146\n"
     ]
    }
   ],
   "source": [
    "# total_ceballos = sum([1 for response in survey_responses if response==\"Ceballos\"])\n",
    "total_ceballos = len(survey_responses)\n",
    "print(\"Total number of elements in the list: \", total_ceballos)\n",
    "\n",
    "ceballos_count = 0\n",
    "for x in survey_responses:\n",
    "  if (x=='Ceballos'):\n",
    "    ceballos_count += 1\n",
    "  else: continue\n",
    "print(\"Ceballos Count: \", ceballos_count)\n",
    "\n",
    "percentage_ceballos = (ceballos_count*100)/total_ceballos\n",
    "print(\"Ceballos Percentage: \", percentage_ceballos)"
   ]
  },
  {
   "cell_type": "code",
   "execution_count": null,
   "metadata": {},
   "outputs": [],
   "source": [
    "\"\"\"\n",
    "In the real election, 54% of the 10,000 town population voted for Cynthia Ceballos. Your supervisors are concerned because this is a very \n",
    "different outcome than what the poll predicted. They want you to determine if there is something wrong with the poll or if given the sample \n",
    "size, it was an entirely reasonable result. Generate a binomial distribution that takes the number of total survey responses, the actual \n",
    "success rate, and the size of the town’s population as its parameters. Then divide the distribution by the number of survey responses. Save \n",
    "your calculation to the variable possible_surveys. Plot a histogram of possible_surveys with a range of 0-1 and 20 bins.\n",
    "\"\"\""
   ]
  },
  {
   "cell_type": "code",
   "execution_count": 6,
   "metadata": {},
   "outputs": [
    {
     "data": {
      "image/png": "[encoded data removed]",
      "text/plain": [
       "<Figure size 432x288 with 1 Axes>"
      ]
     },
     "metadata": {
      "needs_background": "light"
     },
     "output_type": "display_data"
    }
   ],
   "source": [
    "# divided to length to scale the result to our current data:\n",
    "possible_surveys = np.random.binomial(total_ceballos, 0.54, 10000) / total_ceballos\n",
    "plt.hist(possible_surveys, range=(0,1), bins=20)\n",
    "plt.show()"
   ]
  },
  {
   "cell_type": "code",
   "execution_count": null,
   "metadata": {},
   "outputs": [],
   "source": [
    "\"\"\"\n",
    "As we saw, 47% of people we surveyed said they would vote for Ceballos, but 54% of people voted for Ceballos in the actual election. \n",
    "Calculate the percentage of surveys that could have an outcome of Ceballos receiving less than 50% of the vote and save it to the variable \n",
    "ceballos_loss_surveys.\n",
    "\"\"\""
   ]
  },
  {
   "cell_type": "code",
   "execution_count": 12,
   "metadata": {},
   "outputs": [
    {
     "data": {
      "text/plain": [
       "0.2211"
      ]
     },
     "execution_count": 12,
     "metadata": {},
     "output_type": "execute_result"
    }
   ],
   "source": [
    "total_possible = len(possible_surveys)\n",
    "incorrect = len(possible_surveys[possible_surveys<0.5])\n",
    "ceballos_loss_surveys = incorrect/total_possible\n",
    "ceballos_loss_surveys"
   ]
  },
  {
   "cell_type": "code",
   "execution_count": null,
   "metadata": {},
   "outputs": [],
   "source": [
    "\"\"\"\n",
    "With this current poll, about 20% of the time a survey output would predict Kerrigan winning, even if Ceballos won the actual election. Your\n",
    "co-worker points out that your poll would be more accurate if it had more responders. Generate another binomial distribution, but this time,\n",
    "see what would happen if you had instead surveyed 7,000 people. Divide the distribution by the size of the survey and save your findings to \n",
    "large_survey.\n",
    "\"\"\""
   ]
  },
  {
   "cell_type": "code",
   "execution_count": 14,
   "metadata": {},
   "outputs": [
    {
     "data": {
      "image/png": "[encoded data removed]",
      "text/plain": [
       "<Figure size 432x288 with 1 Axes>"
      ]
     },
     "metadata": {
      "needs_background": "light"
     },
     "output_type": "display_data"
    }
   ],
   "source": [
    "large_survey_length = 7000.0\n",
    "large_survey = np.random.binomial(large_survey_length, 0.54, 10000) / large_survey_length\n",
    "plt.hist(large_survey, range=(0,1), bins=20)\n",
    "plt.show()"
   ]
  },
  {
   "cell_type": "code",
   "execution_count": null,
   "metadata": {},
   "outputs": [],
   "source": [
    "\"\"\"\n",
    "Now, recalculate the percentage of surveys that would have an outcome of Ceballos losing and save it to the variable ceballos_loss_new, \n",
    "and print the value to the terminal.\n",
    "\"\"\""
   ]
  },
  {
   "cell_type": "code",
   "execution_count": 15,
   "metadata": {},
   "outputs": [
    {
     "data": {
      "text/plain": [
       "0.0"
      ]
     },
     "execution_count": 15,
     "metadata": {},
     "output_type": "execute_result"
    }
   ],
   "source": [
    "incorrect2 = len(large_survey[large_survey<0.5])\n",
    "ceballos_loss_new = incorrect2/total_possible\n",
    "ceballos_loss_new"
   ]
  },
  {
   "cell_type": "code",
   "execution_count": null,
   "metadata": {},
   "outputs": [],
   "source": []
  }
 ],
 "metadata": {
  "kernelspec": {
   "display_name": "Python 3",
   "language": "python",
   "name": "python3"
  },
  "language_info": {
   "codemirror_mode": {
    "name": "ipython",
    "version": 3
   },
   "file_extension": ".py",
   "mimetype": "text/x-python",
   "name": "python",
   "nbconvert_exporter": "python",
   "pygments_lexer": "ipython3",
   "version": "3.8.5"
  }
 },
 "nbformat": 4,
 "nbformat_minor": 4
}
