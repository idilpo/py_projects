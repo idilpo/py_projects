{
 "cells": [
  {
   "cell_type": "markdown",
   "metadata": {},
   "source": [
    "# Movie Ratings Example"
   ]
  },
  {
   "cell_type": "code",
   "execution_count": null,
   "metadata": {},
   "outputs": [],
   "source": [
    "\"\"\"\n",
    "NumPy has many uses including:\n",
    "- Efficiently working with many numbers at once\n",
    "- Generating random numbers\n",
    "- Performing many different numerical functions (i.e., calculating sin, cos, tan, mean, median, etc.)\n",
    "\"\"\""
   ]
  },
  {
   "cell_type": "code",
   "execution_count": null,
   "metadata": {},
   "outputs": [],
   "source": [
    "\"\"\"\n",
    "Twice Charred is a fictional (mostly) movie review site where four good friends and movie reviewers, \n",
    "Lorie, Marty, Tori, and Kurtz watch movies and give them ratings on a scale of 0 to 100. But they see \n",
    "more than one movie, so we have to create a 2-dimensional array where each row is their ratings for a \n",
    "specific movie. Some fans prefer to have the movies rated on a five star scale, find these movies scores.\n",
    "Now let's say the ratings are always in the same order (Lorie, Marty, Tori, Kurtz) if we wanted to create \n",
    "an array that only had Tori's ratings, we could select that from our movie_ratings array. We find that we \n",
    "have very similar taste to Marty, so we only want to see movies that he gives a good rating to. Use logic \n",
    "to select those movies.\n",
    "\"\"\""
   ]
  },
  {
   "cell_type": "code",
   "execution_count": 21,
   "metadata": {},
   "outputs": [],
   "source": [
    "import numpy as np\n",
    "import pandas as pd"
   ]
  },
  {
   "cell_type": "code",
   "execution_count": 3,
   "metadata": {},
   "outputs": [],
   "source": [
    "movie_ratings = np.array([63.0, 54.0, 70.0, 50.0])"
   ]
  },
  {
   "cell_type": "code",
   "execution_count": 26,
   "metadata": {},
   "outputs": [],
   "source": [
    "reviewers = np.array([\"Lorie\", \"Marty\", \"Tori\", \"Kurtz\"])"
   ]
  },
  {
   "cell_type": "code",
   "execution_count": 5,
   "metadata": {},
   "outputs": [],
   "source": [
    "individualRatings = np.array([[63.0, 36.0, 87.0],\n",
    "                            [54.0, 55.0, 22.0],\n",
    "                            [70.0, 78.0, 34.0],\n",
    "                            [50.0, 65.0, 90.0]])"
   ]
  },
  {
   "cell_type": "code",
   "execution_count": 7,
   "metadata": {},
   "outputs": [
    {
     "data": {
      "text/plain": [
       "array([[3.15, 1.8 , 4.35],\n",
       "       [2.7 , 2.75, 1.1 ],\n",
       "       [3.5 , 3.9 , 1.7 ],\n",
       "       [2.5 , 3.25, 4.5 ]])"
      ]
     },
     "execution_count": 7,
     "metadata": {},
     "output_type": "execute_result"
    }
   ],
   "source": [
    "movieRatings = individualRatings/20\n",
    "movieRatings"
   ]
  },
  {
   "cell_type": "code",
   "execution_count": 12,
   "metadata": {},
   "outputs": [
    {
     "data": {
      "text/plain": [
       "array([70., 78., 34.])"
      ]
     },
     "execution_count": 12,
     "metadata": {},
     "output_type": "execute_result"
    }
   ],
   "source": [
    "TorisRatings = individualRatings[2,:]\n",
    "TorisRatings"
   ]
  },
  {
   "cell_type": "code",
   "execution_count": 20,
   "metadata": {},
   "outputs": [
    {
     "data": {
      "text/plain": [
       "array([54., 55.])"
      ]
     },
     "execution_count": 20,
     "metadata": {},
     "output_type": "execute_result"
    }
   ],
   "source": [
    "MartysRatings = individualRatings[1,:]\n",
    "recommendedMovies = MartysRatings[MartysRatings>50]\n",
    "recommendedMovies"
   ]
  },
  {
   "cell_type": "code",
   "execution_count": 32,
   "metadata": {},
   "outputs": [],
   "source": [
    "# converting numpy arrays to dictionaries:\n",
    "# Ratings = dict(enumerate(individualRatings.flatten(), 1))\n",
    "# Reviewer = dict(enumerate(reviewers.flatten(), 1))\n",
    "# Ratings"
   ]
  },
  {
   "cell_type": "code",
   "execution_count": 60,
   "metadata": {},
   "outputs": [],
   "source": [
    "Movies = [\"Movie1\", \"Movie2\", \"Movie3\"]\n",
    "Lorie = {\"Movie1\":63.0, \"Movie2\":36.0, \"Movie3\":87.0}\n",
    "Marty = {\"Movie1\":54.0, \"Movie2\":55.0, \"Movie3\":22.0}\n",
    "Tori = {\"Movie1\":70.0, \"Movie2\":78.0, \"Movie3\":34.0}\n",
    "Kurtz = {\"Movie1\":50.0, \"Movie2\":65.0, \"Movie3\":90.0}\n",
    "\n",
    "avgMovie1 = (Lorie[\"Movie1\"] + Marty[\"Movie1\"] + Tori[\"Movie1\"] + Kurtz[\"Movie1\"])/4\n",
    "avgMovie2 = (Lorie[\"Movie2\"] + Marty[\"Movie2\"] + Tori[\"Movie2\"] + Kurtz[\"Movie2\"])/4\n",
    "avgMovie3 = (Lorie[\"Movie3\"] + Marty[\"Movie3\"] + Tori[\"Movie3\"] + Kurtz[\"Movie3\"])/4\n",
    "Ratings = [avgMovie1, avgMovie2, avgMovie3]"
   ]
  },
  {
   "cell_type": "code",
   "execution_count": 61,
   "metadata": {},
   "outputs": [
    {
     "data": {
      "text/html": [
       "<div>\n",
       "<style scoped>\n",
       "    .dataframe tbody tr th:only-of-type {\n",
       "        vertical-align: middle;\n",
       "    }\n",
       "\n",
       "    .dataframe tbody tr th {\n",
       "        vertical-align: top;\n",
       "    }\n",
       "\n",
       "    .dataframe thead th {\n",
       "        text-align: right;\n",
       "    }\n",
       "</style>\n",
       "<table border=\"1\" class=\"dataframe\">\n",
       "  <thead>\n",
       "    <tr style=\"text-align: right;\">\n",
       "      <th></th>\n",
       "      <th>Movies</th>\n",
       "      <th>Ratings</th>\n",
       "    </tr>\n",
       "  </thead>\n",
       "  <tbody>\n",
       "    <tr>\n",
       "      <th>0</th>\n",
       "      <td>Movie1</td>\n",
       "      <td>59.25</td>\n",
       "    </tr>\n",
       "    <tr>\n",
       "      <th>1</th>\n",
       "      <td>Movie2</td>\n",
       "      <td>58.50</td>\n",
       "    </tr>\n",
       "    <tr>\n",
       "      <th>2</th>\n",
       "      <td>Movie3</td>\n",
       "      <td>58.25</td>\n",
       "    </tr>\n",
       "  </tbody>\n",
       "</table>\n",
       "</div>"
      ],
      "text/plain": [
       "   Movies  Ratings\n",
       "0  Movie1    59.25\n",
       "1  Movie2    58.50\n",
       "2  Movie3    58.25"
      ]
     },
     "execution_count": 61,
     "metadata": {},
     "output_type": "execute_result"
    }
   ],
   "source": [
    "ds = pd.DataFrame({\"Movies\":Movies, \"Ratings\":Ratings})\n",
    "ds"
   ]
  },
  {
   "cell_type": "code",
   "execution_count": 53,
   "metadata": {},
   "outputs": [],
   "source": [
    "Ld = pd.Series(Lorie)\n",
    "L = Ld.values\n",
    "Md = pd.Series(Marty)\n",
    "M = Md.values\n",
    "Td = pd.Series(Tori)\n",
    "T = Td.values\n",
    "Kd = pd.Series(Kurtz)\n",
    "K = Kd."
   ]
  },
  {
   "cell_type": "code",
   "execution_count": 54,
   "metadata": {},
   "outputs": [
    {
     "data": {
      "text/html": [
       "<div>\n",
       "<style scoped>\n",
       "    .dataframe tbody tr th:only-of-type {\n",
       "        vertical-align: middle;\n",
       "    }\n",
       "\n",
       "    .dataframe tbody tr th {\n",
       "        vertical-align: top;\n",
       "    }\n",
       "\n",
       "    .dataframe thead th {\n",
       "        text-align: right;\n",
       "    }\n",
       "</style>\n",
       "<table border=\"1\" class=\"dataframe\">\n",
       "  <thead>\n",
       "    <tr style=\"text-align: right;\">\n",
       "      <th></th>\n",
       "      <th>Movies</th>\n",
       "      <th>Lorie</th>\n",
       "      <th>Marty</th>\n",
       "      <th>Tori</th>\n",
       "      <th>Kurtz</th>\n",
       "    </tr>\n",
       "  </thead>\n",
       "  <tbody>\n",
       "    <tr>\n",
       "      <th>0</th>\n",
       "      <td>Movie1</td>\n",
       "      <td>63.0</td>\n",
       "      <td>54.0</td>\n",
       "      <td>70.0</td>\n",
       "      <td>50.0</td>\n",
       "    </tr>\n",
       "    <tr>\n",
       "      <th>1</th>\n",
       "      <td>Movie2</td>\n",
       "      <td>36.0</td>\n",
       "      <td>55.0</td>\n",
       "      <td>78.0</td>\n",
       "      <td>65.0</td>\n",
       "    </tr>\n",
       "    <tr>\n",
       "      <th>2</th>\n",
       "      <td>Movie3</td>\n",
       "      <td>87.0</td>\n",
       "      <td>22.0</td>\n",
       "      <td>34.0</td>\n",
       "      <td>90.0</td>\n",
       "    </tr>\n",
       "  </tbody>\n",
       "</table>\n",
       "</div>"
      ],
      "text/plain": [
       "   Movies  Lorie  Marty  Tori  Kurtz\n",
       "0  Movie1   63.0   54.0  70.0   50.0\n",
       "1  Movie2   36.0   55.0  78.0   65.0\n",
       "2  Movie3   87.0   22.0  34.0   90.0"
      ]
     },
     "execution_count": 54,
     "metadata": {},
     "output_type": "execute_result"
    }
   ],
   "source": [
    "detailedFrame = pd.DataFrame({\"Movies\":Movies, \"Lorie\":L, \"Marty\":M, \"Tori\":T, \"Kurtz\":K})\n",
    "detailedFrame"
   ]
  },
  {
   "cell_type": "code",
   "execution_count": 62,
   "metadata": {},
   "outputs": [
    {
     "data": {
      "text/html": [
       "<div>\n",
       "<style scoped>\n",
       "    .dataframe tbody tr th:only-of-type {\n",
       "        vertical-align: middle;\n",
       "    }\n",
       "\n",
       "    .dataframe tbody tr th {\n",
       "        vertical-align: top;\n",
       "    }\n",
       "\n",
       "    .dataframe thead th {\n",
       "        text-align: right;\n",
       "    }\n",
       "</style>\n",
       "<table border=\"1\" class=\"dataframe\">\n",
       "  <thead>\n",
       "    <tr style=\"text-align: right;\">\n",
       "      <th></th>\n",
       "      <th>Average Ratings</th>\n",
       "      <th>Lorie</th>\n",
       "      <th>Marty</th>\n",
       "      <th>Tori</th>\n",
       "      <th>Kurtz</th>\n",
       "    </tr>\n",
       "  </thead>\n",
       "  <tbody>\n",
       "    <tr>\n",
       "      <th>0</th>\n",
       "      <td>59.25</td>\n",
       "      <td>63.0</td>\n",
       "      <td>54.0</td>\n",
       "      <td>70.0</td>\n",
       "      <td>50.0</td>\n",
       "    </tr>\n",
       "    <tr>\n",
       "      <th>1</th>\n",
       "      <td>58.50</td>\n",
       "      <td>36.0</td>\n",
       "      <td>55.0</td>\n",
       "      <td>78.0</td>\n",
       "      <td>65.0</td>\n",
       "    </tr>\n",
       "    <tr>\n",
       "      <th>2</th>\n",
       "      <td>58.25</td>\n",
       "      <td>87.0</td>\n",
       "      <td>22.0</td>\n",
       "      <td>34.0</td>\n",
       "      <td>90.0</td>\n",
       "    </tr>\n",
       "  </tbody>\n",
       "</table>\n",
       "</div>"
      ],
      "text/plain": [
       "   Average Ratings  Lorie  Marty  Tori  Kurtz\n",
       "0            59.25   63.0   54.0  70.0   50.0\n",
       "1            58.50   36.0   55.0  78.0   65.0\n",
       "2            58.25   87.0   22.0  34.0   90.0"
      ]
     },
     "execution_count": 62,
     "metadata": {},
     "output_type": "execute_result"
    }
   ],
   "source": [
    "finalFrame = pd.DataFrame({\"Average Ratings\":Ratings, \"Lorie\":L, \"Marty\":M, \"Tori\":T, \"Kurtz\":K})\n",
    "finalFrame"
   ]
  },
  {
   "cell_type": "code",
   "execution_count": null,
   "metadata": {},
   "outputs": [],
   "source": [
    "# finalFrame should involve Movie1, Movie2, Movie3 and not 0,1,2"
   ]
  }
 ],
 "metadata": {
  "kernelspec": {
   "display_name": "Python 3",
   "language": "python",
   "name": "python3"
  },
  "language_info": {
   "codemirror_mode": {
    "name": "ipython",
    "version": 3
   },
   "file_extension": ".py",
   "mimetype": "text/x-python",
   "name": "python",
   "nbconvert_exporter": "python",
   "pygments_lexer": "ipython3",
   "version": "3.8.5"
  }
 },
 "nbformat": 4,
 "nbformat_minor": 4
}
