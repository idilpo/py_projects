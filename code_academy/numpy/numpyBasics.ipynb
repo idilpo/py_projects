{
 "cells": [
  {
   "cell_type": "code",
   "execution_count": 1,
   "metadata": {},
   "outputs": [],
   "source": [
    "\"\"\"\n",
    ".csv importing:\n",
    "we’re able to transform CSV (comma-separated values) files into arrays using the np.genfromtxt() function:\n",
    "csv_array = np.genfromtxt('sample.csv', delimiter=',')\n",
    "\"\"\""
   ]
  },
  {
   "cell_type": "code",
   "execution_count": 5,
   "metadata": {},
   "outputs": [],
   "source": [
    "import numpy as np"
   ]
  },
  {
   "cell_type": "code",
   "execution_count": 6,
   "metadata": {},
   "outputs": [],
   "source": [
    "# operations:\n",
    "\n",
    "# With a list:\n",
    "l = [1, 2, 3, 4, 5]\n",
    "l_plus_3 = []\n",
    "for i in range(len(l)):\n",
    "    l_plus_3.append(l[i] + 3)\n",
    "    \n",
    "# With an array:\n",
    "a = np.array(l)\n",
    "a_plus_3 = a + 3"
   ]
  },
  {
   "cell_type": "code",
   "execution_count": 8,
   "metadata": {},
   "outputs": [
    {
     "data": {
      "text/plain": [
       "array([ 7,  9, 11, 13, 15])"
      ]
     },
     "execution_count": 8,
     "metadata": {},
     "output_type": "execute_result"
    }
   ],
   "source": [
    "c = np.array([1, 2, 3, 4, 5])\n",
    "b = np.array([6, 7, 8, 9, 10])\n",
    "c + b\n",
    "# array([ 7,  9, 11, 13, 15])"
   ]
  },
  {
   "cell_type": "code",
   "execution_count": null,
   "metadata": {},
   "outputs": [],
   "source": [
    "\"\"\"In statistics, we often use two-dimensional arrays to represent a set of samples. For instance, if we flip a coin \n",
    "we can represent each head as a 1 and each tail as a 0. Create a one-dimensional array for a coin toss experiment that \n",
    "results in heads, tails, tails, heads, tails, and save it to the variable coin_toss.\n",
    "\n",
    "We run the experiment again and get the following outcome: tails, tails, heads, heads, heads. Create a new array that \n",
    "represents both outcomes as a single experiment. Save the new array to coin_toss_again.\n",
    "\"\"\""
   ]
  },
  {
   "cell_type": "code",
   "execution_count": 18,
   "metadata": {},
   "outputs": [
    {
     "name": "stdout",
     "output_type": "stream",
     "text": [
      "Coin toss: [1 0 0 1 0]\n",
      "Coin toss again: [[1 0 0 1 0]\n",
      " [0 0 1 1 1]]\n"
     ]
    }
   ],
   "source": [
    "coin_toss = np.array([1,0,0,1,0])\n",
    "print(\"Coin toss:\", coin_toss)\n",
    "coin_toss_again = np.array([[1, 0, 0, 1, 0], [0, 0, 1, 1, 1]])\n",
    "print(\"Coin toss again:\", coin_toss_again)"
   ]
  },
  {
   "cell_type": "code",
   "execution_count": 19,
   "metadata": {},
   "outputs": [
    {
     "data": {
      "text/plain": [
       "array([[1, 0],\n",
       "       [0, 1],\n",
       "       [0, 0],\n",
       "       [1, 1]])"
      ]
     },
     "execution_count": 19,
     "metadata": {},
     "output_type": "execute_result"
    }
   ],
   "source": [
    "toss_outcomes = np.array([[1,0],[0,1],[0,0],[1,1]])\n",
    "toss_outcomes"
   ]
  },
  {
   "cell_type": "code",
   "execution_count": 20,
   "metadata": {},
   "outputs": [
    {
     "data": {
      "text/plain": [
       "array([ True, False, False, False, False, False,  True,  True,  True,\n",
       "        True])"
      ]
     },
     "execution_count": 20,
     "metadata": {},
     "output_type": "execute_result"
    }
   ],
   "source": [
    "# logical operations with arrays:\n",
    "a = np.array([10, 2, 2, 4, 5, 3, 9, 8, 9, 7])\n",
    "a > 5\n",
    "# array([True, False, False, False, False, False, True, True, True, True], dtype=bool)"
   ]
  },
  {
   "cell_type": "code",
   "execution_count": 21,
   "metadata": {},
   "outputs": [
    {
     "data": {
      "text/plain": [
       "array([10,  9,  8,  9,  7])"
      ]
     },
     "execution_count": 21,
     "metadata": {},
     "output_type": "execute_result"
    }
   ],
   "source": [
    "a[a > 5]\n",
    "# array([10, 9, 8, 9, 7])"
   ]
  },
  {
   "cell_type": "code",
   "execution_count": null,
   "metadata": {},
   "outputs": [],
   "source": [
    "\"\"\"\n",
    "Today we’re visiting the Goldilocks Porridge Festival, sampling a selection of breakfast cereals and judging them \n",
    "based on their temperature (listed in Fahrenheit). Create a logical condition that selects samples in the porridge \n",
    "array that are less than 60, and save them to a variable named cold. Create a logical condition that finds all the \n",
    "samples that are higher than 80 and save them to a variable named hot. Create a logical condition that finds all the \n",
    "samples that are between 60 and 80 (inclusive) and save them to a variable named just_right. Print each array.\n",
    "\"\"\""
   ]
  },
  {
   "cell_type": "code",
   "execution_count": 22,
   "metadata": {},
   "outputs": [
    {
     "name": "stdout",
     "output_type": "stream",
     "text": [
      "[50 56 51] [90 85 98] [79 65 63 79]\n"
     ]
    }
   ],
   "source": [
    "porridge = np.array([79, 65, 50, 63, 56, 90, 85, 98, 79, 51])\n",
    "\n",
    "cold = porridge[porridge<60]\n",
    "hot = porridge[porridge>80]\n",
    "just_right = porridge[(porridge>60) & (porridge<80)]\n",
    "print(cold, hot, just_right)"
   ]
  },
  {
   "cell_type": "code",
   "execution_count": null,
   "metadata": {},
   "outputs": [],
   "source": [
    "\"\"\"\n",
    "You are working on a team of climate scientists and one of your roles is to take the weekly temperature data and \n",
    "input into NumPy arrays for later analysis. The sensor records the temperature 4 times a day, at 0:00, 6:00, 12:00, \n",
    "and 18:00. You are given last weeks data (Monday through Friday) and asked to create a NumPy array. One of the \n",
    "researchers noticed that the sensor had been incorrectly zeroed and all of the recorded temperatures are 3.0 degrees \n",
    "too cold. Adjust the array so that the temperature readings are accurate and save them to temperatures_fixed. Another \n",
    "researcher asked you for the temperature values from Monday. Save them to a new array, monday_temperatures. “Hmmm, \n",
    "interesting” the researcher mumbles, “can you also give me the 6:00 AM data for Thursday and Friday?” Save this data to \n",
    "a new array thursday_friday_morning. Finally, the persistent researcher wants all the high and low temperatures over the \n",
    "week. Select all temperatures that are under 50 degrees or over 60 degrees and save them to a new array temperature_extremes.\n",
    "\"\"\""
   ]
  },
  {
   "cell_type": "code",
   "execution_count": 33,
   "metadata": {},
   "outputs": [
    {
     "name": "stdout",
     "output_type": "stream",
     "text": [
      "[[46.6 48.1 61.8 56. ]\n",
      " [50.  47.5 61.3 55.6]\n",
      " [49.7 47.2 60.9 55.2]\n",
      " [49.5 47.1 60.6 54.9]\n",
      " [49.2 46.9 60.2 54.5]]\n",
      "\n"
     ]
    },
    {
     "data": {
      "text/plain": [
       "array([46.6, 48.1, 61.8, 47.5, 61.3, 49.7, 47.2, 60.9, 49.5, 47.1, 60.6,\n",
       "       49.2, 46.9, 60.2])"
      ]
     },
     "execution_count": 33,
     "metadata": {},
     "output_type": "execute_result"
    }
   ],
   "source": [
    "temperatures = np.array([[43.6, 45.1, 58.8, 53.],\n",
    "                         [47., 44.5, 58.3, 52.6],\n",
    "                         [46.7, 44.2, 57.9, 52.2],\n",
    "                         [46.5, 44.1, 57.6, 51.9],\n",
    "                         [46.2, 43.9, 57.2, 51.5]])\n",
    "temperatures_fixed = temperatures+3\n",
    "print(temperatures_fixed)\n",
    "monday_temperatures = temperatures_fixed[0,:]\n",
    "thursday_friday_morning = temperatures_fixed[3:5,1]\n",
    "temperature_extremes = temperatures_fixed[(temperatures_fixed<50) | (temperatures_fixed>60)]\n",
    "print()\n",
    "temperature_extremes"
   ]
  },
  {
   "cell_type": "code",
   "execution_count": null,
   "metadata": {},
   "outputs": [],
   "source": [
    "# axis=0 are values that share an index (in the same column) and axis=1 are values share an array (in the same row)."
   ]
  },
  {
   "cell_type": "code",
   "execution_count": null,
   "metadata": {},
   "outputs": [],
   "source": []
  }
 ],
 "metadata": {
  "kernelspec": {
   "display_name": "Python 3",
   "language": "python",
   "name": "python3"
  },
  "language_info": {
   "codemirror_mode": {
    "name": "ipython",
    "version": 3
   },
   "file_extension": ".py",
   "mimetype": "text/x-python",
   "name": "python",
   "nbconvert_exporter": "python",
   "pygments_lexer": "ipython3",
   "version": "3.8.5"
  }
 },
 "nbformat": 4,
 "nbformat_minor": 4
}
