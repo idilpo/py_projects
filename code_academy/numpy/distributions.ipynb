{
 "cells": [
  {
   "cell_type": "markdown",
   "metadata": {},
   "source": [
    "# Histograms:"
   ]
  },
  {
   "cell_type": "code",
   "execution_count": null,
   "metadata": {},
   "outputs": [],
   "source": [
    "\"\"\"\n",
    "When we first look at a dataset, we want to be able to quickly understand certain things about it:\n",
    "- Do some values occur more often than others?\n",
    "- What is the range of the dataset (i.e., the min and the max values)?\n",
    "- Are there a lot of outliers?\n",
    "We can visualize this information using a chart called a histogram.\n",
    "\"\"\""
   ]
  },
  {
   "cell_type": "code",
   "execution_count": null,
   "metadata": {},
   "outputs": [],
   "source": [
    "\"\"\"\n",
    "Suppose we have a large dataset with values ranging from 0 to 50. We might not want to know exactly how many 0’s, 1’s, 2’s, etc. we have. \n",
    "Instead, we might want to know how many values fall between 0 and 5, 6 and 10, 11 and 15, etc. These groupings are called bins. All bins in \n",
    "a histogram are always the same size. The width of each bin is the distance between the minimum and maximum values of each bin.\n",
    "\"\"\""
   ]
  },
  {
   "cell_type": "code",
   "execution_count": 4,
   "metadata": {},
   "outputs": [],
   "source": [
    "import numpy as np\n",
    "from matplotlib import pyplot as plt"
   ]
  },
  {
   "cell_type": "code",
   "execution_count": null,
   "metadata": {},
   "outputs": [],
   "source": [
    "# to plot a histogram --> plt.hist(data)\n",
    "# to display the histogram --> plt.show()\n",
    "\"\"\"\n",
    "When we enter plt.hist with no keyword arguments, matplotlib will automatically make a histogram with 10 bins of equal width that span the \n",
    "entire range of our data. If you want a different number of bins, use the keyword bins. --> plt.hist(data, bins=5)\n",
    "\"\"\""
   ]
  },
  {
   "cell_type": "code",
   "execution_count": null,
   "metadata": {},
   "outputs": [],
   "source": [
    "\"\"\"\n",
    "If you want a different range, you can pass in the minimum and maximum values that you want to histogram using the keyword range. We pass in\n",
    "a tuple of two numbers. The first number is the minimum value that we want to plot and the second value is the number that we want to plot \n",
    "up to, but not including.\n",
    "\"\"\""
   ]
  },
  {
   "cell_type": "code",
   "execution_count": 5,
   "metadata": {},
   "outputs": [
    {
     "data": {
      "image/png": "[encoded data removed]",
      "text/plain": [
       "<Figure size 432x288 with 1 Axes>"
      ]
     },
     "metadata": {
      "needs_background": "light"
     },
     "output_type": "display_data"
    }
   ],
   "source": [
    "d = np.array([1, 1, 1, 2, 2, 2, 2, 2, 3, 3, 4, 4, 4, 4, 5])\n",
    "plt.hist(d, bins=5, range=(1, 6))\n",
    "plt.show()"
   ]
  },
  {
   "cell_type": "markdown",
   "metadata": {},
   "source": [
    "# Different Types of Distributions:"
   ]
  },
  {
   "cell_type": "code",
   "execution_count": null,
   "metadata": {},
   "outputs": [],
   "source": [
    "\"\"\"\n",
    "One way to classify a dataset is by counting the number of distinct peaks present in the graph. Peaks represent concentrations of data. \n",
    "- A unimodal dataset has only one distinct peak.\n",
    "- A bimodal dataset has two distinct peaks. This often happens when the data contains two different populations.\n",
    "- A multimodal dataset has more than two peaks.\n",
    "- A uniform dataset doesn’t have any distinct peaks.\n",
    "\"\"\""
   ]
  },
  {
   "cell_type": "code",
   "execution_count": null,
   "metadata": {},
   "outputs": [],
   "source": [
    "\"\"\"\n",
    "The type of distribution affects the position of the mean and median. \n",
    "In heavily skewed distributions, the mean becomes a less useful measurement.\n",
    "** A symmetric dataset has equal amounts of data on both sides of the peak. Both sides should look about the same.\n",
    "** A skew-right dataset has a long tail on the right of the peak, but most of the data is on the left.\n",
    "** A skew-left dataset has a long tail on the left of the peak, but most of the data is on the right.\n",
    "\"\"\""
   ]
  },
  {
   "cell_type": "markdown",
   "metadata": {},
   "source": [
    "# Normal Distribution:"
   ]
  },
  {
   "cell_type": "code",
   "execution_count": null,
   "metadata": {},
   "outputs": [],
   "source": [
    "\"\"\"\n",
    "The most common distribution in statistics is known as the normal distribution, which is a symmetric, unimodal distribution.\n",
    "\n",
    "Lots of things follow a normal distribution:\n",
    "- The heights of a large group of people\n",
    "- Blood pressure measurements for a group of healthy people\n",
    "- Errors in measurements\n",
    "\n",
    "Normal distributions are defined by their mean and standard deviation. The mean sets the “middle” of the distribution, and the \n",
    "standard deviation sets the “width” of the distribution. A larger standard deviation leads to a wider distribution. A smaller \n",
    "standard deviation leads to a skinnier distribution.\n",
    "\"\"\""
   ]
  },
  {
   "cell_type": "code",
   "execution_count": 6,
   "metadata": {},
   "outputs": [
    {
     "data": {
      "text/plain": [
       "array([ 0.65090342,  0.09506076,  1.09701881, ...,  0.41389336,\n",
       "        0.3661623 , -0.29877978])"
      ]
     },
     "execution_count": 6,
     "metadata": {},
     "output_type": "execute_result"
    }
   ],
   "source": [
    "# In order to create these datasets, we need to use a random number generator. The NumPy library has several functions for generating random \n",
    "# numbers, including one specifically built to generate a set of numbers that fit a normal distribution: np.random.normal. \n",
    "\n",
    "# This function takes the following keyword arguments:\n",
    "# - loc: the mean for the normal distribution\n",
    "# - scale: the standard deviation of the distribution\n",
    "# - size: the number of random numbers to generate\n",
    "\n",
    "a = np.random.normal(0, 1, size=100000)\n",
    "a"
   ]
  },
  {
   "cell_type": "code",
   "execution_count": null,
   "metadata": {},
   "outputs": [],
   "source": [
    "\"\"\"\n",
    "EXERCISE:\n",
    "\n",
    "Our friend is a paleontologist. He’s studying two types of dinosaurs: brachiosaurus and fictionosaurus. He tells us that:\n",
    "- Brachiosaurus have femurs (thigh bone) with mean length of 6.7 ft and a standard deviation of 0.7 ft.\n",
    "- Fictionosaurus have femurs (thigh bone) with mean length of 7.7 ft and a standard deviation of 0.3 ft.\n",
    "\n",
    "We’d like to know what these distributions look like. Use np.random.normal to fill in b_data (brachiosaurus) and f_data (fictionosaurus) \n",
    "with randomly generated samples with the correct mean and standard deviation. Each dataset should have 1000 samples.\n",
    "\"\"\""
   ]
  },
  {
   "cell_type": "code",
   "execution_count": 7,
   "metadata": {},
   "outputs": [
    {
     "data": {
      "image/png": "[encoded data removed]",
      "text/plain": [
       "<Figure size 432x288 with 1 Axes>"
      ]
     },
     "metadata": {
      "needs_background": "light"
     },
     "output_type": "display_data"
    }
   ],
   "source": [
    "b_data = np.random.normal(6.7, 0.7, size=1000)\n",
    "f_data = np.random.normal(7.7, 0.3, size=1000)\n",
    "\n",
    "plt.hist(b_data, bins=30, range=(5, 8.5), histtype='step', label='Brachiosaurus')\n",
    "plt.hist(f_data, bins=30, range=(5, 8.5), histtype='step', label='Fictionosaurus')\n",
    "plt.xlabel('Femur Length (ft)')\n",
    "plt.legend(loc=2)\n",
    "plt.show()"
   ]
  },
  {
   "cell_type": "code",
   "execution_count": null,
   "metadata": {},
   "outputs": [],
   "source": [
    "\"\"\"\n",
    "Suppose that we have a normal distribution with a mean of 50 and a standard deviation of 10. When we say “within one standard deviation of \n",
    "the mean”, this is what we are saying mathematically: \n",
    "lower_bound = mean - std\n",
    "            = 50 - 10\n",
    "            = 40\n",
    " \n",
    "upper_bound = mean + std\n",
    "            = 50 + 10\n",
    "            = 60\n",
    "            \n",
    "It turns out that we can expect about 68% of our dataset to be between 40 and 60, for this distribution.\n",
    "\n",
    "As we saw in the previous exercise, no matter what mean and standard deviation we choose, 68% of our samples will fall between +/- 1 \n",
    "standard deviation of the mean! In fact, here are a few more helpful rules for normal distributions:\n",
    "** 68% of our samples will fall between +/- 1 standard deviation of the mean\n",
    "** 95% of our samples will fall between +/- 2 standard deviations of the mean\n",
    "** 99.7% of our samples will fall between +/- 3 standard deviations of the mean\n",
    "\"\"\""
   ]
  },
  {
   "cell_type": "code",
   "execution_count": 8,
   "metadata": {},
   "outputs": [
    {
     "name": "stdout",
     "output_type": "stream",
     "text": [
      "1100 900 1360\n"
     ]
    }
   ],
   "source": [
    "# The average score on the SATs is 1000 and the standard deviation is 100. Calculate the amount that would be one standard deviation \n",
    "# above the mean, and save it to the variable one_above. Calculate the amount that would be one standard deviation below the mean, and \n",
    "# save it to the variable one_below. \n",
    "# 2000 students took the exam. How many would you expect to have scores within the range of one_above and one_below?\n",
    "one_above = 1000 + 100\n",
    "one_below = 1000 - 100\n",
    "one_std = 1360\n",
    "print(one_above, one_below, one_std)"
   ]
  },
  {
   "cell_type": "markdown",
   "metadata": {},
   "source": [
    "# Binomial Distribution:"
   ]
  },
  {
   "cell_type": "code",
   "execution_count": null,
   "metadata": {},
   "outputs": [],
   "source": [
    "\"\"\"\n",
    "The binomial distribution tells us how likely it is for a certain number of “successes” to happen, \n",
    "given a probability of success and a number of trials.\n",
    "\n",
    "It’s known that a certain basketball player makes 30% of his free throws. On Friday night’s game, he had the chance to shoot 10 free throws.\n",
    "How many free throws might you expect him to make? We would expect 0.30 * 10 = 3.\n",
    "However, he actually made 4 free throws out of 10 or 40%. Is this surprising? Does this mean that he’s actually better than we thought?\n",
    "In this example:\n",
    "The probability of success was 30% (he makes 30% of free throws)\n",
    "The number of trials was 10 (he took 10 shots)\n",
    "The number of successes was 4 (he made 4 shots)\n",
    "The binomial distribution is important because it allows us to know how likely a certain outcome is, \n",
    "even when it’s not the expected one. It’s not that unlikely an outcome for our basketball player to \n",
    "get 4 free throws out of 10. However, it would be pretty unlikely for him to get all 10.\n",
    "\"\"\""
   ]
  },
  {
   "cell_type": "code",
   "execution_count": null,
   "metadata": {},
   "outputs": [],
   "source": [
    "\"\"\"\n",
    "For instance, suppose we want to know the different probabilities of our basketball player making 1, 2, 3, etc. out of 10 shots.\n",
    "\n",
    "NumPy has a function for generating binomial distributions: np.random.binomial, which we can use to determine the probability of \n",
    "different outcomes. The function will return the number of successes for each “experiment”.\n",
    "\n",
    "It takes the following arguments:\n",
    "- N: The number of samples or trials\n",
    "- P: The probability of success \n",
    "- size: The number of experiments\n",
    "\n",
    "Let’s generate a bunch of “experiments” of our basketball player making 10 shots. We choose a big N to be sure that our probabilities converge on the correct answer.\n",
    "\"\"\""
   ]
  },
  {
   "cell_type": "code",
   "execution_count": 17,
   "metadata": {},
   "outputs": [
    {
     "data": {
      "image/png": "[encoded data removed]",
      "text/plain": [
       "<Figure size 432x288 with 1 Axes>"
      ]
     },
     "metadata": {
      "needs_background": "light"
     },
     "output_type": "display_data"
    }
   ],
   "source": [
    "# Let's generate 10,000 \"experiments\"\n",
    "# N = 10 shots\n",
    "# P = 0.30 (30% he'll get a free throw)\n",
    " \n",
    "b = np.random.binomial(10, 0.30, size=10000)\n",
    "# Now we have a record of 10,000 experiments. We can use Matplotlib to plot the results of all of these experiments:\n",
    "plt.hist(b, range=(0, 10), bins=10)\n",
    "plt.xlabel('Number of \"Free Throws\"')\n",
    "plt.ylabel('Frequency')\n",
    "plt.show()"
   ]
  },
  {
   "cell_type": "code",
   "execution_count": 18,
   "metadata": {},
   "outputs": [
    {
     "data": {
      "image/png": "[encoded data removed]",
      "text/plain": [
       "<Figure size 432x288 with 1 Axes>"
      ]
     },
     "metadata": {
      "needs_background": "light"
     },
     "output_type": "display_data"
    }
   ],
   "source": [
    "# A person sends 500 emails asking people to donate to their cause, with an estimated probability that 25 people (5%) will \n",
    "# open the email and click to donate. There were 10,000 experiments. Using the binomial distribution formula, calculate \n",
    "# the distribution and save it to the variable emails.\n",
    "\n",
    "emails = np.random.binomial(500, 0.05, 10000)\n",
    "plt.hist(emails, bins=10, range=(5,45))\n",
    "plt.title(\"Email Experiment\")\n",
    "plt.xlabel(\"Number of Donations\")\n",
    "plt.ylabel(\"Number of Experiments\")\n",
    "plt.show()"
   ]
  },
  {
   "cell_type": "code",
   "execution_count": 19,
   "metadata": {},
   "outputs": [
    {
     "data": {
      "text/plain": [
       "0.1995"
      ]
     },
     "execution_count": 19,
     "metadata": {},
     "output_type": "execute_result"
    }
   ],
   "source": [
    "# Binomial Distributiions and Probability:\n",
    "\"\"\"\n",
    "Let’s return to our original question: Our basketball player has a 30% chance of making any individual basket. He took 10 shots and made 4 \n",
    "of them, even though we only expected him to make 3. What percent chance did he have of making those 4 shots?\n",
    "\n",
    "We can calculate a different probability by counting the percent of experiments with the same outcome, using the np.mean function. Remember \n",
    "that taking the mean of a logical statement will give us the percent of values that satisfy our logical statement.\n",
    "\"\"\"\n",
    "# probability that he makes 4 baskets:\n",
    "bb = np.random.binomial(10, 0.30, size=10000)\n",
    "np.mean(bb == 4)\n",
    "\"\"\"\n",
    "Remember, because we’re using a random number generator, we’ll get a slightly different result each time. With the large *size we chose, \n",
    "the calculated probability should be accurate to about 2 decimal places.* So, our basketball player has a roughly 20% chance of making \n",
    "4 baskets. This suggests that what we observed wasn’t that unlikely. It’s quite possible that he hasn’t got any better; he just got lucky.\n",
    "\"\"\""
   ]
  },
  {
   "cell_type": "code",
   "execution_count": 21,
   "metadata": {},
   "outputs": [
    {
     "name": "stdout",
     "output_type": "stream",
     "text": [
      "0.0 0.0025\n"
     ]
    }
   ],
   "source": [
    "\"\"\"\n",
    "Let’s return to our email example. Remember that we sent 500 emails, with an estimated probability that 25 people would open the email. \n",
    "There were 10,000 trials. What is the probability that no one opens the email? Save the results to the variable no_emails.\n",
    "\n",
    "You recently hired a new marketing associate who wants to A/B test two emails to see if people respond better. What’s the probability \n",
    "that 8% or more of people will open the email? Save the results to the variable b_test_emails.\n",
    "\"\"\"\n",
    "emails = np.random.binomial(500, 0.05, size=10000)\n",
    "no_emails = np.mean(emails==0)\n",
    "b_test_emails = np.mean(emails >= 40)\n",
    "print(no_emails, b_test_emails)"
   ]
  },
  {
   "cell_type": "code",
   "execution_count": null,
   "metadata": {},
   "outputs": [],
   "source": []
  }
 ],
 "metadata": {
  "kernelspec": {
   "display_name": "Python 3",
   "language": "python",
   "name": "python3"
  },
  "language_info": {
   "codemirror_mode": {
    "name": "ipython",
    "version": 3
   },
   "file_extension": ".py",
   "mimetype": "text/x-python",
   "name": "python",
   "nbconvert_exporter": "python",
   "pygments_lexer": "ipython3",
   "version": "3.8.5"
  }
 },
 "nbformat": 4,
 "nbformat_minor": 4
}
