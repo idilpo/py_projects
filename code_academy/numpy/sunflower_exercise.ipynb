{
 "cells": [
  {
   "cell_type": "markdown",
   "metadata": {},
   "source": [
    "# Sunflower Heights Data Exercise"
   ]
  },
  {
   "cell_type": "code",
   "execution_count": 1,
   "metadata": {},
   "outputs": [],
   "source": [
    "import numpy as np\n",
    "from matplotlib import pyplot as plt"
   ]
  },
  {
   "cell_type": "code",
   "execution_count": null,
   "metadata": {},
   "outputs": [],
   "source": [
    "\"\"\"\n",
    "Practice what you’ve just learned with a dataset on sunflower heights! Imagine that you work for a botanical garden and you want to see how \n",
    "the sunflowers you planted last year did to see if you want to plant more of them. Calculate the mean and standard deviation of this dataset.\n",
    "Save the mean to sunflowers_mean and the standard deviation to sunflowers_std.\n",
    "\n",
    "We can see from the histogram that our data isn’t normally distributed. Let’s create a normally distributed sample to compare against what we\n",
    "observed. Generate 5,000 random samples with the same mean and standard deviation as sunflowers. Save these to sunflowers_normal.\n",
    "\n",
    "Generally, 10% of sunflowers that are planted fail to bloom. We planted 200, and want to know the probability that fewer than 20 will fail to\n",
    "bloom. First, generate 5,000 binomial random numbers that represent our situation. Save them to experiments.\n",
    "\n",
    "What percent of experiments had fewer than 20 sunflowers fail to bloom? Save your answer to the variable prob. This is the approximate \n",
    "probability that fewer than 20 of our sunflowers will fail to bloom.\n",
    "\"\"\""
   ]
  },
  {
   "cell_type": "code",
   "execution_count": 18,
   "metadata": {},
   "outputs": [],
   "source": [
    "sunflowers = np.array([[ 13.89, 14.7, 13., 11.37, 12.1, 11.82, 13.09, 13.78, 12., 12.83, 12.1, 11.09, 13.32, 11.86, 14.35, 11.7, 12.85, 14.,\n",
    "                       13.83, 12.02, 12.05, 14.1,  12.39, 11.83, 13.18, 11.43, 14.61, 13.12, 11.5, 11.15, 12.64, 14.07, 12.44, 11.21, 14.31,\n",
    "                       14.62, 14.67, 14.55, 12.72, 11.19, 13.27, 12.02, 13.79, 13.14, 14.51, 12.37, 14.06, 14.36, 11.24, 14.73, 13.03, 13.86,\n",
    "                       13.33, 11.3,  12.18, 11.75, 14.69, 14.18, 14.05, 12.58, 14.53, 12.45, 14.44, 12.76, 11.65, 14.7,  14.54, 12.98, 13.08,\n",
    "                       14.63, 13.22, 12.59, 14.62, 11.37, 14.55, 14.7,  14.89, 11.45, 14.74, 13.78, 13.62, 12.36, 11.15, 11.15, 13.1,  12.82,\n",
    "                       12.34, 13.25, 12.1,  14.69, 14.58, 14.89, 14.03, 12.29, 12.03, 11.83, 13.57, 11.75, 13.64, 12.42, 13.07, 12.97, 14.89,\n",
    "                       11.23, 13.45, 14.11, 12.47, 12.24, 13.9,  12.85, 14.65, 13.54, 12.76, 12.41, 11.61, 11.77, 11.44, 13.85, 13.02, 14.61,\n",
    "                       13.68, 12.99, 11.88, 12.48, 12.78, 12.23, 13.88, 12.83, 13.41, 13.9, 12.35, 12.91, 11.32, 13.63, 11.37, 12.87, 11.27,\n",
    "                       12.56, 11.87, 12.53, 14.5,  11.38, 11.25, 11.13, 13.7, 12.58, 11.88, 14.5, 11.91, 13.87, 14.38, 12.04, 13.61, 13.1,\n",
    "                       12.96, 12.3, 14.54, 13.66, 14.86, 12.42, 14.34, 14.1, 12.37, 14.33, 11.64, 13.45, 13.49, 13.55, 12.65, 11.54, 12.48,\n",
    "                       12.26, 13.93, 11.98, 12.04, 14.59, 11.51, 12.49, 13.71, 11.26, 12.15, 13.84, 14.62, 11.76, 12.59, 13.56, 12.21, 11.24,\n",
    "                       14.47, 14.63, 12.51, 11.43, 14.84, 14.14, 14.16, 12.93, 13.19, 11.53, 12.78, 12.79]])"
   ]
  },
  {
   "cell_type": "code",
   "execution_count": 19,
   "metadata": {},
   "outputs": [
    {
     "data": {
      "image/png": "[encoded data removed]",
      "text/plain": [
       "<Figure size 432x288 with 1 Axes>"
      ]
     },
     "metadata": {
      "needs_background": "light"
     },
     "output_type": "display_data"
    },
    {
     "name": "stdout",
     "output_type": "stream",
     "text": [
      "0.4738\n"
     ]
    }
   ],
   "source": [
    "# Calculate mean and std of sunflowers:\n",
    "sunflowers_mean = np.mean(sunflowers)\n",
    "sunflowers_std = np.std(sunflowers)\n",
    "\n",
    "# Calculate sunflowers_normal:\n",
    "sunflowers_normal= np.random.normal(sunflowers_mean, sunflowers_std, 5000)\n",
    "\n",
    "plt.hist(sunflowers, range=(11, 15), histtype='step', linewidth=2, label='observed', ec=\"blue\")\n",
    "plt.hist(sunflowers_normal, range=(11, 15), histtype='step', linewidth=2, label='normal', ec=\"red\")\n",
    "plt.legend()\n",
    "plt.show()\n",
    "\n",
    "# Calculate probabilities:\n",
    "experiments = np.random.binomial(200, 0.1, 5000)\n",
    "prob = np.mean(experiments < 20)\n",
    "print(prob)"
   ]
  },
  {
   "cell_type": "code",
   "execution_count": null,
   "metadata": {},
   "outputs": [],
   "source": []
  }
 ],
 "metadata": {
  "kernelspec": {
   "display_name": "Python 3",
   "language": "python",
   "name": "python3"
  },
  "language_info": {
   "codemirror_mode": {
    "name": "ipython",
    "version": 3
   },
   "file_extension": ".py",
   "mimetype": "text/x-python",
   "name": "python",
   "nbconvert_exporter": "python",
   "pygments_lexer": "ipython3",
   "version": "3.8.5"
  }
 },
 "nbformat": 4,
 "nbformat_minor": 4
}
