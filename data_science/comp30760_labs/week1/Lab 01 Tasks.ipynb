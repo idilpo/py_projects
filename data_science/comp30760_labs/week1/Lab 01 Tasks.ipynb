{
 "cells": [
  {
   "cell_type": "markdown",
   "metadata": {},
   "source": [
    "# Lab 1 Tasks\n",
    "\n",
    "The code below creates two Python lists -- one list with English words, and a corresponding list with French words."
   ]
  },
  {
   "cell_type": "code",
   "execution_count": 2,
   "metadata": {},
   "outputs": [],
   "source": [
    "english = [\"hello\", \"cat\", \"dog\", \"yes\", \"tomorrow\", \"yesterday\", \"fish\", \n",
    "          \"difficult\", \"easy\", \"bad\", \"no\", \"tuesday\", \"january\", \"world\"]"
   ]
  },
  {
   "cell_type": "code",
   "execution_count": 3,
   "metadata": {},
   "outputs": [],
   "source": [
    "french = [\"bonjour\", \"chat\", \"chien\", \"oui\", \"demain\", \"hier\", \"poisson\",\n",
    "          \"difficile\", \"facile\", \"mauvais\", \"non\", \"mardi\", \"janvier\", \"monde\"]"
   ]
  },
  {
   "cell_type": "markdown",
   "metadata": {},
   "source": [
    "### Task 1\n",
    "\n",
    "Confirm that both lists contain an equal number of values."
   ]
  },
  {
   "cell_type": "code",
   "execution_count": 4,
   "metadata": {},
   "outputs": [
    {
     "name": "stdout",
     "output_type": "stream",
     "text": [
      "True\n"
     ]
    }
   ],
   "source": [
    "print(len(english) == len(french))"
   ]
  },
  {
   "cell_type": "markdown",
   "metadata": {},
   "source": [
    "### Task 2\n",
    "\n",
    "Create a Python dictionary, which maps English words to French words, using the two lists above. "
   ]
  },
  {
   "cell_type": "code",
   "execution_count": 5,
   "metadata": {},
   "outputs": [
    {
     "name": "stdout",
     "output_type": "stream",
     "text": [
      "{'hello': 'bonjour', 'cat': 'chat', 'dog': 'chien', 'yes': 'oui', 'tomorrow': 'demain', 'yesterday': 'hier', 'fish': 'poisson', 'difficult': 'difficile', 'easy': 'facile', 'bad': 'mauvais', 'no': 'non', 'tuesday': 'mardi', 'january': 'janvier', 'world': 'monde'}\n"
     ]
    }
   ],
   "source": [
    "englishToFrench = {}\n",
    "englishToFrench = dict(zip(english, french))\n",
    "# for i in range(len(english)):\n",
    "# print(english[i],french)\n",
    "print(englishToFrench)"
   ]
  },
  {
   "cell_type": "markdown",
   "metadata": {},
   "source": [
    "### Task 3\n",
    "\n",
    "Remove all key-value pairs from the dictionary above, where the keys (i.e. the English words) contain less than 4 characters."
   ]
  },
  {
   "cell_type": "code",
   "execution_count": 6,
   "metadata": {},
   "outputs": [
    {
     "name": "stdout",
     "output_type": "stream",
     "text": [
      "{'hello': 'bonjour', 'tomorrow': 'demain', 'yesterday': 'hier', 'difficult': 'difficile', 'tuesday': 'mardi', 'january': 'janvier', 'world': 'monde'}\n"
     ]
    }
   ],
   "source": [
    "new_dict = {}\n",
    "for key, value in englishToFrench.items():\n",
    "    if len(key) > 4:\n",
    "        new_dict[key] = value\n",
    "print(new_dict)"
   ]
  },
  {
   "cell_type": "markdown",
   "metadata": {},
   "source": [
    "### Task 4\n",
    "\n",
    "For the remaining words, print an alphabetically-ordered list of the English words and their corresponding French translations."
   ]
  },
  {
   "cell_type": "code",
   "execution_count": 7,
   "metadata": {},
   "outputs": [
    {
     "name": "stdout",
     "output_type": "stream",
     "text": [
      "bad : mauvais\n",
      "cat : chat\n",
      "difficult : difficile\n",
      "dog : chien\n",
      "easy : facile\n",
      "fish : poisson\n",
      "hello : bonjour\n",
      "january : janvier\n",
      "no : non\n",
      "tomorrow : demain\n",
      "tuesday : mardi\n",
      "world : monde\n",
      "yes : oui\n",
      "yesterday : hier\n"
     ]
    }
   ],
   "source": [
    "for k,v in sorted(englishToFrench.items()):\n",
    "    print(k, \":\", v)"
   ]
  },
  {
   "cell_type": "markdown",
   "metadata": {},
   "source": [
    "### Task 5\n",
    "\n",
    "Write a new function named *translate()* which accepts 3 parameters: a translation dictionary, a word to translate, and a default word. If the word is in the dictionary, the function should return the translated word. Otherwise, it should return the default word."
   ]
  },
  {
   "cell_type": "code",
   "execution_count": 11,
   "metadata": {},
   "outputs": [
    {
     "name": "stdout",
     "output_type": "stream",
     "text": [
      "difficile\n",
      "hello\n",
      "default\n"
     ]
    }
   ],
   "source": [
    "def translate(d, word, default_w):\n",
    "    for k,v in d.items():\n",
    "        if word in d.keys():\n",
    "            return d[word]\n",
    "        elif word in d.values():\n",
    "            for i in d:\n",
    "                if d[i]==word:\n",
    "                    return i\n",
    "        else: \n",
    "            return default_w\n",
    "\n",
    "print(translate(new_dict, 'difficult', 'default'))\n",
    "print(translate(new_dict, 'bonjour', 'default'))\n",
    "print(translate(new_dict, 'yo', 'default'))"
   ]
  },
  {
   "cell_type": "code",
   "execution_count": null,
   "metadata": {},
   "outputs": [],
   "source": []
  }
 ],
 "metadata": {
  "kernelspec": {
   "display_name": "Python 3",
   "language": "python",
   "name": "python3"
  },
  "language_info": {
   "codemirror_mode": {
    "name": "ipython",
    "version": 3
   },
   "file_extension": ".py",
   "mimetype": "text/x-python",
   "name": "python",
   "nbconvert_exporter": "python",
   "pygments_lexer": "ipython3",
   "version": "3.8.5"
  }
 },
 "nbformat": 4,
 "nbformat_minor": 1
}
