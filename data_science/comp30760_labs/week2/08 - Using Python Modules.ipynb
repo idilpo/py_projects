{
 "cells": [
  {
   "cell_type": "markdown",
   "metadata": {},
   "source": [
    "# Using Python Modules"
   ]
  },
  {
   "cell_type": "markdown",
   "metadata": {},
   "source": [
    "A *module* is a single file of Python code, often containing functions and variables related to a particular programming task."
   ]
  },
  {
   "cell_type": "markdown",
   "metadata": {},
   "source": [
    "## Importing Modules\n",
    "\n",
    "Accessing the contents of a module requires first importing the module for use in the current Python environment. There are two different ways to do this."
   ]
  },
  {
   "cell_type": "markdown",
   "metadata": {},
   "source": [
    "In the first approach, we import a whole module using the syntax below. "
   ]
  },
  {
   "cell_type": "code",
   "execution_count": null,
   "metadata": {},
   "outputs": [],
   "source": [
    "import sys"
   ]
  },
  {
   "cell_type": "markdown",
   "metadata": {},
   "source": [
    "Once we have imported an entire module, we can access the functions or variables in the module by prefixing their names with the module name followed by a dot (i.e. dot notation)."
   ]
  },
  {
   "cell_type": "code",
   "execution_count": null,
   "metadata": {},
   "outputs": [],
   "source": [
    "# what version of Python are we running here?\n",
    "print(sys.version)"
   ]
  },
  {
   "cell_type": "markdown",
   "metadata": {},
   "source": [
    "In the second approach, we can import only a subset of functionality from a module (i.e. certain functions or variables):"
   ]
  },
  {
   "cell_type": "code",
   "execution_count": null,
   "metadata": {},
   "outputs": [],
   "source": [
    "from sys import version"
   ]
  },
  {
   "cell_type": "markdown",
   "metadata": {},
   "source": [
    "In this case we do not need to prefix the functions or variables that we have imported:"
   ]
  },
  {
   "cell_type": "code",
   "execution_count": null,
   "metadata": {},
   "outputs": [],
   "source": [
    "print(version)"
   ]
  },
  {
   "cell_type": "markdown",
   "metadata": {},
   "source": [
    "We can import multiple functions or variables at once using this syntax:"
   ]
  },
  {
   "cell_type": "code",
   "execution_count": null,
   "metadata": {},
   "outputs": [],
   "source": [
    "from sys import version, copyright\n",
    "# display the string containing copyright information pertaining to the Python interpreter\n",
    "print(copyright)"
   ]
  },
  {
   "cell_type": "markdown",
   "metadata": {},
   "source": [
    "## Mathematical Functionality\n",
    "\n",
    "Python has a built-in *math* module that provides most basic mathematical functions."
   ]
  },
  {
   "cell_type": "code",
   "execution_count": null,
   "metadata": {},
   "outputs": [],
   "source": [
    "import math"
   ]
  },
  {
   "cell_type": "markdown",
   "metadata": {},
   "source": [
    "Once we have imported the entire module, we can call any functions within the module by prefixing them with *math*:"
   ]
  },
  {
   "cell_type": "code",
   "execution_count": null,
   "metadata": {},
   "outputs": [],
   "source": [
    "math.sqrt(25)"
   ]
  },
  {
   "cell_type": "code",
   "execution_count": null,
   "metadata": {},
   "outputs": [],
   "source": [
    "n = 89.734\n",
    "# round down the number\n",
    "print(math.floor(n))\n",
    "# round up the number\n",
    "print(math.ceil(n))"
   ]
  },
  {
   "cell_type": "markdown",
   "metadata": {},
   "source": [
    "We can calculate exponents and logarithms:"
   ]
  },
  {
   "cell_type": "code",
   "execution_count": null,
   "metadata": {},
   "outputs": [],
   "source": [
    "for x in range(2, 11, 2):\n",
    "    # raise x to the power of 3\n",
    "    cube = math.pow(x, 3)\n",
    "    print(\"Cube of %d is %d\" % ( x, cube ))"
   ]
  },
  {
   "cell_type": "code",
   "execution_count": null,
   "metadata": {},
   "outputs": [],
   "source": [
    "for x in range(2, 11, 2):\n",
    "    log2value = math.log2(x)\n",
    "    log10value = math.log10(x)\n",
    "    print(\"For %d\\tlog2=%.3f log10=%.3f\" % ( x, log2value, log10value ))"
   ]
  },
  {
   "cell_type": "markdown",
   "metadata": {},
   "source": [
    "Standard trigonometrical functions are also implemented in the module. They take radian values as inputs, rather than degrees."
   ]
  },
  {
   "cell_type": "code",
   "execution_count": null,
   "metadata": {},
   "outputs": [],
   "source": [
    "for deg in range(0, 361, 30):\n",
    "    # need to convert degrees to radians\n",
    "    rad = math.radians(deg)\n",
    "    sinvalue = math.sin(rad)\n",
    "    cosvalue = math.cos(rad)\n",
    "    print(\"%d degrees\\t(%.3f radians)\\t sin=%.3f\\tcos=%.3f\" % ( deg, rad, sinvalue, cosvalue ))"
   ]
  },
  {
   "cell_type": "markdown",
   "metadata": {},
   "source": [
    "Many math operations depend on special constants, which are variables in the *math* module:"
   ]
  },
  {
   "cell_type": "code",
   "execution_count": null,
   "metadata": {},
   "outputs": [],
   "source": [
    "print('pi: %.10f' % math.pi )\n",
    "print('e:  %.10f' % math.e )"
   ]
  },
  {
   "cell_type": "markdown",
   "metadata": {},
   "source": [
    "Note that we can also access all of these functions and variables using the alternative module import syntax:"
   ]
  },
  {
   "cell_type": "code",
   "execution_count": null,
   "metadata": {},
   "outputs": [],
   "source": [
    "from math import pi, e\n",
    "print(pi, e)"
   ]
  },
  {
   "cell_type": "markdown",
   "metadata": {},
   "source": [
    "## Random Number Generation\n",
    "\n",
    "The *random* module provides functions that generate pseudorandom numbers - i.e. not truly random because they are generated by a deterministic computation, but are generally indistinguishable from them."
   ]
  },
  {
   "cell_type": "code",
   "execution_count": null,
   "metadata": {},
   "outputs": [],
   "source": [
    "import random"
   ]
  },
  {
   "cell_type": "markdown",
   "metadata": {},
   "source": [
    "The function *random()* returns a random float between 0.0 and 1.0. Each time we call it, we get the next number from a series."
   ]
  },
  {
   "cell_type": "code",
   "execution_count": null,
   "metadata": {},
   "outputs": [],
   "source": [
    "for i in range(5):\n",
    "    print(random.random())"
   ]
  },
  {
   "cell_type": "markdown",
   "metadata": {},
   "source": [
    "To return a random float in a specified range, use the *uniform()* function:"
   ]
  },
  {
   "cell_type": "code",
   "execution_count": null,
   "metadata": {},
   "outputs": [],
   "source": [
    "for i in range(5):\n",
    "    # Return a value N, where 0 <= N <= 10\n",
    "    print(random.uniform(0, 10))"
   ]
  },
  {
   "cell_type": "markdown",
   "metadata": {},
   "source": [
    "The function *randint()* returns a random integer from the specified range:"
   ]
  },
  {
   "cell_type": "code",
   "execution_count": null,
   "metadata": {},
   "outputs": [],
   "source": [
    "for i in range(10):\n",
    "    print(random.randint(1, 100))"
   ]
  },
  {
   "cell_type": "markdown",
   "metadata": {},
   "source": [
    "The function *choice()* randomly chooses a value from a list, with replacement:"
   ]
  },
  {
   "cell_type": "code",
   "execution_count": null,
   "metadata": {},
   "outputs": [],
   "source": [
    "countries = [\"Ireland\", \"Slovakia\", \"France\", \"Spain\", \"Sweden\", \"Germany\", \"Italy\", \"Greece\"]\n",
    "for i in range(5):\n",
    "    # pick one at random\n",
    "    print(random.choice(countries))"
   ]
  },
  {
   "cell_type": "markdown",
   "metadata": {},
   "source": [
    "We can also randomly shuffle a list in place (i.e the original list is modified):"
   ]
  },
  {
   "cell_type": "code",
   "execution_count": null,
   "metadata": {},
   "outputs": [],
   "source": [
    "#shuffle the list \n",
    "random.shuffle(countries)\n",
    "print(countries)\n",
    "# shuffle again\n",
    "random.shuffle(countries)\n",
    "print(countries)"
   ]
  },
  {
   "cell_type": "markdown",
   "metadata": {},
   "source": [
    "If we want to randomly choose a subset of a list, we can call the *sample()* function:"
   ]
  },
  {
   "cell_type": "code",
   "execution_count": null,
   "metadata": {},
   "outputs": [],
   "source": [
    "# randomly select 3 values\n",
    "sublist1 = random.sample(countries,3)\n",
    "print(sublist1)\n",
    "# randomly select another 3 values\n",
    "sublist2 = random.sample(countries,3)\n",
    "print(sublist2)"
   ]
  },
  {
   "cell_type": "markdown",
   "metadata": {},
   "source": [
    "## Collections\n",
    "\n",
    "Collections in Python are data structures that are used to contain other values. Some of the collections are built-in - e.g. lists, sets, dictionaries. Additional types of data structures are provied in the Python *collections* module."
   ]
  },
  {
   "cell_type": "code",
   "execution_count": null,
   "metadata": {},
   "outputs": [],
   "source": [
    "import collections"
   ]
  },
  {
   "cell_type": "markdown",
   "metadata": {},
   "source": [
    "One such structure is a *Counter*. It acts like a dictionary with key-value pairs, but is designed to be high performance for applications specific to tallying (i.e. counting the occurrence of things). "
   ]
  },
  {
   "cell_type": "code",
   "execution_count": null,
   "metadata": {},
   "outputs": [],
   "source": [
    "counts = collections.Counter()"
   ]
  },
  {
   "cell_type": "code",
   "execution_count": null,
   "metadata": {},
   "outputs": [],
   "source": [
    "grades = [\"A\", \"B\", \"C\", \"D\", \"E\", \"F\"]\n",
    "for i in range(1,100):\n",
    "    # pick a random grade\n",
    "    grade = random.choice(grades)\n",
    "    # note that the key doesn't have to exist already, unlike a dict\n",
    "    counts[grade] += 1"
   ]
  },
  {
   "cell_type": "markdown",
   "metadata": {},
   "source": [
    "We can print out the key-value pairs like a dictionary:"
   ]
  },
  {
   "cell_type": "code",
   "execution_count": null,
   "metadata": {},
   "outputs": [],
   "source": [
    "for key in counts:\n",
    "    print(key, counts[key])"
   ]
  },
  {
   "cell_type": "markdown",
   "metadata": {},
   "source": [
    "We can easily get the top most frequent values in a Counter by calling the associated *most_common()* function:"
   ]
  },
  {
   "cell_type": "code",
   "execution_count": null,
   "metadata": {},
   "outputs": [],
   "source": [
    "# get the top 3 most common grades\n",
    "counts.most_common(3)"
   ]
  },
  {
   "cell_type": "markdown",
   "metadata": {},
   "source": [
    "In the next example, we use a *Counter* to count the number of times different letters appear in a string of text:"
   ]
  },
  {
   "cell_type": "code",
   "execution_count": null,
   "metadata": {},
   "outputs": [],
   "source": [
    "text = \"\"\"University College Dublin is the largest university in Ireland\n",
    "and is a member institution of the National University of Ireland.\"\"\""
   ]
  },
  {
   "cell_type": "code",
   "execution_count": null,
   "metadata": {},
   "outputs": [],
   "source": [
    "letter_counts = collections.Counter()\n",
    "for c in text:\n",
    "    # only count the letters\n",
    "    if c.isalpha():\n",
    "        letter_counts[c] += 1"
   ]
  },
  {
   "cell_type": "code",
   "execution_count": null,
   "metadata": {},
   "outputs": [],
   "source": [
    "# get the top 3 most common letters\n",
    "letter_counts.most_common(5)"
   ]
  },
  {
   "cell_type": "markdown",
   "metadata": {},
   "source": [
    "## File and Directory Operations\n",
    "\n",
    "The built-in *os* module provides comprehensive functionality for working with files and directories:"
   ]
  },
  {
   "cell_type": "code",
   "execution_count": null,
   "metadata": {},
   "outputs": [],
   "source": [
    "import os"
   ]
  },
  {
   "cell_type": "code",
   "execution_count": null,
   "metadata": {},
   "outputs": [],
   "source": [
    "# what is the current working directory?\n",
    "os.getcwd()"
   ]
  },
  {
   "cell_type": "markdown",
   "metadata": {},
   "source": [
    "For instance, we can get a list of files in the specified directory. If we do not specify a directory, by default it will list the files in the current directory."
   ]
  },
  {
   "cell_type": "code",
   "execution_count": null,
   "metadata": {},
   "outputs": [],
   "source": [
    "os.listdir()"
   ]
  },
  {
   "cell_type": "markdown",
   "metadata": {},
   "source": [
    "The companion *os.path* module can be used to work with dictionary paths in a way that is independent of the operating system that we are running:"
   ]
  },
  {
   "cell_type": "code",
   "execution_count": null,
   "metadata": {},
   "outputs": [],
   "source": [
    "import os.path"
   ]
  },
  {
   "cell_type": "markdown",
   "metadata": {},
   "source": [
    "Here we display the full path of the files in the current directory, by concatenating the directory's path with each filename using the *os.path.join()* function:"
   ]
  },
  {
   "cell_type": "code",
   "execution_count": null,
   "metadata": {},
   "outputs": [],
   "source": [
    "current_path = os.getcwd()\n",
    "for filename in os.listdir():\n",
    "    filepath = os.path.join(current_path, filename)\n",
    "    print(filepath)"
   ]
  },
  {
   "cell_type": "markdown",
   "metadata": {},
   "source": [
    "-----\n",
    "For a full list of built-in modules and the functions/variables they contain, see:\n",
    "[https://docs.python.org/3/library](https://docs.python.org/3/library/)"
   ]
  }
 ],
 "metadata": {
  "kernelspec": {
   "display_name": "Python 3",
   "language": "python",
   "name": "python3"
  },
  "language_info": {
   "codemirror_mode": {
    "name": "ipython",
    "version": 3
   },
   "file_extension": ".py",
   "mimetype": "text/x-python",
   "name": "python",
   "nbconvert_exporter": "python",
   "pygments_lexer": "ipython3",
   "version": "3.8.5"
  }
 },
 "nbformat": 4,
 "nbformat_minor": 2
}
