{
 "cells": [
  {
   "cell_type": "markdown",
   "metadata": {},
   "source": [
    "# Python Strings"
   ]
  },
  {
   "cell_type": "markdown",
   "metadata": {},
   "source": [
    "## Working with Strings"
   ]
  },
  {
   "cell_type": "markdown",
   "metadata": {},
   "source": [
    "A *string* variable in Python can be created with the assignment operator *=* and by enclosing the text in either single or double quotes. Either is fine, but the start and end quotes must be the same!"
   ]
  },
  {
   "cell_type": "code",
   "execution_count": null,
   "metadata": {},
   "outputs": [],
   "source": [
    "cityname = \"Dublin\"\n",
    "address = 'University College Dublin, Belfield'"
   ]
  },
  {
   "cell_type": "markdown",
   "metadata": {},
   "source": [
    "Strings that span multiple lines can be defined in several different ways. One way is to include a backslash character \\ as the last character on the line:"
   ]
  },
  {
   "cell_type": "code",
   "execution_count": null,
   "metadata": {},
   "outputs": [],
   "source": [
    "s1 = \"This is all \\\n",
    "part of the same string\""
   ]
  },
  {
   "cell_type": "markdown",
   "metadata": {},
   "source": [
    "Alternatively, we can use triple quotes (\"\"\" or ''') to enclose a multi-line string:"
   ]
  },
  {
   "cell_type": "code",
   "execution_count": null,
   "metadata": {},
   "outputs": [],
   "source": [
    "s2 = \"\"\"\n",
    "This also has multiple lines\n",
    "defined in a different way\n",
    "\"\"\""
   ]
  },
  {
   "cell_type": "markdown",
   "metadata": {},
   "source": [
    "Strings can be viewed as lists of individual characters. We can apply many standard list operations and functions to strings, such as accessing individual characters or slicing."
   ]
  },
  {
   "cell_type": "code",
   "execution_count": null,
   "metadata": {},
   "outputs": [],
   "source": [
    "cityname[0]"
   ]
  },
  {
   "cell_type": "code",
   "execution_count": null,
   "metadata": {},
   "outputs": [],
   "source": [
    "address[0:3]"
   ]
  },
  {
   "cell_type": "markdown",
   "metadata": {},
   "source": [
    "We can use the built-in *len()* function to check the length of a string (i.e. how many characters it contains):"
   ]
  },
  {
   "cell_type": "code",
   "execution_count": null,
   "metadata": {},
   "outputs": [],
   "source": [
    "len(cityname)"
   ]
  },
  {
   "cell_type": "markdown",
   "metadata": {},
   "source": [
    "Strings can be concatenated together using + operator:"
   ]
  },
  {
   "cell_type": "code",
   "execution_count": null,
   "metadata": {},
   "outputs": [],
   "source": [
    "address + \", \" + cityname"
   ]
  },
  {
   "cell_type": "markdown",
   "metadata": {},
   "source": [
    "**Special characters**: Backslashes are used to introduce special characters. This use of backslashes is referred to as an *escape sequence*. For instance '\\t' represents a tab character and '\\n' represents a newline character."
   ]
  },
  {
   "cell_type": "code",
   "execution_count": null,
   "metadata": {},
   "outputs": [],
   "source": [
    "s = \"\\tIreland\\n\\tGermany\""
   ]
  },
  {
   "cell_type": "code",
   "execution_count": null,
   "metadata": {},
   "outputs": [],
   "source": [
    "print(s)"
   ]
  },
  {
   "cell_type": "markdown",
   "metadata": {},
   "source": [
    "## String Functions"
   ]
  },
  {
   "cell_type": "markdown",
   "metadata": {},
   "source": [
    "Strings have a range of associated functions to perform basic operations on them. Note: These functions make a copy of the original string, they don not change the original!"
   ]
  },
  {
   "cell_type": "markdown",
   "metadata": {},
   "source": [
    "For example, you can change the case of the characters in a string:"
   ]
  },
  {
   "cell_type": "code",
   "execution_count": null,
   "metadata": {},
   "outputs": [],
   "source": [
    "country = \"Ireland\"\n",
    "country.upper()  # make a copy of country, but in upper case characters"
   ]
  },
  {
   "cell_type": "code",
   "execution_count": null,
   "metadata": {},
   "outputs": [],
   "source": [
    "country.lower() # make a copy of country, but in lower case characters"
   ]
  },
  {
   "cell_type": "markdown",
   "metadata": {},
   "source": [
    "We can remove trailing whitespaces characters (spaces, tabs and line breaks) from strings with the *strip()* function:"
   ]
  },
  {
   "cell_type": "code",
   "execution_count": null,
   "metadata": {},
   "outputs": [],
   "source": [
    "s = \"Hello World   \"\n",
    "s.strip()"
   ]
  },
  {
   "cell_type": "markdown",
   "metadata": {},
   "source": [
    "Strings have simple functions for finding and replacing characters substrings (i.e. strings contained within other strings). We can search for the index (position) of a substring within a longer string using the *find()* function:"
   ]
  },
  {
   "cell_type": "code",
   "execution_count": null,
   "metadata": {},
   "outputs": [],
   "source": [
    "s.find(\"World\")  # what index does that substring 'World' start at?"
   ]
  },
  {
   "cell_type": "markdown",
   "metadata": {},
   "source": [
    "If we try to find a substring that does not exist within another string, we get an index of -1."
   ]
  },
  {
   "cell_type": "code",
   "execution_count": null,
   "metadata": {},
   "outputs": [],
   "source": [
    "s.find(\"bye\")  "
   ]
  },
  {
   "cell_type": "markdown",
   "metadata": {},
   "source": [
    "We can count number of times a character or substring occurs in a longer string using the *count()* function:"
   ]
  },
  {
   "cell_type": "code",
   "execution_count": null,
   "metadata": {},
   "outputs": [],
   "source": [
    "s.count(\"o\")"
   ]
  },
  {
   "cell_type": "markdown",
   "metadata": {},
   "source": [
    "We can also replace characters or substrings in another string. Note: The *replace()* function makes a copy of the string, it does not change the original string."
   ]
  },
  {
   "cell_type": "code",
   "execution_count": null,
   "metadata": {},
   "outputs": [],
   "source": [
    "rep = s.replace(\"l\",\"z\")\n",
    "print( s )    # original string\n",
    "print( rep )  # the new copy, where replacements were made"
   ]
  },
  {
   "cell_type": "markdown",
   "metadata": {},
   "source": [
    "We can separate a single string into a list of one or more strings based on a *delimiter* (a separator character or string) using the *split()* function:"
   ]
  },
  {
   "cell_type": "code",
   "execution_count": null,
   "metadata": {},
   "outputs": [],
   "source": [
    "names = \"lisa;john;alex;alice\"\n",
    "names.split(\";\")  # split this string based on the ; character"
   ]
  },
  {
   "cell_type": "code",
   "execution_count": null,
   "metadata": {},
   "outputs": [],
   "source": [
    "words = \"the python programming language\"\n",
    "words.split(\" \")  # split the string based on the space character"
   ]
  },
  {
   "cell_type": "markdown",
   "metadata": {},
   "source": [
    "In reverse, we can merge a list containing multiple strings into a single string using the *join()* function, where the values from the list are separated by a specified character or string."
   ]
  },
  {
   "cell_type": "code",
   "execution_count": null,
   "metadata": {},
   "outputs": [],
   "source": [
    "l = [\"dublin\",\"cork\",\"galway\"]\n",
    "\" & \".join( l )   # note, the function is called on the separator string!"
   ]
  },
  {
   "cell_type": "code",
   "execution_count": null,
   "metadata": {},
   "outputs": [],
   "source": [
    "initials = [\"J\", \"R\", \"R\"]\n",
    "\".\".join( initials )"
   ]
  },
  {
   "cell_type": "markdown",
   "metadata": {},
   "source": [
    "## Converting Between Types"
   ]
  },
  {
   "cell_type": "markdown",
   "metadata": {},
   "source": [
    "Recall mixing incompatible types is not permitted in Python, so trying to concatenate a string and a number will give an error message.\n",
    "\n",
    "Instead, we use conversion functions to change a value between basic types in Python. Use the built-in *str()* function to convert any variable to a string:"
   ]
  },
  {
   "cell_type": "code",
   "execution_count": null,
   "metadata": {},
   "outputs": [],
   "source": [
    "# convert an integer to a string\n",
    "str(30)"
   ]
  },
  {
   "cell_type": "markdown",
   "metadata": {},
   "source": [
    "We can convert string values to other types using various built-in functions - most commonly *int()* to convert to an integer and *float()* to convert to a floating point (real) value:"
   ]
  },
  {
   "cell_type": "code",
   "execution_count": null,
   "metadata": {},
   "outputs": [],
   "source": [
    "int(\"3500\")"
   ]
  },
  {
   "cell_type": "code",
   "execution_count": null,
   "metadata": {},
   "outputs": [],
   "source": [
    "float(\"5.04\")"
   ]
  },
  {
   "cell_type": "markdown",
   "metadata": {},
   "source": [
    "Obviously not all strings will be suitable for conversion to a number, and will result in an error message:"
   ]
  },
  {
   "cell_type": "code",
   "execution_count": null,
   "metadata": {},
   "outputs": [],
   "source": [
    "int(\"UCD\")"
   ]
  },
  {
   "cell_type": "markdown",
   "metadata": {},
   "source": [
    "## Formatting Strings\n",
    "\n",
    "Python contains a number of different approaches for formatting strings. In this notebook we discuss the traditional approach from Python 2, and two newer approaches introduced in more recent versions of Python."
   ]
  },
  {
   "cell_type": "markdown",
   "metadata": {},
   "source": [
    "### Traditional String Formatting\n",
    "\n",
    "traditional type of string formatting makes use of the **%-operator**. This approach was common in Python 2 and is still supported in Python 3.\n",
    "\n",
    "With this approach, special placeholder codes are used when building a format string. Each placeholder should correspond to the type of the value that will replace it. For numbers, we can use *format specifiers* to change the precision:\n",
    "- %d: integer\n",
    "- %f: floating point, with default precision\n",
    "- %.Nf: floating point to *N* decimal places)\n",
    "- %s: a string (or any value)"
   ]
  },
  {
   "cell_type": "code",
   "execution_count": null,
   "metadata": {},
   "outputs": [],
   "source": [
    "\"%s and %s and %s\" % (\"one\", \"two\", \"three\")"
   ]
  },
  {
   "cell_type": "code",
   "execution_count": null,
   "metadata": {},
   "outputs": [],
   "source": [
    "\"%d and %d and %d\" % (1, 2, 3)"
   ]
  },
  {
   "cell_type": "code",
   "execution_count": null,
   "metadata": {},
   "outputs": [],
   "source": [
    "\"%.2f and %.2f and %.2f\" % (1, 2, 3)"
   ]
  },
  {
   "cell_type": "code",
   "execution_count": null,
   "metadata": {},
   "outputs": [],
   "source": [
    "title = \"News of the World\"\n",
    "lead_actor = \"Tom Hanks\"\n",
    "year = 2020\n",
    "rating = 6.879\n",
    "\"The %d movie %s starring %s has an IMDB rating of %.1f\" % (year, title, lead_actor, rating)"
   ]
  },
  {
   "cell_type": "code",
   "execution_count": null,
   "metadata": {},
   "outputs": [],
   "source": [
    "scores = [0.8914, 0.9142, 0.0343, 0.2313]\n",
    "print(\"%.1f, %.1f, %.1f, %.1f\" % (scores[0], scores[1], scores[2], scores[3]))\n",
    "print(\"%.2f, %.2f, %.2f, %.2f\" % (scores[0], scores[1], scores[2], scores[3]))\n",
    "# add zeros in front\n",
    "print(\"%08.3f, %08.3f, %08.3f, %08.3f\" % (scores[0], scores[1], scores[2], scores[3]))\n",
    "# add spaces in front\n",
    "print(\"%8.3f, %8.3f, %8.3f, %8.3f\" % (scores[0], scores[1], scores[2], scores[3]))"
   ]
  },
  {
   "cell_type": "markdown",
   "metadata": {},
   "source": [
    "### Formatting with str.format()\n",
    "\n",
    "However, once you start using several parameters and longer strings, the previous approach becomes difficult to read.\n",
    "\n",
    "Python 3 introduced a new approach for string which removes the requirement for the %-operator. Formatting is now handled by calling the **.format()** function on a string value.\n",
    "\n",
    "For a comprehensive set of examples for this formatting syntax, see https://pyformat.info/"
   ]
  },
  {
   "cell_type": "markdown",
   "metadata": {},
   "source": [
    "With *str.format()*, the placeholder fields are marked by curly brackets:"
   ]
  },
  {
   "cell_type": "code",
   "execution_count": null,
   "metadata": {},
   "outputs": [],
   "source": [
    "name = \"Alice\"\n",
    "\"Hello, {}\".format(name)"
   ]
  },
  {
   "cell_type": "code",
   "execution_count": null,
   "metadata": {},
   "outputs": [],
   "source": [
    "s = \"{} and {} and {}\"\n",
    "s.format(\"one\", \"two\", \"three\")"
   ]
  },
  {
   "cell_type": "code",
   "execution_count": null,
   "metadata": {},
   "outputs": [],
   "source": [
    "s.format(1, 2, 3)"
   ]
  },
  {
   "cell_type": "markdown",
   "metadata": {},
   "source": [
    "We can reference variables in any order by referencing their index:"
   ]
  },
  {
   "cell_type": "code",
   "execution_count": null,
   "metadata": {},
   "outputs": [],
   "source": [
    "name, age = \"Bob\", 25\n",
    "when = \"today\"\n",
    "\"{2} is {1} years old {0}.\".format(when, age, name)"
   ]
  },
  {
   "cell_type": "markdown",
   "metadata": {},
   "source": [
    "We can also added named placeholders:"
   ]
  },
  {
   "cell_type": "code",
   "execution_count": null,
   "metadata": {},
   "outputs": [],
   "source": [
    "'Capital of {country}: {city}, {country}'.format(city='Dublin', country='Ireland')"
   ]
  },
  {
   "cell_type": "markdown",
   "metadata": {},
   "source": [
    "We can format or pad numbers as with the previous approach, using placeholders and *format specifiers*:"
   ]
  },
  {
   "cell_type": "code",
   "execution_count": null,
   "metadata": {},
   "outputs": [],
   "source": [
    "'{:d}'.format(42)"
   ]
  },
  {
   "cell_type": "code",
   "execution_count": null,
   "metadata": {},
   "outputs": [],
   "source": [
    "# floating point, 4 decimal places\n",
    "'{:.4f}'.format(42)"
   ]
  },
  {
   "cell_type": "code",
   "execution_count": null,
   "metadata": {},
   "outputs": [],
   "source": [
    "x = 13.543646\n",
    "# format to 2 decimal places\n",
    "print(\"{:.2f}\".format(x))\n",
    "# output should have at least 6 characters, with 2 decimal places\n",
    "print(\"{:06.2f}\".format(x))"
   ]
  },
  {
   "cell_type": "markdown",
   "metadata": {},
   "source": [
    "We can left, right or centre align strings:"
   ]
  },
  {
   "cell_type": "code",
   "execution_count": null,
   "metadata": {},
   "outputs": [],
   "source": [
    "# align left\n",
    "\"{:12}\".format(\"Dublin\")"
   ]
  },
  {
   "cell_type": "code",
   "execution_count": null,
   "metadata": {},
   "outputs": [],
   "source": [
    "# align right\n",
    "\"{:>12}\".format(\"Dublin\")"
   ]
  },
  {
   "cell_type": "code",
   "execution_count": null,
   "metadata": {},
   "outputs": [],
   "source": [
    "# centre the string\n",
    "\"{:^12}\".format(\"Dublin\")"
   ]
  },
  {
   "cell_type": "markdown",
   "metadata": {},
   "source": [
    "We can also truncate long strings to make the shorter:"
   ]
  },
  {
   "cell_type": "code",
   "execution_count": null,
   "metadata": {},
   "outputs": [],
   "source": [
    "\"Word: {:.5}\".format(\"xylophone\")"
   ]
  },
  {
   "cell_type": "markdown",
   "metadata": {},
   "source": [
    "### Formatting with F-Strings\n",
    "\n",
    "A third approach to string formatting was introduced in Python 3.6, which is called formatted string literals or *f-strings*. \n",
    "\n",
    "Here we prefix the formatting string with 'f':"
   ]
  },
  {
   "cell_type": "code",
   "execution_count": null,
   "metadata": {},
   "outputs": [],
   "source": [
    "name = \"Alice\"\n",
    "f\"Hello, {name}!\""
   ]
  },
  {
   "cell_type": "code",
   "execution_count": null,
   "metadata": {},
   "outputs": [],
   "source": [
    "# be careful with quote characters\n",
    "f\"{'one'} and {'two'} and {'three'}\""
   ]
  },
  {
   "cell_type": "markdown",
   "metadata": {},
   "source": [
    "We can format numbers like in the two previous formatting methods, using format specifiers:"
   ]
  },
  {
   "cell_type": "code",
   "execution_count": null,
   "metadata": {},
   "outputs": [],
   "source": [
    "x = 0.234535\n",
    "# 2 decimal places\n",
    "print( f\"{x:.2f}\" )\n",
    "# at least 8 characters, with 3 decimal places\n",
    "print( f\"{x:08.3f}\" )\n",
    "# percentage with 1 decimal palce\n",
    "print( f\"{x:.1%}\" )"
   ]
  },
  {
   "cell_type": "markdown",
   "metadata": {},
   "source": [
    "We can reference existing variables in an f-string, and perform operations"
   ]
  },
  {
   "cell_type": "code",
   "execution_count": null,
   "metadata": {},
   "outputs": [],
   "source": [
    "a = 6\n",
    "b = 10\n",
    "f\"Six plus ten is {a + b} and not {2 * (a + b)}\""
   ]
  },
  {
   "cell_type": "markdown",
   "metadata": {},
   "source": [
    "To make curly brackets appear in a string, we need to use double braces:"
   ]
  },
  {
   "cell_type": "code",
   "execution_count": null,
   "metadata": {},
   "outputs": [],
   "source": [
    "f\"{{{50 * 5}}}\""
   ]
  },
  {
   "cell_type": "markdown",
   "metadata": {},
   "source": [
    "F-strings are useful when working with dictionaries, where we can specify key names:"
   ]
  },
  {
   "cell_type": "code",
   "execution_count": null,
   "metadata": {},
   "outputs": [],
   "source": [
    "person = {'name': 'Lionel Messi', 'year': 1987, 'country' : 'Argentina'}\n",
    "f\"The football player {person['name']} was born in {person['country']} in {person['year']}.\""
   ]
  }
 ],
 "metadata": {
  "anaconda-cloud": {},
  "kernelspec": {
   "display_name": "Python 3",
   "language": "python",
   "name": "python3"
  },
  "language_info": {
   "codemirror_mode": {
    "name": "ipython",
    "version": 3
   },
   "file_extension": ".py",
   "mimetype": "text/x-python",
   "name": "python",
   "nbconvert_exporter": "python",
   "pygments_lexer": "ipython3",
   "version": "3.8.5"
  }
 },
 "nbformat": 4,
 "nbformat_minor": 1
}
