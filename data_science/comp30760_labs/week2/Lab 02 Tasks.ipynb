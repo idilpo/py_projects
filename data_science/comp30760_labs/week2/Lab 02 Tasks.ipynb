{
 "cells": [
  {
   "cell_type": "markdown",
   "metadata": {},
   "source": [
    "# Lab 2 Tasks"
   ]
  },
  {
   "cell_type": "markdown",
   "metadata": {},
   "source": [
    "### Task 1\n",
    "\n",
    "Create a function *sorted_random()* which generates a list of *n* random numbers, sorted in descending order (i.e. largest first). The number *n* should be an input argument for the function. If no value is specified for *n*, by default a list of 10 numbers should be generated."
   ]
  },
  {
   "cell_type": "code",
   "execution_count": 1,
   "metadata": {},
   "outputs": [],
   "source": [
    "def sorted_random(n=10):\n",
    "    num_list  = []\n",
    "    for i in range(n):\n",
    "        num_list.append(i)\n",
    "    return num_list"
   ]
  },
  {
   "cell_type": "markdown",
   "metadata": {},
   "source": [
    "### Task 2\n",
    "\n",
    "Download the comma-separated file *scores.csv* from the module Brightspace page and save it to the same directory as your notebook. \n",
    "\n",
    "Write a function *display_numbers()* which takes one argument - an input file path. The function should read floating point numbers from each line in the specified file, and compute the total for the values on each line. Print each total to 2 decimal places. \n",
    "\n",
    "Apply the function *display_numbers()* to *scores.csv*."
   ]
  },
  {
   "cell_type": "code",
   "execution_count": 27,
   "metadata": {},
   "outputs": [
    {
     "name": "stdout",
     "output_type": "stream",
     "text": [
      "Floats in this line:  ['0.74', '0.63', '0.58', '0.89']\n",
      "Floats in this line:  ['0.91', '0.89', '0.78', '0.99']\n",
      "Floats in this line:  ['0.43', '0.35', '0.34', '0.45']\n",
      "Floats in this line:  ['0.56', '0.61', '0.66', '0.58']\n",
      "Floats in this line:  ['0.50', '0.49', '0.76', '0.72']\n",
      "Floats in this line:  ['0.88', '0.75', '0.61', '0.78']\n"
     ]
    },
    {
     "data": {
      "text/plain": [
       "['2.84', '3.57', '1.57', '2.41', '2.47', '3.02']"
      ]
     },
     "execution_count": 27,
     "metadata": {},
     "output_type": "execute_result"
    }
   ],
   "source": [
    "def display_numbers(path):\n",
    "    file = open(path,\"r\")\n",
    "    lines = file.readlines()\n",
    " \n",
    "    values_in_each_line = []\n",
    "    \n",
    "    for l in lines:\n",
    "        l = l.strip()\n",
    "        floats_in_line = l.split(\",\")\n",
    "        print(\"Floats in this line: \", floats_in_line)\n",
    "        \n",
    "        count = 0\n",
    "        for f in floats_in_line:\n",
    "            count += float(f)\n",
    "        values_in_each_line.append(\"{:.2f}\".format(count))\n",
    "        \n",
    "    file.close()\n",
    "    return values_in_each_line\n",
    "\n",
    "display_numbers(\"/Users/idilbilgic/Desktop/STAGE3.1/COMP30760/week2/lab02-data/scores.csv\")"
   ]
  },
  {
   "cell_type": "markdown",
   "metadata": {
    "collapsed": true
   },
   "source": [
    "### Task 3\n",
    "\n",
    "Write a function *reverse_numbers()* which takes two arguments - an input file path and an output file path. The function should read floating point numbers from each line in the specified input file. The order of the values from in line should then be reversed, and these lines should be written to the specifed output file.\n",
    "\n",
    "Apply the function *reverse_numbers()* to the file *scores.csv* from Task 1 to create a new output file *reversed.csv*."
   ]
  },
  {
   "cell_type": "code",
   "execution_count": 58,
   "metadata": {},
   "outputs": [
    {
     "name": "stdout",
     "output_type": "stream",
     "text": [
      "record_1: 0.89, 0.58, 0.63, 0.74, \n",
      "record_2: 0.99, 0.78, 0.89, 0.91, \n",
      "record_3: 0.45, 0.34, 0.35, 0.43, \n",
      "record_4: 0.58, 0.66, 0.61, 0.56, \n",
      "record_5: 0.72, 0.76, 0.49, 0.50, \n",
      "record_6: 0.78, 0.61, 0.75, 0.88, \n",
      "\n"
     ]
    }
   ],
   "source": [
    "def reverse_numbers(in_path, out_path):\n",
    "    in_file = open(in_path, \"r\")\n",
    "    out_file = open(out_path, \"w\")\n",
    "    \n",
    "    lines = in_file.readlines()\n",
    "    \n",
    "    record = 0\n",
    "    for l in lines:\n",
    "        l = l.strip()\n",
    "        floats_in_line = l.split(\",\")\n",
    "        floats_in_line.reverse()\n",
    "        record += 1\n",
    "        out_file.write(\"record_%d: \" % (record)) #identifier\n",
    "        \n",
    "        for f in floats_in_line:\n",
    "            out_file.write(\"%.2f, \" % float(f))\n",
    "        out_file.write(\"\\n\")  \n",
    "    \n",
    "    in_file.close()\n",
    "    out_file.close()\n",
    "    \n",
    "    out_file = open(out_path, \"r\")\n",
    "    print(out_file.read())\n",
    "    out_file.close()\n",
    "\n",
    "reverse_numbers(\"/Users/idilbilgic/Desktop/STAGE3.1/COMP30760/week2/lab02-data/scores.csv\", \n",
    "                \"/Users/idilbilgic/Desktop/STAGE3.1/COMP30760/week2/lab02-data/reversed.csv\")"
   ]
  },
  {
   "cell_type": "markdown",
   "metadata": {},
   "source": [
    "### Task 4\n",
    "\n",
    "Download the comma-separated file *worldcup.csv* from the module Brightspace page and save it to the same directory as your notebook. This data file contains a list of the winners and runners-up for all FIFA World Cup finals, one final per line.\n",
    "\n",
    "Write a function *count_finalists()* which takes a single argument (an input file path), reads the data, and displays the number of times each country has appeared in a World Cup final. Countries should be displayed in alphabetical order.\n",
    "\n",
    "Apply the function *count_finalists()* to the file *worldcup.csv*."
   ]
  },
  {
   "cell_type": "code",
   "execution_count": 71,
   "metadata": {},
   "outputs": [
    {
     "name": "stdout",
     "output_type": "stream",
     "text": [
      "[('Argentina', 5), ('Brazil', 7), ('Croatia', 1), ('Czechoslovakia', 2), ('England', 1), ('France', 3), ('Germany', 2), ('Hungary', 2), ('Italy', 6), ('Netherlands', 3), ('Spain', 1), ('Sweden', 1), ('Uruguay', 2), ('West Germany', 6)]\n"
     ]
    }
   ],
   "source": [
    "def count_finalists(path):\n",
    "    \n",
    "    File = open(path, \"r\")\n",
    "    rows = File.readlines()\n",
    "    \n",
    "    country_appereance_count = {}\n",
    "    for r in rows:\n",
    "        r = r.strip()\n",
    "        items_in_row = r.split(\",\")\n",
    "        \n",
    "        for i in items_in_row[1:3]:\n",
    "            if i not in country_appereance_count:\n",
    "                country_appereance_count[i] = 1\n",
    "            else:\n",
    "                country_appereance_count[i] += 1\n",
    "    \n",
    "    country_appereance_count.pop(\"Winners\")\n",
    "    country_appereance_count.pop(\"Runners-up\")\n",
    "    print(sorted(country_appereance_count.items()))\n",
    "    \n",
    "    File.close()\n",
    "\n",
    "count_finalists(\"/Users/idilbilgic/Desktop/STAGE3.1/COMP30760/week2/lab02-data/worldcup.csv\")"
   ]
  },
  {
   "cell_type": "code",
   "execution_count": null,
   "metadata": {},
   "outputs": [],
   "source": []
  }
 ],
 "metadata": {
  "kernelspec": {
   "display_name": "Python 3",
   "language": "python",
   "name": "python3"
  },
  "language_info": {
   "codemirror_mode": {
    "name": "ipython",
    "version": 3
   },
   "file_extension": ".py",
   "mimetype": "text/x-python",
   "name": "python",
   "nbconvert_exporter": "python",
   "pygments_lexer": "ipython3",
   "version": "3.8.5"
  }
 },
 "nbformat": 4,
 "nbformat_minor": 1
}
