{
 "cells": [
  {
   "cell_type": "markdown",
   "metadata": {},
   "source": [
    "# Directed and Weighted Centrality\n",
    "\n",
    "Specific measures can be applied to measure centrality or node importance in directed and/or weighted networks."
   ]
  },
  {
   "cell_type": "code",
   "execution_count": 1,
   "metadata": {},
   "outputs": [],
   "source": [
    "import networkx as nx\n",
    "import pandas as pd\n",
    "import matplotlib.pyplot as plt\n",
    "%matplotlib inline\n",
    "pd.set_option(\"display.precision\", 3)"
   ]
  },
  {
   "cell_type": "markdown",
   "metadata": {},
   "source": [
    "In this notebook we will use data from the widely-studied Enron email corpus, which is described [here](https://en.wikipedia.org/wiki/Enron_Corpus).\n",
    "\n",
    "First we load the data and create a network representing the Enron internal email network. Each line contains a sender email addreess, a receipient email address, and the number of emails sent from the sender to the receipient.\n",
    "\n",
    "It makes sense to represent this data as a directed network, with edge weights indicating the number of emails from sender to receipient."
   ]
  },
  {
   "cell_type": "code",
   "execution_count": 2,
   "metadata": {},
   "outputs": [],
   "source": [
    "fin = open(\"enron.edgelist\",\"r\")\n",
    "lines = fin.readlines()\n",
    "fin.close()"
   ]
  },
  {
   "cell_type": "code",
   "execution_count": 3,
   "metadata": {},
   "outputs": [],
   "source": [
    "g = nx.DiGraph()\n",
    "for line in lines:\n",
    "    parts = line.strip().split(\"\\t\")\n",
    "    num_emails = int(parts[2])\n",
    "    g.add_edge( parts[0], parts[1], weight=num_emails )"
   ]
  },
  {
   "cell_type": "code",
   "execution_count": 4,
   "metadata": {},
   "outputs": [
    {
     "data": {
      "text/plain": [
       "(147, 2643)"
      ]
     },
     "execution_count": 4,
     "metadata": {},
     "output_type": "execute_result"
    }
   ],
   "source": [
    "g.number_of_nodes(), g.number_of_edges()"
   ]
  },
  {
   "cell_type": "markdown",
   "metadata": {},
   "source": [
    "### Unweighted In-Degrees and Out-Degrees"
   ]
  },
  {
   "cell_type": "markdown",
   "metadata": {},
   "source": [
    "First, we could look at the simple count of incoming edges - i.e. the **unweighted in-degree**. In this context, the number indicates the number of unique individuals from whom a person has received emails."
   ]
  },
  {
   "cell_type": "code",
   "execution_count": 5,
   "metadata": {},
   "outputs": [
    {
     "data": {
      "text/plain": [
       "{'steven.harris@enron.com': 18,\n",
       " 'tracy.geaccone@enron.com': 15,\n",
       " 'kimberly.watson@enron.com': 18,\n",
       " 'lindy.donoho@enron.com': 16,\n",
       " 'james.derrick@enron.com': 18,\n",
       " 'stanley.horton@enron.com': 22,\n",
       " 'bill.rapp@enron.com': 13,\n",
       " 'michelle.lokay@enron.com': 17,\n",
       " 'danny.mccarty@enron.com': 22,\n",
       " 'teb.lokey@enron.com': 15,\n",
       " 'drew.fossum@enron.com': 21,\n",
       " 'susan.scott@enron.com': 37,\n",
       " 'kevin.hyatt@enron.com': 18,\n",
       " 'rod.hayslett@enron.com': 23,\n",
       " 'darrell.schoolcraft@enron.com': 13,\n",
       " 'jeff.dasovich@enron.com': 20,\n",
       " 'shelley.corman@enron.com': 23,\n",
       " 'mike.carson@enron.com': 12,\n",
       " 'jeff.king@enron.com': 11,\n",
       " 'kevin.presto@enron.com': 41,\n",
       " 'doug.gilbert-smith@enron.com': 20,\n",
       " 'john.zufferli@enron.com': 15,\n",
       " 'robert.benson@enron.com': 16,\n",
       " 'fletcher.sturm@enron.com': 34,\n",
       " 'eric.saibi@enron.com': 7,\n",
       " 'mike.mcconnell@enron.com': 17,\n",
       " 'greg.whalley@enron.com': 31,\n",
       " 'jeffrey.shankman@enron.com': 26,\n",
       " 'rick.buy@enron.com': 21,\n",
       " 'steven.kean@enron.com': 29,\n",
       " 'louise.kitchen@enron.com': 44,\n",
       " 'harry.arora@enron.com': 18,\n",
       " 'kenneth.lay@enron.com': 22,\n",
       " 'david.delainey@enron.com': 30,\n",
       " 'sally.beck@enron.com': 25,\n",
       " 'vince.kaminski@enron.com': 22,\n",
       " 'andy.zipper@enron.com': 26,\n",
       " 'john.lavorato@enron.com': 48,\n",
       " 'jeff.skilling@enron.com': 18,\n",
       " 'mark.haedicke@enron.com': 30,\n",
       " 'benjamin.rogers@enron.com': 14,\n",
       " 'dana.davis@enron.com': 20,\n",
       " 'joe.quenet@enron.com': 10,\n",
       " 'don.baughman@enron.com': 14,\n",
       " 'kevin.ruscitti@enron.com': 13,\n",
       " 'hunter.shively@enron.com': 44,\n",
       " 'debra.perlingiere@enron.com': 20,\n",
       " 'dan.hyvl@enron.com': 20,\n",
       " 'patrice.mims@enron.com': 10,\n",
       " 'joe.parks@enron.com': 12,\n",
       " 'martin.cuilla@enron.com': 15,\n",
       " 'jason.williams@enron.com': 15,\n",
       " 'mary.fischer@enron.com': 2,\n",
       " 'richard.ring@enron.com': 5,\n",
       " 'chris.stokley@enron.com': 15,\n",
       " 'james.steffes@enron.com': 29,\n",
       " 'tana.jones@enron.com': 23,\n",
       " 'lynn.blair@enron.com': 13,\n",
       " 'mark.taylor@enron.com': 30,\n",
       " 'sara.shackleton@enron.com': 17,\n",
       " 'marie.heard@enron.com': 14,\n",
       " 'stephanie.panus@enron.com': 14,\n",
       " 'susan.bailey@enron.com': 11,\n",
       " 'carol.clair@enron.com': 15,\n",
       " 'michelle.cash@enron.com': 18,\n",
       " 'elizabeth.sager@enron.com': 23,\n",
       " 'richard.sanders@enron.com': 27,\n",
       " 'gerald.nemec@enron.com': 24,\n",
       " 'stacy.dickson@enron.com': 10,\n",
       " 'kay.mann@enron.com': 17,\n",
       " 'peter.keavey@enron.com': 22,\n",
       " 'geoff.storey@enron.com': 25,\n",
       " 'richard.shapiro@enron.com': 22,\n",
       " 'dutch.quigley@enron.com': 22,\n",
       " 'john.arnold@enron.com': 31,\n",
       " 'jonathan.mckay@enron.com': 22,\n",
       " 'mike.grigsby@enron.com': 42,\n",
       " 'jim.schwieger@enron.com': 15,\n",
       " 'phillip.allen@enron.com': 43,\n",
       " 'scott.neal@enron.com': 41,\n",
       " 'thomas.martin@enron.com': 22,\n",
       " 'andrea.ring@enron.com': 9,\n",
       " 'andrew.lewis@enron.com': 6,\n",
       " 'bill.williams@enron.com': 22,\n",
       " 'brad.mckay@enron.com': 20,\n",
       " 'chris.dorland@enron.com': 17,\n",
       " 'chris.germany@enron.com': 18,\n",
       " 'diana.scholtes@enron.com': 14,\n",
       " 'eric.bass@enron.com': 19,\n",
       " 'frank.ermis@enron.com': 20,\n",
       " 'jane.tholt@enron.com': 23,\n",
       " 'jay.reitmeyer@enron.com': 22,\n",
       " 'john.forney@enron.com': 18,\n",
       " 'judy.townsend@enron.com': 9,\n",
       " 'keith.holst@enron.com': 24,\n",
       " 'larry.may@enron.com': 18,\n",
       " 'matt.motley@enron.com': 18,\n",
       " 'matthew.lenhart@enron.com': 21,\n",
       " 'mike.maggi@enron.com': 15,\n",
       " 'mike.swerzbin@enron.com': 18,\n",
       " 'monique.sanchez@enron.com': 15,\n",
       " 'randall.gay@enron.com': 19,\n",
       " 'robert.badeer@enron.com': 23,\n",
       " 'sandra.brawner@enron.com': 8,\n",
       " 'scott.hendrickson@enron.com': 7,\n",
       " 'sean.crandall@enron.com': 12,\n",
       " 'steven.south@enron.com': 14,\n",
       " 'susan.pereira@enron.com': 7,\n",
       " 'tom.donohoe@enron.com': 7,\n",
       " 'tori.kuykendall@enron.com': 19,\n",
       " 'vladi.pimenov@enron.com': 11,\n",
       " 'barry.tycholiz@enron.com': 31,\n",
       " 'stacey.white@enron.com': 7,\n",
       " 'jason.wolfe@enron.com': 18,\n",
       " 'matt.smith@enron.com': 14,\n",
       " 'kam.keiser@enron.com': 25,\n",
       " 'phillip.love@enron.com': 18,\n",
       " 'charles.weldon@enron.com': 18,\n",
       " 'darron.giron@enron.com': 15,\n",
       " 'daren.farmer@enron.com': 16,\n",
       " 'paul.lucci@enron.com': 17,\n",
       " 'mark.whitt@enron.com': 17,\n",
       " 'kim.ward@enron.com': 29,\n",
       " 'cooper.richey@enron.com': 10,\n",
       " 'judy.hernandez@enron.com': 2,\n",
       " 'robin.rodrigue@enron.com': 7,\n",
       " 'errol.mclaughlin@enron.com': 15,\n",
       " 'joe.stepenovitch@enron.com': 7,\n",
       " 'john.griffith@enron.com': 17,\n",
       " 'larry.campbell@enron.com': 8,\n",
       " 'paul.thomas@enron.com': 9,\n",
       " 'theresa.staab@enron.com': 11,\n",
       " 'mary.hain@enron.com': 13,\n",
       " 'phillip.platter@enron.com': 9,\n",
       " 'kate.symes@enron.com': 16,\n",
       " 'john.hodge@enron.com': 12,\n",
       " 'eric.linder@enron.com': 6,\n",
       " 'albert.meyers@enron.com': 7,\n",
       " 'geir.solberg@enron.com': 9,\n",
       " 'mark.guzman@enron.com': 12,\n",
       " 'ryan.slinger@enron.com': 10,\n",
       " 'steven.merriss@enron.com': 5,\n",
       " 'monika.causholli@enron.com': 10,\n",
       " 'pete.davis@enron.com': 8,\n",
       " 'cara.semperger@enron.com': 12,\n",
       " 'lisa.gang@enron.com': 8,\n",
       " 'holden.salisbury@enron.com': 9}"
      ]
     },
     "execution_count": 5,
     "metadata": {},
     "output_type": "execute_result"
    }
   ],
   "source": [
    "# get a dictionary of in-degree scores for all nodes\n",
    "in_degrees = dict(g.in_degree())\n",
    "in_degrees"
   ]
  },
  {
   "cell_type": "markdown",
   "metadata": {},
   "source": [
    "Examine statistics and distribution of unweighted in-degree values:"
   ]
  },
  {
   "cell_type": "code",
   "execution_count": 6,
   "metadata": {},
   "outputs": [
    {
     "name": "stdout",
     "output_type": "stream",
     "text": [
      "In-degree range: [2, 48]\n",
      "Mean in-degree: 17.98\n",
      "Median in-degree: 17\n"
     ]
    }
   ],
   "source": [
    "indeg = pd.Series(in_degrees)\n",
    "print('In-degree range: [%d, %d]' % (indeg.min(), indeg.max() ) )\n",
    "print('Mean in-degree: %.2f' % indeg.mean() )\n",
    "print('Median in-degree: %d' % indeg.median() )"
   ]
  },
  {
   "cell_type": "code",
   "execution_count": 7,
   "metadata": {},
   "outputs": [
    {
     "data": {
      "image/png": "[encoded data removed]",
      "text/plain": [
       "<Figure size 864x432 with 1 Axes>"
      ]
     },
     "metadata": {
      "needs_background": "light"
     },
     "output_type": "display_data"
    }
   ],
   "source": [
    "ax = indeg.plot.hist(figsize=(12,6), fontsize=14, legend=None, color=\"darkred\", bins=20, zorder=3)\n",
    "ax.yaxis.grid()\n",
    "ax.set_ylabel(\"Number of Nodes\", fontsize=14)\n",
    "ax.set_xlabel(\"Unweighted In-Degree\", fontsize=14);"
   ]
  },
  {
   "cell_type": "markdown",
   "metadata": {},
   "source": [
    "Get the top 10 nodes ranked by in-degree. Who received emails from the largest number of unique senders in the company?"
   ]
  },
  {
   "cell_type": "code",
   "execution_count": 8,
   "metadata": {},
   "outputs": [
    {
     "data": {
      "text/plain": [
       "john.lavorato@enron.com     48\n",
       "louise.kitchen@enron.com    44\n",
       "hunter.shively@enron.com    44\n",
       "phillip.allen@enron.com     43\n",
       "mike.grigsby@enron.com      42\n",
       "scott.neal@enron.com        41\n",
       "kevin.presto@enron.com      41\n",
       "susan.scott@enron.com       37\n",
       "fletcher.sturm@enron.com    34\n",
       "john.arnold@enron.com       31\n",
       "dtype: int64"
      ]
     },
     "execution_count": 8,
     "metadata": {},
     "output_type": "execute_result"
    }
   ],
   "source": [
    "indeg.sort_values(ascending=False).head(10)"
   ]
  },
  {
   "cell_type": "markdown",
   "metadata": {},
   "source": [
    "Next, look at the simple count of outgoing edges - i.e. the **unweighted out-degree**. This correspond to the number indicates the number of unique individuals to whom each person has sent emails."
   ]
  },
  {
   "cell_type": "code",
   "execution_count": 9,
   "metadata": {},
   "outputs": [],
   "source": [
    "# get a dictionary of out-degree scores for all nodes\n",
    "out_degrees = dict(g.out_degree())"
   ]
  },
  {
   "cell_type": "markdown",
   "metadata": {},
   "source": [
    "We see that the lowest out-degree is 0 - i.e. these are nodes representing people who sent no emails during the time period covered this dataset."
   ]
  },
  {
   "cell_type": "code",
   "execution_count": 10,
   "metadata": {},
   "outputs": [
    {
     "name": "stdout",
     "output_type": "stream",
     "text": [
      "In-degree range: [0, 82]\n",
      "Mean in-degree: 17.98\n",
      "Median in-degree: 15\n"
     ]
    }
   ],
   "source": [
    "outdeg = pd.Series(out_degrees)\n",
    "print('In-degree range: [%d, %d]' % (outdeg.min(), outdeg.max() ) )\n",
    "print('Mean in-degree: %.2f' % outdeg.mean() )\n",
    "print('Median in-degree: %d' % outdeg.median() )"
   ]
  },
  {
   "cell_type": "code",
   "execution_count": 11,
   "metadata": {},
   "outputs": [
    {
     "data": {
      "image/png": "[encoded data removed]",
      "text/plain": [
       "<Figure size 864x432 with 1 Axes>"
      ]
     },
     "metadata": {
      "needs_background": "light"
     },
     "output_type": "display_data"
    }
   ],
   "source": [
    "ax = outdeg.plot.hist(figsize=(12,6), fontsize=14, legend=None, color=\"darkgreen\", bins=20, zorder=3)\n",
    "ax.yaxis.grid()\n",
    "ax.set_ylabel(\"Number of Nodes\", fontsize=14)\n",
    "ax.set_xlabel(\"Unweighted Out-Degree\", fontsize=14);"
   ]
  },
  {
   "cell_type": "markdown",
   "metadata": {},
   "source": [
    "Get the top 10 nodes ranked by in-degree. Who sent emails to the largest number of unique addresses?"
   ]
  },
  {
   "cell_type": "code",
   "execution_count": 12,
   "metadata": {},
   "outputs": [
    {
     "data": {
      "text/plain": [
       "john.lavorato@enron.com     82\n",
       "sally.beck@enron.com        73\n",
       "louise.kitchen@enron.com    59\n",
       "susan.scott@enron.com       54\n",
       "kenneth.lay@enron.com       54\n",
       "mike.grigsby@enron.com      41\n",
       "jeff.dasovich@enron.com     41\n",
       "kam.keiser@enron.com        39\n",
       "phillip.allen@enron.com     38\n",
       "david.delainey@enron.com    38\n",
       "dtype: int64"
      ]
     },
     "execution_count": 12,
     "metadata": {},
     "output_type": "execute_result"
    }
   ],
   "source": [
    "outdeg.sort_values(ascending=False).head(10)"
   ]
  },
  {
   "cell_type": "markdown",
   "metadata": {},
   "source": [
    "### Weighted In-Degrees and Out-Degrees"
   ]
  },
  {
   "cell_type": "markdown",
   "metadata": {},
   "source": [
    "So far we have not considered the number of emails sent between each employee, just the number of edges. We can also look at weighted degrees, which are based on email counts in this case. "
   ]
  },
  {
   "cell_type": "markdown",
   "metadata": {},
   "source": [
    "Calculate the weighted in-degree - i.e. the total number of e-mails received by each employee:"
   ]
  },
  {
   "cell_type": "code",
   "execution_count": 13,
   "metadata": {},
   "outputs": [],
   "source": [
    "# get a dictionary of in-degree scores for all nodes, using values from the 'weight' attribute\n",
    "win_degrees = dict(g.in_degree(weight=\"weight\"))"
   ]
  },
  {
   "cell_type": "markdown",
   "metadata": {},
   "source": [
    "We can see from the statistics of these scores that the range of values is much larger when we take into account weights:"
   ]
  },
  {
   "cell_type": "code",
   "execution_count": 14,
   "metadata": {},
   "outputs": [
    {
     "name": "stdout",
     "output_type": "stream",
     "text": [
      "Weighted in-degree range: [2, 3704]\n",
      "Mean weighted in-degree: 432.09\n",
      "Median weighted in-degree: 187\n"
     ]
    }
   ],
   "source": [
    "windeg = pd.Series(win_degrees)\n",
    "print('Weighted in-degree range: [%d, %d]' % (windeg.min(), windeg.max() ) )\n",
    "print('Mean weighted in-degree: %.2f' % windeg.mean() )\n",
    "print('Median weighted in-degree: %d' % windeg.median() )"
   ]
  },
  {
   "cell_type": "code",
   "execution_count": 15,
   "metadata": {},
   "outputs": [
    {
     "data": {
      "image/png": "[encoded data removed]",
      "text/plain": [
       "<Figure size 864x432 with 1 Axes>"
      ]
     },
     "metadata": {
      "needs_background": "light"
     },
     "output_type": "display_data"
    }
   ],
   "source": [
    "ax = windeg.plot.hist(figsize=(12,6), fontsize=14, legend=None, color=\"darkred\", bins=20, zorder=3)\n",
    "ax.yaxis.grid()\n",
    "ax.set_ylabel(\"Number of Nodes\", fontsize=14)\n",
    "ax.set_xlabel(\"Weighted In-Degree\", fontsize=14);"
   ]
  },
  {
   "cell_type": "markdown",
   "metadata": {},
   "source": [
    "Which employees received the most emails in the company during this time period?"
   ]
  },
  {
   "cell_type": "code",
   "execution_count": 16,
   "metadata": {},
   "outputs": [
    {
     "data": {
      "text/plain": [
       "mark.guzman@enron.com        3704\n",
       "ryan.slinger@enron.com       3691\n",
       "albert.meyers@enron.com      3688\n",
       "geir.solberg@enron.com       3685\n",
       "pete.davis@enron.com         3626\n",
       "bill.williams@enron.com      2976\n",
       "james.steffes@enron.com      1782\n",
       "richard.shapiro@enron.com    1769\n",
       "mark.taylor@enron.com        1514\n",
       "vince.kaminski@enron.com     1476\n",
       "dtype: int64"
      ]
     },
     "execution_count": 16,
     "metadata": {},
     "output_type": "execute_result"
    }
   ],
   "source": [
    "windeg.sort_values(ascending=False).head(10)"
   ]
  },
  {
   "cell_type": "markdown",
   "metadata": {},
   "source": [
    "An analgous measure, **weighted out-degree** is based on the number of edge for a node, but ponderated by the weigtht of each edge. Here this corresponds to the total number of emails sent by each person."
   ]
  },
  {
   "cell_type": "code",
   "execution_count": 17,
   "metadata": {},
   "outputs": [],
   "source": [
    "# get a dictionary of weighted out-degree scores for all nodes\n",
    "wout_degrees = dict(g.out_degree(weight=\"weight\"))"
   ]
  },
  {
   "cell_type": "code",
   "execution_count": 18,
   "metadata": {},
   "outputs": [
    {
     "name": "stdout",
     "output_type": "stream",
     "text": [
      "Weighted in-degree range: [0, 24367]\n",
      "Mean weighted in-degree: 432.09\n",
      "Median weighted in-degree: 93\n"
     ]
    }
   ],
   "source": [
    "woutdeg = pd.Series(wout_degrees)\n",
    "print('Weighted in-degree range: [%d, %d]' % (woutdeg.min(), woutdeg.max() ) )\n",
    "print('Mean weighted in-degree: %.2f' % woutdeg.mean() )\n",
    "print('Median weighted in-degree: %d' % woutdeg.median() )"
   ]
  },
  {
   "cell_type": "code",
   "execution_count": 19,
   "metadata": {},
   "outputs": [
    {
     "data": {
      "image/png": "[encoded data removed]",
      "text/plain": [
       "<Figure size 864x432 with 1 Axes>"
      ]
     },
     "metadata": {
      "needs_background": "light"
     },
     "output_type": "display_data"
    }
   ],
   "source": [
    "ax = woutdeg.plot.hist(figsize=(12,6), fontsize=14, legend=None, color=\"darkgreen\", bins=20, zorder=3)\n",
    "ax.yaxis.grid()\n",
    "ax.set_ylabel(\"Number of Nodes\", fontsize=14)\n",
    "ax.set_xlabel(\"Weighted Out-Degree\", fontsize=14);"
   ]
  },
  {
   "cell_type": "markdown",
   "metadata": {},
   "source": [
    "From the distribution plot and the node rankings, we see that one user accounts for 38% of all emails sent:"
   ]
  },
  {
   "cell_type": "code",
   "execution_count": 20,
   "metadata": {},
   "outputs": [
    {
     "data": {
      "text/plain": [
       "pete.davis@enron.com         24367\n",
       "jeff.dasovich@enron.com       3517\n",
       "tana.jones@enron.com          2462\n",
       "vince.kaminski@enron.com      1603\n",
       "james.steffes@enron.com       1565\n",
       "sara.shackleton@enron.com     1535\n",
       "mike.grigsby@enron.com        1163\n",
       "bill.williams@enron.com       1131\n",
       "mark.taylor@enron.com          953\n",
       "louise.kitchen@enron.com       914\n",
       "dtype: int64"
      ]
     },
     "execution_count": 20,
     "metadata": {},
     "output_type": "execute_result"
    }
   ],
   "source": [
    "woutdeg.sort_values(ascending=False).head(10)"
   ]
  },
  {
   "cell_type": "code",
   "execution_count": 21,
   "metadata": {},
   "outputs": [
    {
     "data": {
      "text/plain": [
       "38.362957948265816"
      ]
     },
     "execution_count": 21,
     "metadata": {},
     "output_type": "execute_result"
    }
   ],
   "source": [
    "# calculate percentage from this user\n",
    "100.0 * (woutdeg[\"pete.davis@enron.com\"]/woutdeg.sum())"
   ]
  },
  {
   "cell_type": "markdown",
   "metadata": {},
   "source": [
    "If we remove this individual from the series, we can get a clearer view of the distribution of out-degree scores for the rest of the employees."
   ]
  },
  {
   "cell_type": "code",
   "execution_count": 22,
   "metadata": {},
   "outputs": [
    {
     "data": {
      "image/png": "[encoded data removed]",
      "text/plain": [
       "<Figure size 864x432 with 1 Axes>"
      ]
     },
     "metadata": {
      "needs_background": "light"
     },
     "output_type": "display_data"
    }
   ],
   "source": [
    "woutdeg2 = woutdeg.drop(\"pete.davis@enron.com\")\n",
    "ax = woutdeg2.plot.hist(figsize=(12,6), fontsize=14, legend=None, color=\"darkgreen\", bins=20, zorder=3)\n",
    "ax.yaxis.grid()\n",
    "ax.set_ylabel(\"Number of Nodes\", fontsize=14)\n",
    "ax.set_xlabel(\"Weighted Out-Degree\", fontsize=14);"
   ]
  },
  {
   "cell_type": "markdown",
   "metadata": {},
   "source": [
    "### Weighted Centrality Measures"
   ]
  },
  {
   "cell_type": "markdown",
   "metadata": {},
   "source": [
    "NetworkX contains implementations of various centrality measures which can take into account edge weights."
   ]
  },
  {
   "cell_type": "markdown",
   "metadata": {},
   "source": [
    "For example, we can compute **weighted eigenvector centrality**, which takes into account the strength of connections on edges, by specifying the attribute to use for weights:"
   ]
  },
  {
   "cell_type": "code",
   "execution_count": 23,
   "metadata": {},
   "outputs": [
    {
     "data": {
      "text/plain": [
       "ryan.slinger@enron.com        4.116e-01\n",
       "albert.meyers@enron.com       4.116e-01\n",
       "mark.guzman@enron.com         4.113e-01\n",
       "geir.solberg@enron.com        4.107e-01\n",
       "pete.davis@enron.com          4.071e-01\n",
       "bill.williams@enron.com       3.128e-01\n",
       "eric.linder@enron.com         1.589e-01\n",
       "monika.causholli@enron.com    1.481e-01\n",
       "kate.symes@enron.com          8.953e-02\n",
       "steven.merriss@enron.com      4.900e-02\n",
       "holden.salisbury@enron.com    4.668e-02\n",
       "cara.semperger@enron.com      3.425e-03\n",
       "lisa.gang@enron.com           1.792e-03\n",
       "john.forney@enron.com         1.367e-03\n",
       "diana.scholtes@enron.com      1.134e-03\n",
       "sean.crandall@enron.com       1.008e-03\n",
       "chris.stokley@enron.com       9.335e-04\n",
       "kay.mann@enron.com            8.854e-04\n",
       "matt.motley@enron.com         7.007e-04\n",
       "phillip.platter@enron.com     7.004e-04\n",
       "dtype: float64"
      ]
     },
     "execution_count": 23,
     "metadata": {},
     "output_type": "execute_result"
    }
   ],
   "source": [
    "w_eigs = dict(nx.eigenvector_centrality(g, weight=\"weight\"))\n",
    "# convert dictionary to a Series\n",
    "weig = pd.Series(w_eigs)\n",
    "# get top 20\n",
    "weig.sort_values(ascending=False).head(20)"
   ]
  },
  {
   "cell_type": "markdown",
   "metadata": {},
   "source": [
    "Similarly, we can calculate **weighted betweeneness centrality**, where shortest paths are computed considering edge weights."
   ]
  },
  {
   "cell_type": "code",
   "execution_count": 24,
   "metadata": {},
   "outputs": [
    {
     "data": {
      "text/plain": [
       "sally.beck@enron.com         0.134\n",
       "kenneth.lay@enron.com        0.075\n",
       "kevin.presto@enron.com       0.070\n",
       "kim.ward@enron.com           0.057\n",
       "jeff.dasovich@enron.com      0.051\n",
       "phillip.allen@enron.com      0.051\n",
       "chris.stokley@enron.com      0.049\n",
       "fletcher.sturm@enron.com     0.047\n",
       "john.lavorato@enron.com      0.046\n",
       "hunter.shively@enron.com     0.045\n",
       "scott.neal@enron.com         0.043\n",
       "louise.kitchen@enron.com     0.038\n",
       "greg.whalley@enron.com       0.035\n",
       "richard.sanders@enron.com    0.032\n",
       "barry.tycholiz@enron.com     0.030\n",
       "phillip.platter@enron.com    0.030\n",
       "susan.scott@enron.com        0.030\n",
       "bill.williams@enron.com      0.030\n",
       "darron.giron@enron.com       0.030\n",
       "tana.jones@enron.com         0.029\n",
       "dtype: float64"
      ]
     },
     "execution_count": 24,
     "metadata": {},
     "output_type": "execute_result"
    }
   ],
   "source": [
    "w_bets = dict(nx.betweenness_centrality(g, weight=\"weight\"))\n",
    "# convert dictionary to a Series\n",
    "wbet = pd.Series(w_bets)\n",
    "# get top 20\n",
    "wbet.sort_values(ascending=False).head(20)"
   ]
  }
 ],
 "metadata": {
  "kernelspec": {
   "display_name": "Python 3",
   "language": "python",
   "name": "python3"
  },
  "language_info": {
   "codemirror_mode": {
    "name": "ipython",
    "version": 3
   },
   "file_extension": ".py",
   "mimetype": "text/x-python",
   "name": "python",
   "nbconvert_exporter": "python",
   "pygments_lexer": "ipython3",
   "version": "3.8.5"
  }
 },
 "nbformat": 4,
 "nbformat_minor": 2
}
