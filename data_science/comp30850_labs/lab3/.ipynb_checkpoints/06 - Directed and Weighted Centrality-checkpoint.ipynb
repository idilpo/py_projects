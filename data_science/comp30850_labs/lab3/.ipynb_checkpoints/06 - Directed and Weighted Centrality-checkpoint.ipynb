{
 "cells": [
  {
   "cell_type": "markdown",
   "metadata": {},
   "source": [
    "# Directed and Weighted Centrality\n",
    "\n",
    "Specific measures can be applied to measure centrality or node importance in directed and/or weighted networks."
   ]
  },
  {
   "cell_type": "code",
   "execution_count": null,
   "metadata": {},
   "outputs": [],
   "source": [
    "import networkx as nx\n",
    "import pandas as pd\n",
    "import matplotlib.pyplot as plt\n",
    "%matplotlib inline\n",
    "pd.set_option(\"display.precision\", 3)"
   ]
  },
  {
   "cell_type": "markdown",
   "metadata": {},
   "source": [
    "In this notebook we will use data from the widely-studied Enron email corpus, which is described [here](https://en.wikipedia.org/wiki/Enron_Corpus).\n",
    "\n",
    "First we load the data and create a network representing the Enron internal email network. Each line contains a sender email addreess, a receipient email address, and the number of emails sent from the sender to the receipient.\n",
    "\n",
    "It makes sense to represent this data as a directed network, with edge weights indicating the number of emails from sender to receipient."
   ]
  },
  {
   "cell_type": "code",
   "execution_count": null,
   "metadata": {},
   "outputs": [],
   "source": [
    "fin = open(\"enron.edgelist\",\"r\")\n",
    "lines = fin.readlines()\n",
    "fin.close()"
   ]
  },
  {
   "cell_type": "code",
   "execution_count": null,
   "metadata": {},
   "outputs": [],
   "source": [
    "g = nx.DiGraph()\n",
    "for line in lines:\n",
    "    parts = line.strip().split(\"\\t\")\n",
    "    num_emails = int(parts[2])\n",
    "    g.add_edge( parts[0], parts[1], weight=num_emails )"
   ]
  },
  {
   "cell_type": "code",
   "execution_count": null,
   "metadata": {},
   "outputs": [],
   "source": [
    "g.number_of_nodes(), g.number_of_edges()"
   ]
  },
  {
   "cell_type": "markdown",
   "metadata": {},
   "source": [
    "### Unweighted In-Degrees and Out-Degrees"
   ]
  },
  {
   "cell_type": "markdown",
   "metadata": {},
   "source": [
    "First, we could look at the simple count of incoming edges - i.e. the **unweighted in-degree**. In this context, the number indicates the number of unique individuals from whom a person has received emails."
   ]
  },
  {
   "cell_type": "code",
   "execution_count": null,
   "metadata": {},
   "outputs": [],
   "source": [
    "# get a dictionary of in-degree scores for all nodes\n",
    "in_degrees = dict(g.in_degree())\n",
    "in_degrees"
   ]
  },
  {
   "cell_type": "markdown",
   "metadata": {},
   "source": [
    "Examine statistics and distribution of unweighted in-degree values:"
   ]
  },
  {
   "cell_type": "code",
   "execution_count": null,
   "metadata": {},
   "outputs": [],
   "source": [
    "indeg = pd.Series(in_degrees)\n",
    "print('In-degree range: [%d, %d]' % (indeg.min(), indeg.max() ) )\n",
    "print('Mean in-degree: %.2f' % indeg.mean() )\n",
    "print('Median in-degree: %d' % indeg.median() )"
   ]
  },
  {
   "cell_type": "code",
   "execution_count": null,
   "metadata": {},
   "outputs": [],
   "source": [
    "ax = indeg.plot.hist(figsize=(12,6), fontsize=14, legend=None, color=\"darkred\", bins=20, zorder=3)\n",
    "ax.yaxis.grid()\n",
    "ax.set_ylabel(\"Number of Nodes\", fontsize=14)\n",
    "ax.set_xlabel(\"Unweighted In-Degree\", fontsize=14);"
   ]
  },
  {
   "cell_type": "markdown",
   "metadata": {},
   "source": [
    "Get the top 10 nodes ranked by in-degree. Who received emails from the largest number of unique senders in the company?"
   ]
  },
  {
   "cell_type": "code",
   "execution_count": null,
   "metadata": {},
   "outputs": [],
   "source": [
    "indeg.sort_values(ascending=False).head(10)"
   ]
  },
  {
   "cell_type": "markdown",
   "metadata": {},
   "source": [
    "Next, look at the simple count of outgoing edges - i.e. the **unweighted out-degree**. This correspond to the number indicates the number of unique individuals to whom each person has sent emails."
   ]
  },
  {
   "cell_type": "code",
   "execution_count": null,
   "metadata": {},
   "outputs": [],
   "source": [
    "# get a dictionary of out-degree scores for all nodes\n",
    "out_degrees = dict(g.out_degree())"
   ]
  },
  {
   "cell_type": "markdown",
   "metadata": {},
   "source": [
    "We see that the lowest out-degree is 0 - i.e. these are nodes representing people who sent no emails during the time period covered this dataset."
   ]
  },
  {
   "cell_type": "code",
   "execution_count": null,
   "metadata": {},
   "outputs": [],
   "source": [
    "outdeg = pd.Series(out_degrees)\n",
    "print('In-degree range: [%d, %d]' % (outdeg.min(), outdeg.max() ) )\n",
    "print('Mean in-degree: %.2f' % outdeg.mean() )\n",
    "print('Median in-degree: %d' % outdeg.median() )"
   ]
  },
  {
   "cell_type": "code",
   "execution_count": null,
   "metadata": {},
   "outputs": [],
   "source": [
    "ax = outdeg.plot.hist(figsize=(12,6), fontsize=14, legend=None, color=\"darkgreen\", bins=20, zorder=3)\n",
    "ax.yaxis.grid()\n",
    "ax.set_ylabel(\"Number of Nodes\", fontsize=14)\n",
    "ax.set_xlabel(\"Unweighted Out-Degree\", fontsize=14);"
   ]
  },
  {
   "cell_type": "markdown",
   "metadata": {},
   "source": [
    "Get the top 10 nodes ranked by in-degree. Who sent emails to the largest number of unique addresses?"
   ]
  },
  {
   "cell_type": "code",
   "execution_count": null,
   "metadata": {},
   "outputs": [],
   "source": [
    "outdeg.sort_values(ascending=False).head(10)"
   ]
  },
  {
   "cell_type": "markdown",
   "metadata": {},
   "source": [
    "### Weighted In-Degrees and Out-Degrees"
   ]
  },
  {
   "cell_type": "markdown",
   "metadata": {},
   "source": [
    "So far we have not considered the number of emails sent between each employee, just the number of edges. We can also look at weighted degrees, which are based on email counts in this case. "
   ]
  },
  {
   "cell_type": "markdown",
   "metadata": {},
   "source": [
    "Calculate the weighted in-degree - i.e. the total number of e-mails received by each employee:"
   ]
  },
  {
   "cell_type": "code",
   "execution_count": null,
   "metadata": {},
   "outputs": [],
   "source": [
    "# get a dictionary of in-degree scores for all nodes, using values from the 'weight' attribute\n",
    "win_degrees = dict(g.in_degree(weight=\"weight\"))"
   ]
  },
  {
   "cell_type": "markdown",
   "metadata": {},
   "source": [
    "We can see from the statistics of these scores that the range of values is much larger when we take into account weights:"
   ]
  },
  {
   "cell_type": "code",
   "execution_count": null,
   "metadata": {},
   "outputs": [],
   "source": [
    "windeg = pd.Series(win_degrees)\n",
    "print('Weighted in-degree range: [%d, %d]' % (windeg.min(), windeg.max() ) )\n",
    "print('Mean weighted in-degree: %.2f' % windeg.mean() )\n",
    "print('Median weighted in-degree: %d' % windeg.median() )"
   ]
  },
  {
   "cell_type": "code",
   "execution_count": null,
   "metadata": {},
   "outputs": [],
   "source": [
    "ax = windeg.plot.hist(figsize=(12,6), fontsize=14, legend=None, color=\"darkred\", bins=20, zorder=3)\n",
    "ax.yaxis.grid()\n",
    "ax.set_ylabel(\"Number of Nodes\", fontsize=14)\n",
    "ax.set_xlabel(\"Weighted In-Degree\", fontsize=14);"
   ]
  },
  {
   "cell_type": "markdown",
   "metadata": {},
   "source": [
    "Which employees received the most emails in the company during this time period?"
   ]
  },
  {
   "cell_type": "code",
   "execution_count": null,
   "metadata": {},
   "outputs": [],
   "source": [
    "windeg.sort_values(ascending=False).head(10)"
   ]
  },
  {
   "cell_type": "markdown",
   "metadata": {},
   "source": [
    "An analgous measure, **weighted out-degree** is based on the number of edge for a node, but ponderated by the weigtht of each edge. Here this corresponds to the total number of emails sent by each person."
   ]
  },
  {
   "cell_type": "code",
   "execution_count": null,
   "metadata": {},
   "outputs": [],
   "source": [
    "# get a dictionary of weighted out-degree scores for all nodes\n",
    "wout_degrees = dict(g.out_degree(weight=\"weight\"))"
   ]
  },
  {
   "cell_type": "code",
   "execution_count": null,
   "metadata": {},
   "outputs": [],
   "source": [
    "woutdeg = pd.Series(wout_degrees)\n",
    "print('Weighted in-degree range: [%d, %d]' % (woutdeg.min(), woutdeg.max() ) )\n",
    "print('Mean weighted in-degree: %.2f' % woutdeg.mean() )\n",
    "print('Median weighted in-degree: %d' % woutdeg.median() )"
   ]
  },
  {
   "cell_type": "code",
   "execution_count": null,
   "metadata": {},
   "outputs": [],
   "source": [
    "ax = woutdeg.plot.hist(figsize=(12,6), fontsize=14, legend=None, color=\"darkgreen\", bins=20, zorder=3)\n",
    "ax.yaxis.grid()\n",
    "ax.set_ylabel(\"Number of Nodes\", fontsize=14)\n",
    "ax.set_xlabel(\"Weighted Out-Degree\", fontsize=14);"
   ]
  },
  {
   "cell_type": "markdown",
   "metadata": {},
   "source": [
    "From the distribution plot and the node rankings, we see that one user accounts for 38% of all emails sent:"
   ]
  },
  {
   "cell_type": "code",
   "execution_count": null,
   "metadata": {},
   "outputs": [],
   "source": [
    "woutdeg.sort_values(ascending=False).head(10)"
   ]
  },
  {
   "cell_type": "code",
   "execution_count": null,
   "metadata": {},
   "outputs": [],
   "source": [
    "# calculate percentage from this user\n",
    "100.0 * (woutdeg[\"pete.davis@enron.com\"]/woutdeg.sum())"
   ]
  },
  {
   "cell_type": "markdown",
   "metadata": {},
   "source": [
    "If we remove this individual from the series, we can get a clearer view of the distribution of out-degree scores for the rest of the employees."
   ]
  },
  {
   "cell_type": "code",
   "execution_count": null,
   "metadata": {},
   "outputs": [],
   "source": [
    "woutdeg2 = woutdeg.drop(\"pete.davis@enron.com\")\n",
    "ax = woutdeg2.plot.hist(figsize=(12,6), fontsize=14, legend=None, color=\"darkgreen\", bins=20, zorder=3)\n",
    "ax.yaxis.grid()\n",
    "ax.set_ylabel(\"Number of Nodes\", fontsize=14)\n",
    "ax.set_xlabel(\"Weighted Out-Degree\", fontsize=14);"
   ]
  },
  {
   "cell_type": "markdown",
   "metadata": {},
   "source": [
    "### Weighted Centrality Measures"
   ]
  },
  {
   "cell_type": "markdown",
   "metadata": {},
   "source": [
    "NetworkX contains implementations of various centrality measures which can take into account edge weights."
   ]
  },
  {
   "cell_type": "markdown",
   "metadata": {},
   "source": [
    "For example, we can compute **weighted eigenvector centrality**, which takes into account the strength of connections on edges, by specifying the attribute to use for weights:"
   ]
  },
  {
   "cell_type": "code",
   "execution_count": null,
   "metadata": {},
   "outputs": [],
   "source": [
    "w_eigs = dict(nx.eigenvector_centrality(g, weight=\"weight\"))\n",
    "# convert dictionary to a Series\n",
    "weig = pd.Series(w_eigs)\n",
    "# get top 20\n",
    "weig.sort_values(ascending=False).head(20)"
   ]
  },
  {
   "cell_type": "markdown",
   "metadata": {},
   "source": [
    "Similarly, we can calculate **weighted betweeneness centrality**, where shortest paths are computed considering edge weights."
   ]
  },
  {
   "cell_type": "code",
   "execution_count": null,
   "metadata": {},
   "outputs": [],
   "source": [
    "w_bets = dict(nx.betweenness_centrality(g, weight=\"weight\"))\n",
    "# convert dictionary to a Series\n",
    "wbet = pd.Series(w_bets)\n",
    "# get top 20\n",
    "wbet.sort_values(ascending=False).head(20)"
   ]
  }
 ],
 "metadata": {
  "kernelspec": {
   "display_name": "Python 3",
   "language": "python",
   "name": "python3"
  },
  "language_info": {
   "codemirror_mode": {
    "name": "ipython",
    "version": 3
   },
   "file_extension": ".py",
   "mimetype": "text/x-python",
   "name": "python",
   "nbconvert_exporter": "python",
   "pygments_lexer": "ipython3",
   "version": "3.8.5"
  }
 },
 "nbformat": 4,
 "nbformat_minor": 2
}
