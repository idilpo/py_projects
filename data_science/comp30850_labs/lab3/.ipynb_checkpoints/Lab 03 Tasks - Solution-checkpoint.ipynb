{
 "cells": [
  {
   "cell_type": "markdown",
   "metadata": {},
   "source": [
    "# Lab 03 Tasks - Solution"
   ]
  },
  {
   "cell_type": "markdown",
   "metadata": {},
   "source": [
    "The dataset used for this task consists of records of flights retrieved from the [US Bureau of Transportation Statistics website](https://www.transtats.bts.gov) The data covers the period Q1 and Q2 2016, and includes each flight’s origin, destination, along with other metadata. The raw data is provided as a single CSV file (airstats-2016.csv)."
   ]
  },
  {
   "cell_type": "code",
   "execution_count": null,
   "metadata": {},
   "outputs": [],
   "source": [
    "import networkx as nx\n",
    "import pandas as pd\n",
    "import matplotlib\n",
    "import matplotlib.pyplot as plt\n",
    "%matplotlib inline"
   ]
  },
  {
   "cell_type": "markdown",
   "metadata": {},
   "source": [
    "### Task 1"
   ]
  },
  {
   "cell_type": "markdown",
   "metadata": {},
   "source": [
    "Load the flight record data from the file airstats-2016.csv into a Pandas Data Frame, and apply the following filtering steps to the Data Frame:\n",
    "\n",
    "1. Only include records where the flight origin and destination where both in the United States.\n",
    "2. Only include records from the time periods Q1 2016 and Q2 2016.\n",
    "3. Only include records where the reported distance between the origin and destination was at least 20 miles."
   ]
  },
  {
   "cell_type": "code",
   "execution_count": null,
   "metadata": {},
   "outputs": [],
   "source": [
    "# Load the data\n",
    "df = pd.read_csv(\"airstats-2016.csv\")\n",
    "print( \"%d flight records\" % len(df))\n",
    "df.head()"
   ]
  },
  {
   "cell_type": "code",
   "execution_count": null,
   "metadata": {},
   "outputs": [],
   "source": [
    "# Only include records where the flight origin and destination where both in the United States.\n",
    "df2 = df[(df[\"ORIGIN_COUNTRY\"]==\"US\") & (df[\"DEST_COUNTRY\"]==\"US\")]\n",
    "print(\"%d flight records after filtering\" % len(df2))\n",
    "df2.head()"
   ]
  },
  {
   "cell_type": "code",
   "execution_count": null,
   "metadata": {},
   "outputs": [],
   "source": [
    "# include only records from the time periods Q1 2016 and Q2 2016.\n",
    "df3 = df2[(df2[\"QUARTER\"]<3)]\n",
    "print(\"%d flight records after filtering\" % len(df3))\n",
    "df3.head()"
   ]
  },
  {
   "cell_type": "code",
   "execution_count": null,
   "metadata": {},
   "outputs": [],
   "source": [
    "# only include records where the reported distance between the origin and destination was at least 20 miles.\n",
    "df4 = df3[(df3[\"DISTANCE\"]>=20)]\n",
    "print(\"%d flight records after filtering\" % len(df4))\n",
    "df4.head()"
   ]
  },
  {
   "cell_type": "markdown",
   "metadata": {},
   "source": [
    "### Task 2"
   ]
  },
  {
   "cell_type": "markdown",
   "metadata": {},
   "source": [
    "Create an **unweighted directed** network from the Pandas Data Frame.\n",
    "\n",
    "Use the three letter IATA airport codes for the origin and destination as the node identifiers. Also add the airport’s city name as an attribute for each node."
   ]
  },
  {
   "cell_type": "code",
   "execution_count": null,
   "metadata": {},
   "outputs": [],
   "source": [
    "# get set of all airports\n",
    "origins = set(df4[\"ORIGIN\"].unique())\n",
    "destinations = set(df4[\"DEST\"].unique())\n",
    "airports = origins.union(destinations)"
   ]
  },
  {
   "cell_type": "code",
   "execution_count": null,
   "metadata": {},
   "outputs": [],
   "source": [
    "# create a map from the airport codes to the city name\n",
    "city_names = {}\n",
    "for i, row in df4.iterrows():\n",
    "    city_names[row[\"ORIGIN\"]] = row[\"ORIGIN_CITY_NAME\"]\n",
    "    city_names[row[\"DEST\"]] = row[\"DEST_CITY_NAME\"]"
   ]
  },
  {
   "cell_type": "code",
   "execution_count": null,
   "metadata": {},
   "outputs": [],
   "source": [
    "# create a directed network and add the nodes\n",
    "g = nx.DiGraph()\n",
    "nodes = sorted(list(airports))\n",
    "for node in nodes:\n",
    "    g.add_node(node, city=city_names[node] )"
   ]
  },
  {
   "cell_type": "code",
   "execution_count": null,
   "metadata": {},
   "outputs": [],
   "source": [
    "# create a directed edge between each unique origin and destination pair, based on the flight records\n",
    "# note that, in a standard DiGraph, Networkx ignores duplicate edges and only adds them once\n",
    "for i, row in df4.iterrows():\n",
    "    node1 = row[\"ORIGIN\"]\n",
    "    node2 = row[\"DEST\"]\n",
    "    # ignore self-loops, in case they exist\n",
    "    if node1 == node2:\n",
    "        continue\n",
    "    g.add_edge(node1, node2)"
   ]
  },
  {
   "cell_type": "markdown",
   "metadata": {},
   "source": [
    "### Task 3"
   ]
  },
  {
   "cell_type": "markdown",
   "metadata": {},
   "source": [
    "Characterise the unweighted directed network from Task 3, looking at:\n",
    "      \n",
    "1. How many nodes and edges are in the network?\n",
    "2. The connectedness of the network (i.e. density and number of components).\n",
    "3. Identify frequent origin and destination airports in the network (i.e. in-degree and out-degreee)\n",
    "4. Identify key hub airports in the network (i.e. betweenness)"
   ]
  },
  {
   "cell_type": "code",
   "execution_count": null,
   "metadata": {},
   "outputs": [],
   "source": [
    "# How many nodes and edges are in the network?\n",
    "print(\"Network has %d nodes and %d edges\" % ( g.number_of_nodes(), g.number_of_edges() ) )"
   ]
  },
  {
   "cell_type": "code",
   "execution_count": null,
   "metadata": {},
   "outputs": [],
   "source": [
    "# What level of density in the network?\n",
    "nx.density(g)"
   ]
  },
  {
   "cell_type": "code",
   "execution_count": null,
   "metadata": {},
   "outputs": [],
   "source": [
    "# how many strongly connected components?\n",
    "nx.number_strongly_connected_components(g)"
   ]
  },
  {
   "cell_type": "code",
   "execution_count": null,
   "metadata": {},
   "outputs": [],
   "source": [
    "# create Pandas series for in-degree and out-degree scores\n",
    "s_in = pd.Series( dict(g.in_degree()) )\n",
    "s_out = pd.Series( dict(g.out_degree()) )"
   ]
  },
  {
   "cell_type": "code",
   "execution_count": null,
   "metadata": {},
   "outputs": [],
   "source": [
    "# get top ranked by in-degree\n",
    "s_in.sort_values(ascending=False).head(10)"
   ]
  },
  {
   "cell_type": "code",
   "execution_count": null,
   "metadata": {},
   "outputs": [],
   "source": [
    "# get top ranked by out-degree\n",
    "s_out.sort_values(ascending=False).head(10)"
   ]
  },
  {
   "cell_type": "code",
   "execution_count": null,
   "metadata": {},
   "outputs": [],
   "source": [
    "# use betweenness centrality to identify key hub airports in the network:\n",
    "s_bet = pd.Series(nx.betweenness_centrality(g))\n",
    "s_bet.sort_values(ascending=False).head(10)"
   ]
  },
  {
   "cell_type": "markdown",
   "metadata": {},
   "source": [
    "### Task 4"
   ]
  },
  {
   "cell_type": "markdown",
   "metadata": {},
   "source": [
    "Now create an alternative **weighted directed** network from the filtered Pandas Data Frame."
   ]
  },
  {
   "cell_type": "code",
   "execution_count": null,
   "metadata": {},
   "outputs": [],
   "source": [
    "# create the new network\n",
    "g = nx.DiGraph()\n",
    "nodes = list(airports)\n",
    "nodes.sort()\n",
    "for node in nodes:\n",
    "    g.add_node(node, city=city_names[node])"
   ]
  },
  {
   "cell_type": "code",
   "execution_count": null,
   "metadata": {},
   "outputs": [],
   "source": [
    "# count the flight frequencies between each pair of airports.\n",
    "from collections import Counter\n",
    "freqs = Counter()\n",
    "# make sure to apply this to the filtered Data Frame\n",
    "for i, row in df4.iterrows():\n",
    "    node1 = row[\"ORIGIN\"]\n",
    "    node2 = row[\"DEST\"]\n",
    "    # ignore self-loops, in case they exist\n",
    "    if node1 == node2:\n",
    "        continue\n",
    "    pair = (node1,node2)\n",
    "    freqs[pair] += 1"
   ]
  },
  {
   "cell_type": "code",
   "execution_count": null,
   "metadata": {},
   "outputs": [],
   "source": [
    "# now create a directed weighted edge between each unique origin and destination airport pair\n",
    "for pair in freqs:\n",
    "    g.add_edge( pair[0], pair[1], weight=freqs[pair] )\n",
    "print(\"Created network with %d nodes and %d edges\" % ( g.number_of_nodes(), g.number_of_edges() ) )"
   ]
  },
  {
   "cell_type": "markdown",
   "metadata": {},
   "source": [
    "### Task 5"
   ]
  },
  {
   "cell_type": "markdown",
   "metadata": {},
   "source": [
    "Based on the weighted directed network, identify:\n",
    "    \n",
    "1. The most frequent routes in the network.\n",
    "2. The most frequent origin and destination airports in the network, considering edge weights."
   ]
  },
  {
   "cell_type": "code",
   "execution_count": null,
   "metadata": {},
   "outputs": [],
   "source": [
    "# get all the edge weights, so that we can find the highest weight pairs\n",
    "weights = {}\n",
    "for e in g.edges(data=True):\n",
    "    pair = (e[0],e[1])\n",
    "    weights[pair] = e[2][\"weight\"]"
   ]
  },
  {
   "cell_type": "code",
   "execution_count": null,
   "metadata": {},
   "outputs": [],
   "source": [
    "# convert to a series\n",
    "s_weights = pd.Series(weights)\n",
    "# get the top ranked pairs\n",
    "s_weights.sort_values(ascending=False).head(10)"
   ]
  },
  {
   "cell_type": "code",
   "execution_count": null,
   "metadata": {},
   "outputs": [],
   "source": [
    "# find the most frequent origin airports, based on weighted out-degree\n",
    "s_wout = pd.Series( dict(g.out_degree(weight=\"weight\")) )\n",
    "s_wout.sort_values(ascending=False).head(10)"
   ]
  },
  {
   "cell_type": "code",
   "execution_count": null,
   "metadata": {},
   "outputs": [],
   "source": [
    "# find the most frequent destination airports, based on weighted in-degree\n",
    "s_win = pd.Series( dict(g.in_degree(weight=\"weight\")) )\n",
    "s_win.sort_values(ascending=False).head(10)"
   ]
  }
 ],
 "metadata": {
  "kernelspec": {
   "display_name": "Python 3",
   "language": "python",
   "name": "python3"
  },
  "language_info": {
   "codemirror_mode": {
    "name": "ipython",
    "version": 3
   },
   "file_extension": ".py",
   "mimetype": "text/x-python",
   "name": "python",
   "nbconvert_exporter": "python",
   "pygments_lexer": "ipython3",
   "version": "3.8.5"
  }
 },
 "nbformat": 4,
 "nbformat_minor": 2
}
