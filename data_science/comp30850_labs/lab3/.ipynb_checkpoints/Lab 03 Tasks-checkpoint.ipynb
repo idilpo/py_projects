{
 "cells": [
  {
   "cell_type": "markdown",
   "metadata": {},
   "source": [
    "# Lab 03 Tasks"
   ]
  },
  {
   "cell_type": "markdown",
   "metadata": {},
   "source": [
    "The dataset used for this task consists of records of flights retrieved from the [US Bureau of Transportation Statistics website](https://www.transtats.bts.gov) The data covers the period Q1 and Q2 2016, and includes each flight’s origin, destination, along with other metadata. The raw data is provided as a single CSV file (airstats-2016.csv)."
   ]
  },
  {
   "cell_type": "markdown",
   "metadata": {},
   "source": [
    "### Task 1"
   ]
  },
  {
   "cell_type": "markdown",
   "metadata": {},
   "source": [
    "Load the flight record data from the file airstats-2016.csv into a Pandas Data Frame, and apply the following filtering steps to the Data Frame:\n",
    "\n",
    "1. Only include records where the flight origin and destination where both in the United States.\n",
    "2. Only include records from the time periods Q1 2016 and Q2 2016.\n",
    "3. Only include records where the reported distance between the origin and destination was at least 20 miles."
   ]
  },
  {
   "cell_type": "code",
   "execution_count": null,
   "metadata": {},
   "outputs": [],
   "source": []
  },
  {
   "cell_type": "markdown",
   "metadata": {},
   "source": [
    "### Task 2"
   ]
  },
  {
   "cell_type": "markdown",
   "metadata": {},
   "source": [
    "Create an **unweighted directed** network from the Pandas Data Frame.\n",
    "\n",
    "Use the three letter IATA airport codes for the origin and destination as the node identifiers. Also add the airport’s city name as an attribute for each node."
   ]
  },
  {
   "cell_type": "code",
   "execution_count": null,
   "metadata": {},
   "outputs": [],
   "source": []
  },
  {
   "cell_type": "markdown",
   "metadata": {},
   "source": [
    "### Task 3"
   ]
  },
  {
   "cell_type": "markdown",
   "metadata": {},
   "source": [
    "Characterise the unweighted directed network from Task 3, looking at:\n",
    "      \n",
    "1. How many nodes and edges are in the network?\n",
    "2. The connectedness of the network (i.e. density and number of components).\n",
    "3. Identify frequent origin and destination airports in the network (i.e. in-degree and out-degreee)\n",
    "4. Identify key hub airports in the network (i.e. betweenness)"
   ]
  },
  {
   "cell_type": "code",
   "execution_count": null,
   "metadata": {},
   "outputs": [],
   "source": []
  },
  {
   "cell_type": "markdown",
   "metadata": {},
   "source": [
    "### Task 4"
   ]
  },
  {
   "cell_type": "markdown",
   "metadata": {},
   "source": [
    "Now create an alternative **weighted directed** network from the Pandas Data Frame."
   ]
  },
  {
   "cell_type": "code",
   "execution_count": null,
   "metadata": {},
   "outputs": [],
   "source": []
  },
  {
   "cell_type": "markdown",
   "metadata": {},
   "source": [
    "### Task 5"
   ]
  },
  {
   "cell_type": "markdown",
   "metadata": {},
   "source": [
    "Based on the weighted directed network, identify:\n",
    "    \n",
    "1. The most frequent routes in the network.\n",
    "2. The most frequent origin and destination airports in the network, considering edge weights."
   ]
  },
  {
   "cell_type": "code",
   "execution_count": null,
   "metadata": {},
   "outputs": [],
   "source": []
  }
 ],
 "metadata": {
  "kernelspec": {
   "display_name": "Python 3",
   "language": "python",
   "name": "python3"
  },
  "language_info": {
   "codemirror_mode": {
    "name": "ipython",
    "version": 3
   },
   "file_extension": ".py",
   "mimetype": "text/x-python",
   "name": "python",
   "nbconvert_exporter": "python",
   "pygments_lexer": "ipython3",
   "version": "3.8.5"
  }
 },
 "nbformat": 4,
 "nbformat_minor": 2
}
