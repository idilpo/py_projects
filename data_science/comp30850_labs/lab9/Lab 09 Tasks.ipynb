{
 "cells": [
  {
   "cell_type": "markdown",
   "metadata": {},
   "source": [
    "# Lab 09 Tasks\n",
    "\n",
    "The dataset used for this tasks represents anonymised loan records between users on Prosper.com, a peer-to-peer lending platform.\n",
    "\n",
    "The raw data is stored in CSV format, where each row represents a record of who loaned money to whom. Each record also includes a numeric timestamp."
   ]
  },
  {
   "cell_type": "markdown",
   "metadata": {},
   "source": [
    "### Task 1\n",
    "\n",
    "Load the loan record data from the file *loans.csv* into a Pandas DataFrame. Based on the timestamp data, divide the records into 10 separate time windows of equal duration, represented by 10 separate DataFrames."
   ]
  },
  {
   "cell_type": "code",
   "execution_count": null,
   "metadata": {},
   "outputs": [],
   "source": []
  },
  {
   "cell_type": "markdown",
   "metadata": {},
   "source": [
    "### Task 2\n",
    "\n",
    "For each time window, construct a corresponding unweighted directed time window network, where an edge denotes who loaned money to whom."
   ]
  },
  {
   "cell_type": "code",
   "execution_count": null,
   "metadata": {},
   "outputs": [],
   "source": []
  },
  {
   "cell_type": "markdown",
   "metadata": {},
   "source": [
    "### Task 3\n",
    "\n",
    "From the time window networks from Task 2, generate time series for two network characterisation measures:\n",
    "1. Network density\n",
    "2. Average node degree\n",
    "\n",
    "Examine these time series to determine whether there are any fundamental changes in the dynamic network over time."
   ]
  },
  {
   "cell_type": "code",
   "execution_count": null,
   "metadata": {},
   "outputs": [],
   "source": []
  }
 ],
 "metadata": {
  "kernelspec": {
   "display_name": "Python 3 (ipykernel)",
   "language": "python",
   "name": "python3"
  },
  "language_info": {
   "codemirror_mode": {
    "name": "ipython",
    "version": 3
   },
   "file_extension": ".py",
   "mimetype": "text/x-python",
   "name": "python",
   "nbconvert_exporter": "python",
   "pygments_lexer": "ipython3",
   "version": "3.9.7"
  }
 },
 "nbformat": 4,
 "nbformat_minor": 2
}
