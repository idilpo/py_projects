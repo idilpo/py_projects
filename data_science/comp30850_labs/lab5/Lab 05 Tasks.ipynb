{
 "cells": [
  {
   "cell_type": "markdown",
   "metadata": {},
   "source": [
    "# Lab 05 Tasks"
   ]
  },
  {
   "cell_type": "markdown",
   "metadata": {},
   "source": [
    "This task involves working with a small network which represents the train routes operated by Irish Rail (http://irishrail.ie). In this type of transport network, each node is a station, and an edge exists between two nodes if there is a route between the corresponding stations.\n",
    "\n",
    "The dataset is represented via 2 plain text files:\n",
    "\n",
    "1. *irish-rail-nodes.txt*: List of stations, each with a unique numeric index (indexed from 0).\n",
    "2. *irish-rail-adjacency.txt*: Binary adjacency matrix representation for the network."
   ]
  },
  {
   "cell_type": "markdown",
   "metadata": {},
   "source": [
    "### Task 1"
   ]
  },
  {
   "cell_type": "markdown",
   "metadata": {},
   "source": [
    "Load the two dataset files, so that:\n",
    "\n",
    "1. The index-station name map is represented as a Python dictonary.\n",
    "2. The adjacency matrix is represented as a NumPy matrix."
   ]
  },
  {
   "cell_type": "code",
   "execution_count": null,
   "metadata": {},
   "outputs": [],
   "source": []
  },
  {
   "cell_type": "markdown",
   "metadata": {},
   "source": [
    "### Task 2"
   ]
  },
  {
   "cell_type": "markdown",
   "metadata": {},
   "source": [
    "From the data structures created in Task 1, create an appropriate NetworkX network to represent the data. Use station names as the node identifiers.\n",
    "\n",
    "Hint: you can use the function *nx.relabel_nodes()* to re-label the identifers for all nodes in a network.\n",
    "\n",
    "From this network, identify:\n",
    "\n",
    "1. The hub stations in the rail network.\n",
    "2. The peripheral stations in the rail network - i.e. those which are only accessible via a route from **one** other station."
   ]
  },
  {
   "cell_type": "code",
   "execution_count": null,
   "metadata": {},
   "outputs": [],
   "source": []
  },
  {
   "cell_type": "markdown",
   "metadata": {},
   "source": [
    "### Task 3"
   ]
  },
  {
   "cell_type": "markdown",
   "metadata": {},
   "source": [
    "Visualise the adjacency matrix using a Seaborn *heatmap*, where the rows/columns are alphabetised."
   ]
  },
  {
   "cell_type": "code",
   "execution_count": null,
   "metadata": {},
   "outputs": [],
   "source": []
  },
  {
   "cell_type": "markdown",
   "metadata": {},
   "source": [
    "### Task 4"
   ]
  },
  {
   "cell_type": "markdown",
   "metadata": {},
   "source": [
    "Export the  network from Task 2 as a new GEXF file."
   ]
  },
  {
   "cell_type": "code",
   "execution_count": null,
   "metadata": {},
   "outputs": [],
   "source": []
  },
  {
   "cell_type": "markdown",
   "metadata": {},
   "source": [
    "### Task 5"
   ]
  },
  {
   "cell_type": "markdown",
   "metadata": {},
   "source": [
    "Load the GEXF file from Task 4 in *Gephi*, and complete the following steps:\n",
    "    \n",
    "1. Calculate the **degree** of the nodes.\n",
    "2. Colour and scale the size of the nodes, ranked based on their **degree**.\n",
    "3. Test different layout algorithms and parameter valuese to find a suitable layout for the network.\n",
    "4. Use the *Preview* screen to adjust the final appearance of the network, and then export an image of the network as a PNG file."
   ]
  },
  {
   "cell_type": "code",
   "execution_count": null,
   "metadata": {},
   "outputs": [],
   "source": []
  }
 ],
 "metadata": {
  "kernelspec": {
   "display_name": "Python 3",
   "language": "python",
   "name": "python3"
  },
  "language_info": {
   "codemirror_mode": {
    "name": "ipython",
    "version": 3
   },
   "file_extension": ".py",
   "mimetype": "text/x-python",
   "name": "python",
   "nbconvert_exporter": "python",
   "pygments_lexer": "ipython3",
   "version": "3.7.4"
  }
 },
 "nbformat": 4,
 "nbformat_minor": 2
}
