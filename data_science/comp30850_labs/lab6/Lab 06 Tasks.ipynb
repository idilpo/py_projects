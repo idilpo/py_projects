{
 "cells": [
  {
   "cell_type": "markdown",
   "metadata": {},
   "source": [
    "# Lab 06 Tasks"
   ]
  },
  {
   "cell_type": "markdown",
   "metadata": {},
   "source": [
    "This task involves constructing an ingredient co-occurrence network, often called a **recipe network**, from a dataset of recipes from the website [yummly.com](http://yummly.com) which covers a number of different cuisines, each associated with a specific region."
   ]
  },
  {
   "cell_type": "markdown",
   "metadata": {},
   "source": [
    "### Task 1"
   ]
  },
  {
   "cell_type": "markdown",
   "metadata": {},
   "source": [
    "Load the file *recipes.json*, and then calculate: \n",
    "1. The number of recipes per cuisine\n",
    "2. The total number of unique ingredients\n",
    "3. The most common ingredients across all recipes."
   ]
  },
  {
   "cell_type": "code",
   "execution_count": null,
   "metadata": {},
   "outputs": [],
   "source": []
  },
  {
   "cell_type": "markdown",
   "metadata": {},
   "source": [
    "### Task 2"
   ]
  },
  {
   "cell_type": "markdown",
   "metadata": {},
   "source": [
    "Construct a recipe network from the data, based on the co-occurrence of pairs of ingredients within each recipe. Each node should be an ingredient, and an edge indicates that two ingredients occur at least once in the same recipe. Edge weights indicate the number of times the pair occur together.\n",
    "\n",
    "Note: When building the network, exclude the following common items in the list below."
   ]
  },
  {
   "cell_type": "code",
   "execution_count": null,
   "metadata": {},
   "outputs": [],
   "source": [
    "exclusions = [ \"water\", \"salt\", \"sugar\", \"butter\", \"pepper\", \"black pepper\", \"oil\", \"olive oil\", \"flour\" ]"
   ]
  },
  {
   "cell_type": "code",
   "execution_count": null,
   "metadata": {},
   "outputs": [],
   "source": []
  },
  {
   "cell_type": "markdown",
   "metadata": {},
   "source": [
    "### Task 3"
   ]
  },
  {
   "cell_type": "markdown",
   "metadata": {},
   "source": [
    "Find the top ingredients in the recipe network, based on (i) degree, (ii) weighted degree."
   ]
  },
  {
   "cell_type": "code",
   "execution_count": null,
   "metadata": {},
   "outputs": [],
   "source": []
  },
  {
   "cell_type": "markdown",
   "metadata": {},
   "source": [
    "### Task 4"
   ]
  },
  {
   "cell_type": "markdown",
   "metadata": {},
   "source": [
    "Filter the network to remove all edges with weight < 10 (i.e. all pairs of ingredients which have co-occurred in less than 10 recipes).\n",
    "\n",
    "Export this filtered network as a GEXF file."
   ]
  },
  {
   "cell_type": "code",
   "execution_count": null,
   "metadata": {},
   "outputs": [],
   "source": []
  },
  {
   "cell_type": "markdown",
   "metadata": {},
   "source": [
    "### Task 5"
   ]
  },
  {
   "cell_type": "markdown",
   "metadata": {},
   "source": [
    "Load the GEXF file from Task 4 in *Gephi*, and complete the following steps:\n",
    "    \n",
    "1. Calculate the **degree** of the nodes.\n",
    "2. Colour and scale the size of the nodes, ranked based on their **degree**.\n",
    "3. Test different layout algorithms and parameter valuese to find a suitable layout for the network.\n",
    "4. Use the *Preview* screen to adjust the final appearance of the recipe network, and then export an image of the network as a PNG file."
   ]
  },
  {
   "cell_type": "code",
   "execution_count": null,
   "metadata": {},
   "outputs": [],
   "source": []
  }
 ],
 "metadata": {
  "kernelspec": {
   "display_name": "Python 3",
   "language": "python",
   "name": "python3"
  },
  "language_info": {
   "codemirror_mode": {
    "name": "ipython",
    "version": 3
   },
   "file_extension": ".py",
   "mimetype": "text/x-python",
   "name": "python",
   "nbconvert_exporter": "python",
   "pygments_lexer": "ipython3",
   "version": "3.7.3"
  }
 },
 "nbformat": 4,
 "nbformat_minor": 2
}
