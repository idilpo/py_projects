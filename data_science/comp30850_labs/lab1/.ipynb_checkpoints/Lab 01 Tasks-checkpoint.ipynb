{
 "cells": [
  {
   "cell_type": "markdown",
   "metadata": {},
   "source": [
    "# Lab 01 Tasks "
   ]
  },
  {
   "cell_type": "markdown",
   "metadata": {},
   "source": [
    "## Task 1"
   ]
  },
  {
   "cell_type": "markdown",
   "metadata": {},
   "source": [
    "The Python dictionary below stores details of Twitter follower relations for a set of 6 Twitter users. Each key is a Twitter username **X** and the corresponding list indicates the names of other users who follow the user **X**.\n",
    "\n",
    "Based on this data, construct an appropriate network using NetworkX, and identify: \n",
    "\n",
    "- The total number of nodes and edges in the network.\n",
    "- All edges in the network that are *reciprocated*."
   ]
  },
  {
   "cell_type": "code",
   "execution_count": null,
   "metadata": {},
   "outputs": [],
   "source": [
    "twitter_data = {'@alice88': ['@amara2000', '@freya_ie', '@sydney'],\n",
    "    '@amara2000': ['@freya_ie', '@alice88', '@dobrien', '@marcjones'],\n",
    "    '@dobrien': ['@marcjones', '@alice88'],\n",
    "    '@freya_ie': ['@sydney'],\n",
    "    '@marcjones': ['@freya_ie', '@alice88', '@amara2000', '@dobrien'],\n",
    "    '@sydney': ['@alice88']}"
   ]
  },
  {
   "cell_type": "code",
   "execution_count": null,
   "metadata": {},
   "outputs": [],
   "source": [
    "import networkx as nx\n",
    "g = nx.Graph()"
   ]
  },
  {
   "cell_type": "code",
   "execution_count": null,
   "metadata": {},
   "outputs": [],
   "source": [
    "for x in twitter_data:\n",
    "    twitter_data[x]"
   ]
  },
  {
   "cell_type": "markdown",
   "metadata": {},
   "source": [
    "## Task 2"
   ]
  },
  {
   "cell_type": "markdown",
   "metadata": {},
   "source": [
    "The Python dictionary below records meeting attendances for team members of a research group across an 8 week period. \n",
    "\n",
    "Based on this data, construct an appropriate weighted *co-presence* network, and identify: \n",
    "\n",
    "- The total number of nodes and edges in the network.\n",
    "- The edge(s) with the highest weight in the network."
   ]
  },
  {
   "cell_type": "code",
   "execution_count": null,
   "metadata": {},
   "outputs": [],
   "source": [
    "meeting_data = {'week1': ['bob', 'alice', 'oliver', 'justin'],\n",
    "    'week2': ['maria', 'tanya', 'justin', 'bob', 'oliver'],\n",
    "    'week3': ['lara', 'tanya', 'maria', 'justin'],\n",
    "    'week4': ['justin', 'bob', 'tanya'],\n",
    "    'week5': ['alice', 'tanya', 'lara', 'bob', 'justin'],\n",
    "    'week6': ['oliver', 'maria', 'lara'],\n",
    "    'week7': ['tanya', 'justin', 'bob'],\n",
    "    'week8': ['maria', 'tanya', 'bob']}"
   ]
  },
  {
   "cell_type": "code",
   "execution_count": null,
   "metadata": {},
   "outputs": [],
   "source": []
  },
  {
   "cell_type": "markdown",
   "metadata": {},
   "source": [
    "## Task 3"
   ]
  },
  {
   "cell_type": "markdown",
   "metadata": {},
   "source": [
    "Based on the weighted co-presence network constructed in Task 2, perform the following:\n",
    "\n",
    "- Create a new unweighted network by apply thresholding to the edge weights, for a threshold value *t=3*. How many nodes and edges are in the resulting network?\n",
    "- Identify any *isolated* nodes which now exist in the new unweighted network."
   ]
  },
  {
   "cell_type": "code",
   "execution_count": null,
   "metadata": {},
   "outputs": [],
   "source": []
  }
 ],
 "metadata": {
  "kernelspec": {
   "display_name": "Python 3",
   "language": "python",
   "name": "python3"
  },
  "language_info": {
   "codemirror_mode": {
    "name": "ipython",
    "version": 3
   },
   "file_extension": ".py",
   "mimetype": "text/x-python",
   "name": "python",
   "nbconvert_exporter": "python",
   "pygments_lexer": "ipython3",
   "version": "3.8.5"
  }
 },
 "nbformat": 4,
 "nbformat_minor": 4
}
