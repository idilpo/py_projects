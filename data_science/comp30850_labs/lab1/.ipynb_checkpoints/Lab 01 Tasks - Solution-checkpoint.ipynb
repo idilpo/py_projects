{
 "cells": [
  {
   "cell_type": "markdown",
   "metadata": {},
   "source": [
    "# Lab 01 Tasks - Solution"
   ]
  },
  {
   "cell_type": "code",
   "execution_count": 1,
   "metadata": {},
   "outputs": [],
   "source": [
    "import networkx as nx"
   ]
  },
  {
   "cell_type": "markdown",
   "metadata": {},
   "source": [
    "## Task 1"
   ]
  },
  {
   "cell_type": "markdown",
   "metadata": {},
   "source": [
    "The Python dictionary below stores details of Twitter follower relations for a set of 6 Twitter users. Each key is a Twitter username **X** and the corresponding list indicates the names of other users who follow the user **X**.\n",
    "\n",
    "Based on this data, construct an appropriate network using NetworkX, and identify: \n",
    "\n",
    "- The total number of nodes and edges in the network.\n",
    "- All edges in the network that are *reciprocated*."
   ]
  },
  {
   "cell_type": "code",
   "execution_count": 2,
   "metadata": {},
   "outputs": [],
   "source": [
    "twitter_data = {'@alice88': ['@amara2000', '@freya_ie', '@sydney'],\n",
    "    '@amara2000': ['@freya_ie', '@alice88', '@dobrien', '@marcjones'],\n",
    "    '@dobrien': ['@marcjones', '@alice88'],\n",
    "    '@freya_ie': ['@sydney'],\n",
    "    '@marcjones': ['@freya_ie', '@alice88', '@amara2000', '@dobrien'],\n",
    "    '@sydney': ['@alice88']}"
   ]
  },
  {
   "cell_type": "code",
   "execution_count": 3,
   "metadata": {},
   "outputs": [],
   "source": [
    "# create an empty directed network\n",
    "g1 = nx.DiGraph()\n",
    "# process the followers for each Twitter user\n",
    "for username1 in twitter_data:\n",
    "    # add as a node - note that we could skip this step as it will be done automatically \n",
    "    # when we add edges\n",
    "    g1.add_node(username1)\n",
    "    # add the corresponding directed edges\n",
    "    # note this should be username1 <- username2, since username2 follows username1\n",
    "    for username2 in twitter_data[username1]:\n",
    "        g1.add_edge(username2, username1)"
   ]
  },
  {
   "cell_type": "code",
   "execution_count": 4,
   "metadata": {},
   "outputs": [
    {
     "data": {
      "text/plain": [
       "(6, 15)"
      ]
     },
     "execution_count": 4,
     "metadata": {},
     "output_type": "execute_result"
    }
   ],
   "source": [
    "# how many nodes and edges?\n",
    "g1.number_of_nodes(), g1.number_of_edges()"
   ]
  },
  {
   "cell_type": "code",
   "execution_count": 5,
   "metadata": {},
   "outputs": [
    {
     "name": "stdout",
     "output_type": "stream",
     "text": [
      "('@alice88', '@amara2000')\n",
      "('@alice88', '@sydney')\n",
      "('@amara2000', '@marcjones')\n",
      "('@dobrien', '@marcjones')\n"
     ]
    }
   ],
   "source": [
    "# check which edges are reciprocated\n",
    "# there are a few ways to do this\n",
    "# one way is to check each unique pair of nodes to see if edges exist in both directions\n",
    "import itertools\n",
    "for pair in itertools.combinations(twitter_data.keys(), r=2):\n",
    "    # do edges exist in both directions?\n",
    "    if g1.has_edge(pair[0], pair[1]) and g1.has_edge(pair[1], pair[0]):\n",
    "        print(pair)"
   ]
  },
  {
   "cell_type": "markdown",
   "metadata": {},
   "source": [
    "## Task 2"
   ]
  },
  {
   "cell_type": "markdown",
   "metadata": {},
   "source": [
    "The Python dictionary below records meeting attendances for team members of a research group across an 8 week period. \n",
    "\n",
    "Based on this data, construct an appropriate weighted *co-presence* network, and identify: \n",
    "\n",
    "- The total number of nodes and edges in the network.\n",
    "- The edge(s) with the highest weight in the network."
   ]
  },
  {
   "cell_type": "code",
   "execution_count": 6,
   "metadata": {},
   "outputs": [],
   "source": [
    "meeting_data = {'week1': ['bob', 'alice', 'oliver', 'justin'],\n",
    "    'week2': ['maria', 'tanya', 'justin', 'bob', 'oliver'],\n",
    "    'week3': ['lara', 'tanya', 'maria', 'justin'],\n",
    "    'week4': ['justin', 'bob', 'tanya'],\n",
    "    'week5': ['alice', 'tanya', 'lara', 'bob', 'justin'],\n",
    "    'week6': ['oliver', 'maria', 'lara'],\n",
    "    'week7': ['tanya', 'justin', 'bob'],\n",
    "    'week8': ['maria', 'tanya', 'bob']}"
   ]
  },
  {
   "cell_type": "code",
   "execution_count": 7,
   "metadata": {},
   "outputs": [],
   "source": [
    "# create an undirected network\n",
    "g2 = nx.Graph()\n",
    "for week in meeting_data:\n",
    "    # get all unique pairs of individuals from this meeting\n",
    "    for pair in itertools.combinations(meeting_data[week], r=2):\n",
    "        # do we have the edge already? if so, increment the weight on the edge\n",
    "        if g2.has_edge(pair[0], pair[1]):\n",
    "            g2[pair[0]][pair[1]][\"weight\"] += 1\n",
    "        # otherwise create a new edge with a weight of 1\n",
    "        else:\n",
    "            g2.add_edge(pair[0], pair[1], weight=1)"
   ]
  },
  {
   "cell_type": "code",
   "execution_count": 8,
   "metadata": {},
   "outputs": [
    {
     "data": {
      "text/plain": [
       "(7, 20)"
      ]
     },
     "execution_count": 8,
     "metadata": {},
     "output_type": "execute_result"
    }
   ],
   "source": [
    "# how many nodes and edges?\n",
    "g2.number_of_nodes(), g2.number_of_edges()"
   ]
  },
  {
   "cell_type": "code",
   "execution_count": 9,
   "metadata": {},
   "outputs": [
    {
     "data": {
      "text/plain": [
       "[('bob, justin', 5),\n",
       " ('bob, tanya', 5),\n",
       " ('justin, tanya', 5),\n",
       " ('maria, tanya', 3),\n",
       " ('bob, alice', 2),\n",
       " ('bob, oliver', 2),\n",
       " ('bob, maria', 2),\n",
       " ('alice, justin', 2),\n",
       " ('oliver, justin', 2),\n",
       " ('oliver, maria', 2),\n",
       " ('justin, maria', 2),\n",
       " ('justin, lara', 2),\n",
       " ('maria, lara', 2),\n",
       " ('tanya, lara', 2),\n",
       " ('bob, lara', 1),\n",
       " ('alice, oliver', 1),\n",
       " ('alice, tanya', 1),\n",
       " ('alice, lara', 1),\n",
       " ('oliver, tanya', 1),\n",
       " ('oliver, lara', 1)]"
      ]
     },
     "execution_count": 9,
     "metadata": {},
     "output_type": "execute_result"
    }
   ],
   "source": [
    "# iterate over the edges to get the weights\n",
    "from collections import Counter\n",
    "weights = Counter()\n",
    "for e in g2.edges(data=True):\n",
    "    # create a string from the 2 node names to use as a key\n",
    "    key = \"%s, %s\" % (e[0], e[1])\n",
    "    weights[key] = e[2][\"weight\"]\n",
    "# by using a Python Counter variable, we can easily get the edges with highest weights\n",
    "weights.most_common()"
   ]
  },
  {
   "cell_type": "markdown",
   "metadata": {},
   "source": [
    "## Task 3"
   ]
  },
  {
   "cell_type": "markdown",
   "metadata": {},
   "source": [
    "Based on the weighted co-presence network constructed in Task 2, perform the following:\n",
    "\n",
    "- Create a new unweighted network by apply thresholding to the edge weights, for a threshold value *t=3*. How many nodes and edges are in the resulting network?\n",
    "- Identify any *isolated* nodes which now exist in the new unweighted network."
   ]
  },
  {
   "cell_type": "code",
   "execution_count": 10,
   "metadata": {},
   "outputs": [],
   "source": [
    "# create a new empty network\n",
    "g3 = nx.Graph()\n",
    "# add all of the original nodes\n",
    "for node in g2.nodes():\n",
    "    g3.add_node(node)\n",
    "# iterate over the older network, to decide if we want to keep the edges\n",
    "for e in g2.edges(data=True):\n",
    "    # does the edge weight reach the threshold?\n",
    "    if e[2][\"weight\"] >= 3:\n",
    "        g3.add_edge( e[0], e[1] )"
   ]
  },
  {
   "cell_type": "code",
   "execution_count": 11,
   "metadata": {},
   "outputs": [
    {
     "data": {
      "text/plain": [
       "(7, 4)"
      ]
     },
     "execution_count": 11,
     "metadata": {},
     "output_type": "execute_result"
    }
   ],
   "source": [
    "# how many nodes and edges remain in the thresholded network?\n",
    "g3.number_of_nodes(), g3.number_of_edges()"
   ]
  },
  {
   "cell_type": "code",
   "execution_count": 12,
   "metadata": {},
   "outputs": [
    {
     "name": "stdout",
     "output_type": "stream",
     "text": [
      "alice\n",
      "oliver\n",
      "lara\n"
     ]
    }
   ],
   "source": [
    "# any isolated? i.e. have no neighbors?\n",
    "for node in g3.nodes():\n",
    "    neighbors = list(g3.neighbors(node))\n",
    "    if len(neighbors) == 0:\n",
    "        print(node)"
   ]
  },
  {
   "cell_type": "code",
   "execution_count": 13,
   "metadata": {},
   "outputs": [
    {
     "data": {
      "text/plain": [
       "['alice', 'oliver', 'lara']"
      ]
     },
     "execution_count": 13,
     "metadata": {},
     "output_type": "execute_result"
    }
   ],
   "source": [
    "# NetworkX also provides a quick way of doing this\n",
    "list(nx.isolates(g3))"
   ]
  }
 ],
 "metadata": {
  "kernelspec": {
   "display_name": "Python 3",
   "language": "python",
   "name": "python3"
  },
  "language_info": {
   "codemirror_mode": {
    "name": "ipython",
    "version": 3
   },
   "file_extension": ".py",
   "mimetype": "text/x-python",
   "name": "python",
   "nbconvert_exporter": "python",
   "pygments_lexer": "ipython3",
   "version": "3.8.5"
  }
 },
 "nbformat": 4,
 "nbformat_minor": 4
}
