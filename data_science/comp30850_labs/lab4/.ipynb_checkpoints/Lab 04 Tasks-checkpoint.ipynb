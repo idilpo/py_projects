{
 "cells": [
  {
   "cell_type": "markdown",
   "metadata": {},
   "source": [
    "# Lab 04 Tasks"
   ]
  },
  {
   "cell_type": "markdown",
   "metadata": {},
   "source": [
    "This task involves working with a dataset which contains information about contacts between patients and health-care workers in a hospital ward in France. The data was gathered using wearable sensors which were able to detect face-to-face close range proximity of participants wearing the sensors.\n",
    "\n",
    "For more details see:\n",
    "\n",
    "- http://www.sociopatterns.org/datasets/hospital-ward-dynamic-contact-network/\n",
    "- Génois, M., & Barrat, A. Can co-location be used as a proxy for face-to-face contacts?. EPJ Data Science, 7(1), 11. (2018)\n",
    "\n",
    "The raw data is provided as 2 tab-separated files:*\n",
    "\n",
    "1. *hospital-metadata.csv: One line per participant in the hospital ward, where each participant as a unique numeric ID and a \"status\" (e.g. patient, doctor etc).\n",
    "2. *hospital-contacts.csv*: Each line indicates a contact event between two participants, with the time of the event and the numeric IDs of the participants involved."
   ]
  },
  {
   "cell_type": "markdown",
   "metadata": {},
   "source": [
    "### Task 1"
   ]
  },
  {
   "cell_type": "markdown",
   "metadata": {},
   "source": [
    "Load the hospital metadata and contact data into two separate Pandas Data Frames."
   ]
  },
  {
   "cell_type": "code",
   "execution_count": null,
   "metadata": {},
   "outputs": [],
   "source": []
  },
  {
   "cell_type": "markdown",
   "metadata": {},
   "source": [
    "### Task 2"
   ]
  },
  {
   "cell_type": "markdown",
   "metadata": {},
   "source": [
    "Create a weighted undirected network from the two Data Frames, such that:\n",
    "\n",
    "- There is a node for every participant in the study. Each node should have an attribute indicating their \"status\".\n",
    "- Edges between nodes have a \"weight\", indicating the number of times two participants (nodes) have been in contact.\n",
    "\n",
    "What size is the resulting network?"
   ]
  },
  {
   "cell_type": "code",
   "execution_count": null,
   "metadata": {},
   "outputs": [],
   "source": []
  },
  {
   "cell_type": "markdown",
   "metadata": {},
   "source": [
    "### Task 3"
   ]
  },
  {
   "cell_type": "markdown",
   "metadata": {},
   "source": [
    "From the network created in Task 2, filter all isolated nodes (i.e. nodes with degree 0)."
   ]
  },
  {
   "cell_type": "code",
   "execution_count": null,
   "metadata": {},
   "outputs": [],
   "source": []
  },
  {
   "cell_type": "markdown",
   "metadata": {},
   "source": [
    "### Task 4"
   ]
  },
  {
   "cell_type": "markdown",
   "metadata": {},
   "source": [
    "Export the filtered network from Task 3 as a new GEXF file."
   ]
  },
  {
   "cell_type": "code",
   "execution_count": null,
   "metadata": {},
   "outputs": [],
   "source": []
  },
  {
   "cell_type": "markdown",
   "metadata": {},
   "source": [
    "### Task 5"
   ]
  },
  {
   "cell_type": "markdown",
   "metadata": {},
   "source": [
    "Load the GEXF file from Task 4 in *Gephi*, and complete the following steps:\n",
    "    \n",
    "1. Colour the nodes in the network, based on their \"status\" attribute, via the *Appearance Panel* on the *Overview* screen.\n",
    "2. Calculate the **weighted degree** of the nodes, via the *Statistics Panel* on the *Overview* screen.\n",
    "3. Scale the size of the nodes, via the *Appearance Panel* on the *Overview* screen, ranked based on their **weighted degree**.\n",
    "4. Apply the **Force Atlas** algorithm to layout the network on the *Overview* screen. Adjust the parameters on the *Layout* panel to improve the network's readability.\n",
    "5. Filter the nodes in the network to only display nodes with the \"status\" attribute equal to \"doctor\", via the *Filters Panel* on the *Overview* screen.\n",
    "6. Use the *Preview* screen to adjust the final appearance of the network, and then export an image of the network as a PNG file."
   ]
  },
  {
   "cell_type": "code",
   "execution_count": null,
   "metadata": {},
   "outputs": [],
   "source": []
  }
 ],
 "metadata": {
  "kernelspec": {
   "display_name": "Python 3",
   "language": "python",
   "name": "python3"
  },
  "language_info": {
   "codemirror_mode": {
    "name": "ipython",
    "version": 3
   },
   "file_extension": ".py",
   "mimetype": "text/x-python",
   "name": "python",
   "nbconvert_exporter": "python",
   "pygments_lexer": "ipython3",
   "version": "3.8.5"
  }
 },
 "nbformat": 4,
 "nbformat_minor": 2
}
