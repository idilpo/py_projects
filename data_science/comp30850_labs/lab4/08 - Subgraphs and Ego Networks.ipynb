{
 "cells": [
  {
   "cell_type": "markdown",
   "metadata": {},
   "source": [
    "# Subgraphs and Ego Networks"
   ]
  },
  {
   "cell_type": "code",
   "execution_count": null,
   "metadata": {},
   "outputs": [],
   "source": [
    "import networkx as nx\n",
    "import os.path\n",
    "import matplotlib.pyplot as plt\n",
    "%matplotlib inline"
   ]
  },
  {
   "cell_type": "markdown",
   "metadata": {},
   "source": [
    "In this notebook we look at **subgraphs** - i.e. a subset of the nodes in a network, and all of the edges connecting these nodes.\n",
    "\n",
    "We will use the sample of LinkedIn connections for illustrative purposes."
   ]
  },
  {
   "cell_type": "code",
   "execution_count": null,
   "metadata": {},
   "outputs": [],
   "source": [
    "g = nx.read_gexf(\"linkedin25.gexf\")\n",
    "# get list of node IDs\n",
    "list(g.nodes())"
   ]
  },
  {
   "cell_type": "markdown",
   "metadata": {},
   "source": [
    "## Subgraphs"
   ]
  },
  {
   "cell_type": "markdown",
   "metadata": {},
   "source": [
    "Given a network, we create a subgraph by specifying a list of nodes:"
   ]
  },
  {
   "cell_type": "code",
   "execution_count": null,
   "metadata": {},
   "outputs": [],
   "source": [
    "required = [ 'Alison Gayle', 'David Lennon', 'Claire Scott', 'Joyce Walsh', 'Eric Smith' ]\n",
    "sg = g.subgraph( required )"
   ]
  },
  {
   "cell_type": "code",
   "execution_count": null,
   "metadata": {},
   "outputs": [],
   "source": [
    "list( sg.nodes() )"
   ]
  },
  {
   "cell_type": "code",
   "execution_count": null,
   "metadata": {},
   "outputs": [],
   "source": [
    "list( sg.edges() )"
   ]
  },
  {
   "cell_type": "markdown",
   "metadata": {},
   "source": [
    "The subgraph can be treated as a normal network - i.e. for the purposes of visualisation, characterisation and so on."
   ]
  },
  {
   "cell_type": "code",
   "execution_count": null,
   "metadata": {},
   "outputs": [],
   "source": [
    "plt.figure(figsize=(8,6))\n",
    "plt.margins(0.1, 0.1)\n",
    "nx.draw_networkx(sg, with_labels=True, font_size=11, node_size=1100, node_color=\"lightblue\")\n",
    "plt.axis(\"off\");"
   ]
  },
  {
   "cell_type": "markdown",
   "metadata": {},
   "source": [
    "When we calculate measures (e.g. density, degree centrality), these measures are calculate with respect to the subgraph, not the overall network."
   ]
  },
  {
   "cell_type": "code",
   "execution_count": null,
   "metadata": {},
   "outputs": [],
   "source": [
    "nx.density(sg)"
   ]
  },
  {
   "cell_type": "code",
   "execution_count": null,
   "metadata": {},
   "outputs": [],
   "source": [
    "dict(nx.degree_centrality(sg))"
   ]
  },
  {
   "cell_type": "markdown",
   "metadata": {},
   "source": [
    "We can highlight a specific subgraph in the overall visualization:"
   ]
  },
  {
   "cell_type": "code",
   "execution_count": null,
   "metadata": {},
   "outputs": [],
   "source": [
    "plt.figure(figsize=(10,8))\n",
    "plt.margins(0.1, 0.1)\n",
    "# determine node positions\n",
    "pos = nx.spring_layout(g)\n",
    "# draw the full network\n",
    "nx.draw_networkx(g, pos, with_labels=True, font_size=11, node_size=800, node_color=\"#FFFF66\")\n",
    "# draw the subgraph set of nodes\n",
    "nx.draw_networkx_nodes(g, pos, nodelist=required, node_size=800, node_color=\"coral\")\n",
    "plt.axis(\"off\")\n",
    "plt.show()"
   ]
  },
  {
   "cell_type": "markdown",
   "metadata": {},
   "source": [
    "## Ego Networks"
   ]
  },
  {
   "cell_type": "markdown",
   "metadata": {},
   "source": [
    "An ego network is a subgraph which consists of a focal node (the **ego**) and the nodes to whom ego is directly connected (the **alters**), plus the edges among the alters. \n",
    "Let's look an example node from the LinkedIn network."
   ]
  },
  {
   "cell_type": "code",
   "execution_count": null,
   "metadata": {},
   "outputs": [],
   "source": [
    "ego_node = \"Claire Scott\"\n",
    "alters = g.neighbors(ego_node)\n",
    "for node in alters:\n",
    "    print(node)"
   ]
  },
  {
   "cell_type": "markdown",
   "metadata": {},
   "source": [
    "We create an ego network in NetworkX by calling *nx.ego_graph()*, specifying the full network and ego node:"
   ]
  },
  {
   "cell_type": "code",
   "execution_count": null,
   "metadata": {},
   "outputs": [],
   "source": [
    "eg = nx.ego_graph(g, ego_node)"
   ]
  },
  {
   "cell_type": "code",
   "execution_count": null,
   "metadata": {},
   "outputs": [],
   "source": [
    "list(eg.nodes())"
   ]
  },
  {
   "cell_type": "code",
   "execution_count": null,
   "metadata": {},
   "outputs": [],
   "source": [
    "list(eg.edges())"
   ]
  },
  {
   "cell_type": "markdown",
   "metadata": {},
   "source": [
    "We can then produce a cutomised visualisation of this ego network, where we highlight the ego node:"
   ]
  },
  {
   "cell_type": "code",
   "execution_count": null,
   "metadata": {},
   "outputs": [],
   "source": [
    "plt.figure(figsize=(9,7))\n",
    "plt.margins(0.1, 0.1)\n",
    "# position all nodes\n",
    "pos = nx.spring_layout(g)\n",
    "# draw the full network\n",
    "nx.draw_networkx(eg, pos, with_labels=True, font_size=12, node_size=900, node_color=\"lightblue\")\n",
    "# draw the ego in red, with larger node size\n",
    "nx.draw_networkx_nodes(eg, pos, nodelist=[ego_node], node_size=2500, node_color=\"coral\")\n",
    "plt.axis(\"off\")\n",
    "plt.show()"
   ]
  },
  {
   "cell_type": "markdown",
   "metadata": {},
   "source": [
    "Let's wrap this up as a single function:"
   ]
  },
  {
   "cell_type": "code",
   "execution_count": null,
   "metadata": {},
   "outputs": [],
   "source": [
    "def display_ego(g, ego_node):\n",
    "    # build the ego network\n",
    "    eg = nx.ego_graph(g, ego_node)\n",
    "    # create the figure\n",
    "    plt.figure(figsize=(9,7))\n",
    "    plt.margins(0.1, 0.1)\n",
    "    title = \"Ego network for %s (%d nodes)\" % (ego_node, eg.number_of_nodes())\n",
    "    plt.title(title, fontsize=14)\n",
    "    # lay out all nodes\n",
    "    pos = nx.spring_layout(g)\n",
    "    # draw the full network\n",
    "    nx.draw_networkx(eg, pos, with_labels=True, font_size=12, node_size=900, node_color=\"lightblue\")\n",
    "    # draw the ego in red, with larger node size\n",
    "    nx.draw_networkx_nodes(eg, pos, nodelist=[ego_node], node_size=2500, node_color=\"coral\")\n",
    "    plt.axis(\"off\")"
   ]
  },
  {
   "cell_type": "code",
   "execution_count": null,
   "metadata": {},
   "outputs": [],
   "source": [
    "display_ego(g, \"Eric Smith\")"
   ]
  },
  {
   "cell_type": "code",
   "execution_count": null,
   "metadata": {},
   "outputs": [],
   "source": [
    "display_ego(g, \"Sarah Sinclair\")"
   ]
  },
  {
   "cell_type": "markdown",
   "metadata": {},
   "source": [
    "We could also construct the \"ego minus the ego network\", which only contains the alters of the ego, not the ego itself:"
   ]
  },
  {
   "cell_type": "code",
   "execution_count": null,
   "metadata": {},
   "outputs": [],
   "source": [
    "# create the full ego network\n",
    "ego_node = \"Sarah Sinclair\"\n",
    "eg = nx.ego_graph(g, ego_node)\n",
    "# now remove the ego\n",
    "eg.remove_node(ego_node)"
   ]
  },
  {
   "cell_type": "markdown",
   "metadata": {},
   "source": [
    "We can now visualize this network, which shows us only the connections between the alters - i.e. the neighbors of the original ego node:"
   ]
  },
  {
   "cell_type": "code",
   "execution_count": null,
   "metadata": {},
   "outputs": [],
   "source": [
    "plt.figure(figsize=(9,7))\n",
    "plt.margins(0.1, 0.1)\n",
    "# position all nodes\n",
    "pos = nx.spring_layout(g)\n",
    "# draw the alters\n",
    "nx.draw_networkx(eg, pos, with_labels=True, font_size=12, node_size=900, node_color=\"lightblue\")\n",
    "plt.axis(\"off\");"
   ]
  }
 ],
 "metadata": {
  "kernelspec": {
   "display_name": "Python 3",
   "language": "python",
   "name": "python3"
  },
  "language_info": {
   "codemirror_mode": {
    "name": "ipython",
    "version": 3
   },
   "file_extension": ".py",
   "mimetype": "text/x-python",
   "name": "python",
   "nbconvert_exporter": "python",
   "pygments_lexer": "ipython3",
   "version": "3.8.5"
  }
 },
 "nbformat": 4,
 "nbformat_minor": 2
}
