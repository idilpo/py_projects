{
 "cells": [
  {
   "cell_type": "markdown",
   "metadata": {},
   "source": [
    "# Storing and Drawing Networks"
   ]
  },
  {
   "cell_type": "markdown",
   "metadata": {},
   "source": [
    "In this notebook we will look at basic NetworkX functionality for loading, saving, and network visualisation. We will use this functionality in many of our later notebooks. The visualisation components of the package rely on Matplotlib."
   ]
  },
  {
   "cell_type": "code",
   "execution_count": null,
   "metadata": {},
   "outputs": [],
   "source": [
    "import networkx as nx\n",
    "import matplotlib.pyplot as plt\n",
    "%matplotlib inline"
   ]
  },
  {
   "cell_type": "markdown",
   "metadata": {},
   "source": [
    "## Loading Networks"
   ]
  },
  {
   "cell_type": "markdown",
   "metadata": {},
   "source": [
    "NetworkX can load existing networks stored in files in a variety of file formats, including:\n",
    "- For simple edge lists, use *nx.read_edgelist()*\n",
    "- For GEXF (Graph Exchange XML Format), use *nx.read_gexf()* - see https://gephi.org/gexf/format\n",
    "- For GraphML, use *nx.read_graphml()* - see http://graphml.graphdrawing.org\n",
    "- For DOT, use *nx.read_dot()* - see http://www.graphviz.org/content/dot-language"
   ]
  },
  {
   "cell_type": "markdown",
   "metadata": {},
   "source": [
    "For instance, we can load a file containing a sample of a LinkedIn social network from a GEXF file using the below. This is an undirected network, where each node is a LinkedIn user and an edge indicates that two users are connected on the social network."
   ]
  },
  {
   "cell_type": "code",
   "execution_count": null,
   "metadata": {},
   "outputs": [],
   "source": [
    "g = nx.read_gexf(\"linkedin25.gexf\")"
   ]
  },
  {
   "cell_type": "code",
   "execution_count": null,
   "metadata": {},
   "outputs": [],
   "source": [
    "g.number_of_nodes(), g.number_of_edges()"
   ]
  },
  {
   "cell_type": "markdown",
   "metadata": {},
   "source": [
    "Take a look at the node data for this netowrk:"
   ]
  },
  {
   "cell_type": "code",
   "execution_count": null,
   "metadata": {},
   "outputs": [],
   "source": [
    "for node, data in g.nodes(data=True):\n",
    "    print(node, data)"
   ]
  },
  {
   "cell_type": "markdown",
   "metadata": {},
   "source": [
    "## Drawing Networks"
   ]
  },
  {
   "cell_type": "markdown",
   "metadata": {},
   "source": [
    "To visually display this network as a **network diagram**, we can use *NetworkX* to draw small networks, which uses the Python *Matplotlib* package internally for the rendering."
   ]
  },
  {
   "cell_type": "code",
   "execution_count": null,
   "metadata": {},
   "outputs": [],
   "source": [
    "# create a new Matplotlib figure, specify its dimensions\n",
    "plt.figure(figsize=(12,8))\n",
    "# add extra spacing\n",
    "plt.margins(0.1, 0.1)\n",
    "# display labels on the nodes\n",
    "nx.draw_networkx(g, with_labels=True, font_size=11, node_size=800, node_color=\"lightblue\")\n",
    "# hide the axes/border\n",
    "plt.axis(\"off\");"
   ]
  },
  {
   "cell_type": "markdown",
   "metadata": {},
   "source": [
    "NetworkX includes basic implementations of several **force directed layout algorithms**, to automatically place nodes in a network visualisation.\n",
    "\n",
    "Firstly, we will try the **Spring** layout:"
   ]
  },
  {
   "cell_type": "code",
   "execution_count": null,
   "metadata": {},
   "outputs": [],
   "source": [
    "# create a new Matplotlib figure, specify its dimensions\n",
    "plt.figure(figsize=(12,8))\n",
    "# add extra spacing\n",
    "plt.margins(0.1, 0.1)\n",
    "# determine the position of the nodes based on the layout algorithm\n",
    "pos = nx.spring_layout(g)\n",
    "# Draw the network as before, but specifiying the positions\n",
    "nx.draw_networkx(g, pos, with_labels=True, node_size=800, node_color=\"lightblue\")\n",
    "plt.axis(\"off\");"
   ]
  },
  {
   "cell_type": "markdown",
   "metadata": {},
   "source": [
    "Next, we will try another force directed algorithm, **Fruchterman Reingold**:"
   ]
  },
  {
   "cell_type": "code",
   "execution_count": null,
   "metadata": {},
   "outputs": [],
   "source": [
    "# create a new Matplotlib figure, specify its dimensions\n",
    "plt.figure(figsize=(12,8))\n",
    "# add extra spacing\n",
    "plt.margins(0.1, 0.1)\n",
    "# apply the layout algorithm to calculate node positions\n",
    "pos = nx.fruchterman_reingold_layout(g)\n",
    "# Draw the network as before, but specifiying the positions\n",
    "nx.draw_networkx(g, pos, with_labels=True, node_size=800, node_color=\"lightblue\")\n",
    "plt.axis(\"off\");"
   ]
  },
  {
   "cell_type": "markdown",
   "metadata": {},
   "source": [
    "## Customising Network Diagrams\n",
    "\n",
    "We can also customise aspects of a complete network visualisation, such as by drawing subsets of nodes separately with different visual attributes (e.g. color)."
   ]
  },
  {
   "cell_type": "code",
   "execution_count": null,
   "metadata": {},
   "outputs": [],
   "source": [
    "# list of nodes to highlight\n",
    "highlighted = [ \"Michael Ross\", \"Mike O'Hara\", \"Alison Gayle\", \"Claire Scott\", \"Bob O'Gara\" ] "
   ]
  },
  {
   "cell_type": "code",
   "execution_count": null,
   "metadata": {},
   "outputs": [],
   "source": [
    "# create a new Matplotlib figure, specify its dimensions\n",
    "plt.figure(figsize=(12,8))\n",
    "# add extra spacing\n",
    "plt.margins(0.1, 0.1)\n",
    "# apply the layout algorithm to calculate node positions\n",
    "pos = nx.spring_layout(g)\n",
    "# draw the full network\n",
    "nx.draw_networkx(g, pos, with_labels=True, font_size=12, node_size=800, node_color=\"lightblue\")\n",
    "# redraw the required nodes in a different color\n",
    "nx.draw_networkx_nodes(g, pos, nodelist=highlighted, node_size=800, node_color=\"yellow\")\n",
    "plt.axis(\"off\");"
   ]
  },
  {
   "cell_type": "markdown",
   "metadata": {},
   "source": [
    "We could also use node attributes to determine the color of the nodes. For instance, in this case we will use the values for the attribute 'gender'.\n",
    "\n",
    "Firstly, we create a list of colors, one per node, based on each node's attribute value:"
   ]
  },
  {
   "cell_type": "code",
   "execution_count": null,
   "metadata": {},
   "outputs": [],
   "source": [
    "colors = []\n",
    "colormap = { \"F\":\"purple\", \"M\":\"green\" }\n",
    "for node in g.nodes():\n",
    "    colors.append( colormap[g.nodes[node][\"gender\"]] )\n",
    "colors"
   ]
  },
  {
   "cell_type": "markdown",
   "metadata": {},
   "source": [
    "We plot the network as before, but pass in the list of colors to the input argument *node_color*:"
   ]
  },
  {
   "cell_type": "code",
   "execution_count": null,
   "metadata": {},
   "outputs": [],
   "source": [
    "plt.figure(figsize=(12,8))\n",
    "plt.margins(0.1, 0.1)\n",
    "pos = nx.spring_layout(g)\n",
    "nx.draw_networkx(g, pos, with_labels=True, font_size=11, node_size=900, node_color=colors)\n",
    "plt.axis(\"off\");"
   ]
  },
  {
   "cell_type": "markdown",
   "metadata": {},
   "source": [
    "Finally, we can export a network diagram using the standard Matplotlib save functionality:"
   ]
  },
  {
   "cell_type": "code",
   "execution_count": null,
   "metadata": {},
   "outputs": [],
   "source": [
    "plt.figure(figsize=(14,10))\n",
    "plt.margins(0.15, 0.15)\n",
    "nx.draw_networkx(g, pos, with_labels=True, font_size=14, node_size=1000, node_color=\"lightblue\")\n",
    "plt.axis(\"off\")\n",
    "# save the diagram as a PNG\n",
    "# the facecolor argument changes the background color of the image\n",
    "plt.savefig(\"linkedin-layout.png\", facecolor=\"#cccccc\")"
   ]
  },
  {
   "cell_type": "markdown",
   "metadata": {},
   "source": [
    "## Saving Networks"
   ]
  },
  {
   "cell_type": "markdown",
   "metadata": {},
   "source": [
    "We can easily export this network in a variety of different formats, suitable for import by tools such as Gephi."
   ]
  },
  {
   "cell_type": "code",
   "execution_count": null,
   "metadata": {},
   "outputs": [],
   "source": [
    "# Write a comma-separate edge list format, with no attribute information\n",
    "nx.write_edgelist(g, \"linkedin-commas.edges\", delimiter=\",\", data=False)\n",
    "# Write GraphML XML format\n",
    "nx.write_graphml(g, \"linkedin.graphml\", prettyprint=True)\n",
    "# Write GEXF XML format\n",
    "nx.write_gexf(g, \"linkedin.gexf\", prettyprint=True)"
   ]
  },
  {
   "cell_type": "markdown",
   "metadata": {},
   "source": [
    "We can look at the format of the output files:"
   ]
  },
  {
   "cell_type": "code",
   "execution_count": null,
   "metadata": {},
   "outputs": [],
   "source": [
    "# look at a portion of the edge list format\n",
    "lines = open(\"linkedin-commas.edges\", \"r\").readlines()\n",
    "lines[0:10]"
   ]
  },
  {
   "cell_type": "code",
   "execution_count": null,
   "metadata": {},
   "outputs": [],
   "source": [
    "# look at a portion of the GraphML format\n",
    "lines = open(\"linkedin.graphml\",\"r\").readlines()\n",
    "lines[0:10]"
   ]
  },
  {
   "cell_type": "code",
   "execution_count": null,
   "metadata": {},
   "outputs": [],
   "source": [
    "# look at a portion of the GEXF format\n",
    "lines = open(\"linkedin.gexf\",\"r\").readlines()\n",
    "lines[0:10]"
   ]
  }
 ],
 "metadata": {
  "kernelspec": {
   "display_name": "Python 3",
   "language": "python",
   "name": "python3"
  },
  "language_info": {
   "codemirror_mode": {
    "name": "ipython",
    "version": 3
   },
   "file_extension": ".py",
   "mimetype": "text/x-python",
   "name": "python",
   "nbconvert_exporter": "python",
   "pygments_lexer": "ipython3",
   "version": "3.8.5"
  }
 },
 "nbformat": 4,
 "nbformat_minor": 2
}
