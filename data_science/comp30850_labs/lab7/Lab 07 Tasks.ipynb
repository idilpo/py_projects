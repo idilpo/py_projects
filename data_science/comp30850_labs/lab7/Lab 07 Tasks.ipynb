{
 "cells": [
  {
   "cell_type": "markdown",
   "metadata": {},
   "source": [
    "# Lab 07 Tasks"
   ]
  },
  {
   "cell_type": "markdown",
   "metadata": {},
   "source": [
    "The dataset used for this lab is based on records concerning leading Irish companies and their directors from 2003 to 2013, which was originally compiled from the Irish Companies Registration Office website by Friel et al (2016). The data was compiled to study the overlap between directorships among many prominent Irish companies, and the frequency of occurrence of “interlocks”, where a director simultaneously sits on more than one company board. \n",
    "\n",
    "For analysis purposes, edge lists and company name metadata are provided in text format. Director names are not included here."
   ]
  },
  {
   "cell_type": "markdown",
   "metadata": {},
   "source": [
    "### Task 1"
   ]
  },
  {
   "cell_type": "markdown",
   "metadata": {},
   "source": [
    "Load the (director, company) numeric pairs from the file *irish-directorates.edges*, and the list of company names from *irish-directorates-companies.txt*. Note that each line number in the second file corresponds to the company number in the first file. \n",
    "\n",
    "Now construct a bipartite network so that:\n",
    "\n",
    "- There are two node sets – directors and companies. You can assume that company names are unique.\n",
    "- Edges are between directors and companies."
   ]
  },
  {
   "cell_type": "code",
   "execution_count": null,
   "metadata": {},
   "outputs": [],
   "source": []
  },
  {
   "cell_type": "markdown",
   "metadata": {},
   "source": [
    "### Task 2"
   ]
  },
  {
   "cell_type": "markdown",
   "metadata": {},
   "source": [
    "Using the bipartite network from Task 1:\n",
    "    \n",
    "- Verify that the network is indeed bipartite.\n",
    "- Identify the companies with the highest number of director records.\n",
    "- Identify the number of directors sitting on more than one board.\n",
    "- Identify the directors sitting on the largest number of company boards."
   ]
  },
  {
   "cell_type": "code",
   "execution_count": null,
   "metadata": {},
   "outputs": [],
   "source": []
  },
  {
   "cell_type": "markdown",
   "metadata": {},
   "source": [
    "### Task 3"
   ]
  },
  {
   "cell_type": "markdown",
   "metadata": {},
   "source": [
    "Using the bipartite network from Task 1, create a new weighted projected network such that:\n",
    "\n",
    "- Each node is a company.\n",
    "- Each edge indicates the number of directors which sit on the boards of two companies (i.e. the number of \"co-directorships\")."
   ]
  },
  {
   "cell_type": "code",
   "execution_count": null,
   "metadata": {},
   "outputs": [],
   "source": []
  },
  {
   "cell_type": "markdown",
   "metadata": {},
   "source": [
    "### Task 4"
   ]
  },
  {
   "cell_type": "markdown",
   "metadata": {},
   "source": [
    "Using the projected network from Task 3, identify the most frequent company overlaps in the network, and plot the edge weight distribution for the network."
   ]
  },
  {
   "cell_type": "code",
   "execution_count": null,
   "metadata": {},
   "outputs": [],
   "source": []
  }
 ],
 "metadata": {
  "kernelspec": {
   "display_name": "Python 3",
   "language": "python",
   "name": "python3"
  },
  "language_info": {
   "codemirror_mode": {
    "name": "ipython",
    "version": 3
   },
   "file_extension": ".py",
   "mimetype": "text/x-python",
   "name": "python",
   "nbconvert_exporter": "python",
   "pygments_lexer": "ipython3",
   "version": "3.7.3"
  }
 },
 "nbformat": 4,
 "nbformat_minor": 2
}
