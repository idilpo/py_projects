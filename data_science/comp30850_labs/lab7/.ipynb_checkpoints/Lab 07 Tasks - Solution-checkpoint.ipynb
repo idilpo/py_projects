{
 "cells": [
  {
   "cell_type": "markdown",
   "metadata": {},
   "source": [
    "# Lab 07 Tasks - Solution"
   ]
  },
  {
   "cell_type": "markdown",
   "metadata": {},
   "source": [
    "The dataset used for this lab is based on records concerning leading Irish companies and their directors from 2003 to 2013, which was originally compiled from the Irish Companies Registration Office website by Friel et al (2016). The data was compiled to study the overlap between directorships among many prominent Irish companies, and the frequency of occurrence of “interlocks”, where a director simultaneously sits on more than one company board. \n",
    "\n",
    "For analysis purposes, edge lists and company name metadata are provided in text format. Director names are not included here."
   ]
  },
  {
   "cell_type": "code",
   "execution_count": 1,
   "metadata": {},
   "outputs": [],
   "source": [
    "import networkx as nx\n",
    "from networkx.algorithms import bipartite\n",
    "import pandas as pd\n",
    "import matplotlib\n",
    "import matplotlib.pyplot as plt\n",
    "%matplotlib inline"
   ]
  },
  {
   "cell_type": "markdown",
   "metadata": {},
   "source": [
    "### Task 1"
   ]
  },
  {
   "cell_type": "markdown",
   "metadata": {},
   "source": [
    "Load the (director, company) numeric pairs from the file *irish-directorates.edges*, and the list of company names from *irish-directorates-companies.txt*. Note that each line number in the second file corresponds to the company number in the first file. \n",
    "\n",
    "Now construct a bipartite network so that:\n",
    "\n",
    "- There are two node sets – directors and companies. You can assume that company names are unique.\n",
    "- Edges are between directors and companies."
   ]
  },
  {
   "cell_type": "code",
   "execution_count": 2,
   "metadata": {},
   "outputs": [
    {
     "name": "stdout",
     "output_type": "stream",
     "text": [
      "Read 1126 director-company pairs\n"
     ]
    }
   ],
   "source": [
    "# Load the (director,company) numeric pairs\n",
    "pairs = []\n",
    "company_names = []\n",
    "with open(\"irish-directorates.edges\", \"r\") as fin:\n",
    "    for line in fin.readlines():\n",
    "        parts = line.strip().split(\" \")\n",
    "        if len(parts) != 2:\n",
    "            continue\n",
    "        director_num, company_num = int(parts[0]), int(parts[1])\n",
    "        pairs.append( (director_num, company_num) )\n",
    "print(\"Read %d director-company pairs\" % len(pairs))"
   ]
  },
  {
   "cell_type": "code",
   "execution_count": 3,
   "metadata": {},
   "outputs": [
    {
     "name": "stdout",
     "output_type": "stream",
     "text": [
      "Read names for 91 companies\n"
     ]
    }
   ],
   "source": [
    "# Load company names\n",
    "company_names = []\n",
    "with open(\"irish-directorates-companies.txt\", \"r\") as fin:\n",
    "    for line in fin.readlines():\n",
    "        company_names.append(line.strip())\n",
    "print(\"Read names for %d companies\" % len(company_names))"
   ]
  },
  {
   "cell_type": "code",
   "execution_count": 4,
   "metadata": {},
   "outputs": [
    {
     "name": "stdout",
     "output_type": "stream",
     "text": [
      "Created bipartite network with 1099 nodes and 1126 edges\n"
     ]
    }
   ],
   "source": [
    "# Create the bipartite network\n",
    "b = nx.Graph()\n",
    "director_nodes, company_nodes = set(), set()\n",
    "for p in pairs:\n",
    "    # we don't have the actual names, so create a dummy name\n",
    "    director = \"director-%03d\" % p[0]\n",
    "    # map to the company name\n",
    "    company = company_names[p[1]-1]    \n",
    "    # create the nodes, if necessary\n",
    "    if not director in director_nodes:\n",
    "        b.add_node(director, bipartite=0)\n",
    "        director_nodes.add(director)\n",
    "    if not company in company_nodes:\n",
    "        b.add_node(company, bipartite=1)\n",
    "        company_nodes.add(company)    \n",
    "    # create the edge \n",
    "    company_nodes.add(company)\n",
    "    b.add_edge( director, company )\n",
    "print(\"Created bipartite network with %d nodes and %d edges\" % ( b.number_of_nodes(), b.number_of_edges() ) )"
   ]
  },
  {
   "cell_type": "markdown",
   "metadata": {},
   "source": [
    "### Task 2"
   ]
  },
  {
   "cell_type": "markdown",
   "metadata": {},
   "source": [
    "Using the bipartite network from Task 1:\n",
    "    \n",
    "- Verify that the network is indeed bipartite.\n",
    "- Identify the companies with the highest number of director records.\n",
    "- Identify the number of directors sitting on more than one board.\n",
    "- Identify the directors sitting on the largest number of company boards."
   ]
  },
  {
   "cell_type": "code",
   "execution_count": 5,
   "metadata": {},
   "outputs": [
    {
     "data": {
      "text/plain": [
       "True"
      ]
     },
     "execution_count": 5,
     "metadata": {},
     "output_type": "execute_result"
    }
   ],
   "source": [
    "# Verify it is bipartite\n",
    "bipartite.is_bipartite(b)"
   ]
  },
  {
   "cell_type": "code",
   "execution_count": 6,
   "metadata": {},
   "outputs": [
    {
     "data": {
      "text/html": [
       "<div>\n",
       "<style scoped>\n",
       "    .dataframe tbody tr th:only-of-type {\n",
       "        vertical-align: middle;\n",
       "    }\n",
       "\n",
       "    .dataframe tbody tr th {\n",
       "        vertical-align: top;\n",
       "    }\n",
       "\n",
       "    .dataframe thead th {\n",
       "        text-align: right;\n",
       "    }\n",
       "</style>\n",
       "<table border=\"1\" class=\"dataframe\">\n",
       "  <thead>\n",
       "    <tr style=\"text-align: right;\">\n",
       "      <th></th>\n",
       "      <th>degree</th>\n",
       "    </tr>\n",
       "  </thead>\n",
       "  <tbody>\n",
       "    <tr>\n",
       "      <th>Glanbia Plc</th>\n",
       "      <td>43</td>\n",
       "    </tr>\n",
       "    <tr>\n",
       "      <th>Bank Of Ireland</th>\n",
       "      <td>42</td>\n",
       "    </tr>\n",
       "    <tr>\n",
       "      <th>Kerry Group Plc</th>\n",
       "      <td>40</td>\n",
       "    </tr>\n",
       "    <tr>\n",
       "      <th>Independent News &amp; Media Plc</th>\n",
       "      <td>37</td>\n",
       "    </tr>\n",
       "    <tr>\n",
       "      <th>Elan Corporation Plc</th>\n",
       "      <td>32</td>\n",
       "    </tr>\n",
       "    <tr>\n",
       "      <th>Donegal Investment Group Plc - Esm</th>\n",
       "      <td>31</td>\n",
       "    </tr>\n",
       "    <tr>\n",
       "      <th>Crh Plc</th>\n",
       "      <td>28</td>\n",
       "    </tr>\n",
       "    <tr>\n",
       "      <th>Allied Irish Banks Plc</th>\n",
       "      <td>25</td>\n",
       "    </tr>\n",
       "    <tr>\n",
       "      <th>Waterford Wedgwood Plc</th>\n",
       "      <td>24</td>\n",
       "    </tr>\n",
       "    <tr>\n",
       "      <th>Readymix Plc</th>\n",
       "      <td>24</td>\n",
       "    </tr>\n",
       "  </tbody>\n",
       "</table>\n",
       "</div>"
      ],
      "text/plain": [
       "                                    degree\n",
       "Glanbia Plc                             43\n",
       "Bank Of Ireland                         42\n",
       "Kerry Group Plc                         40\n",
       "Independent News & Media Plc            37\n",
       "Elan Corporation Plc                    32\n",
       "Donegal Investment Group Plc - Esm      31\n",
       "Crh Plc                                 28\n",
       "Allied Irish Banks Plc                  25\n",
       "Waterford Wedgwood Plc                  24\n",
       "Readymix Plc                            24"
      ]
     },
     "execution_count": 6,
     "metadata": {},
     "output_type": "execute_result"
    }
   ],
   "source": [
    "# Identify the companies with the highest number of director records\n",
    "# note: only include the degrees for the company nodes\n",
    "degrees = dict( b.degree(company_nodes) )\n",
    "s_deg = pd.Series( degrees )\n",
    "df_summary = pd.DataFrame( {\"degree\" : s_deg} )\n",
    "df_summary.sort_values( by=\"degree\", ascending=False ).head(10)"
   ]
  },
  {
   "cell_type": "code",
   "execution_count": 7,
   "metadata": {},
   "outputs": [
    {
     "name": "stdout",
     "output_type": "stream",
     "text": [
      "92 directors sit on more than one board\n"
     ]
    }
   ],
   "source": [
    "# Identify the number of directors sitting on more than one board\n",
    "# note: only include the degrees for the director nodes\n",
    "count = 0\n",
    "for node, deg in b.degree(director_nodes):\n",
    "    if deg > 1:\n",
    "        count += 1\n",
    "print(\"%d directors sit on more than one board\" % count)"
   ]
  },
  {
   "cell_type": "code",
   "execution_count": 8,
   "metadata": {},
   "outputs": [
    {
     "data": {
      "text/html": [
       "<div>\n",
       "<style scoped>\n",
       "    .dataframe tbody tr th:only-of-type {\n",
       "        vertical-align: middle;\n",
       "    }\n",
       "\n",
       "    .dataframe tbody tr th {\n",
       "        vertical-align: top;\n",
       "    }\n",
       "\n",
       "    .dataframe thead th {\n",
       "        text-align: right;\n",
       "    }\n",
       "</style>\n",
       "<table border=\"1\" class=\"dataframe\">\n",
       "  <thead>\n",
       "    <tr style=\"text-align: right;\">\n",
       "      <th></th>\n",
       "      <th>degree</th>\n",
       "    </tr>\n",
       "  </thead>\n",
       "  <tbody>\n",
       "    <tr>\n",
       "      <th>director-089</th>\n",
       "      <td>5</td>\n",
       "    </tr>\n",
       "    <tr>\n",
       "      <th>director-462</th>\n",
       "      <td>5</td>\n",
       "    </tr>\n",
       "    <tr>\n",
       "      <th>director-478</th>\n",
       "      <td>4</td>\n",
       "    </tr>\n",
       "    <tr>\n",
       "      <th>director-816</th>\n",
       "      <td>4</td>\n",
       "    </tr>\n",
       "    <tr>\n",
       "      <th>director-904</th>\n",
       "      <td>4</td>\n",
       "    </tr>\n",
       "    <tr>\n",
       "      <th>director-199</th>\n",
       "      <td>3</td>\n",
       "    </tr>\n",
       "    <tr>\n",
       "      <th>director-445</th>\n",
       "      <td>3</td>\n",
       "    </tr>\n",
       "    <tr>\n",
       "      <th>director-512</th>\n",
       "      <td>3</td>\n",
       "    </tr>\n",
       "    <tr>\n",
       "      <th>director-577</th>\n",
       "      <td>3</td>\n",
       "    </tr>\n",
       "    <tr>\n",
       "      <th>director-828</th>\n",
       "      <td>3</td>\n",
       "    </tr>\n",
       "  </tbody>\n",
       "</table>\n",
       "</div>"
      ],
      "text/plain": [
       "              degree\n",
       "director-089       5\n",
       "director-462       5\n",
       "director-478       4\n",
       "director-816       4\n",
       "director-904       4\n",
       "director-199       3\n",
       "director-445       3\n",
       "director-512       3\n",
       "director-577       3\n",
       "director-828       3"
      ]
     },
     "execution_count": 8,
     "metadata": {},
     "output_type": "execute_result"
    }
   ],
   "source": [
    "# Identify the directors sitting on the largest number of company boards\n",
    "director_deg = dict(  b.degree(director_nodes) )\n",
    "s_deg = pd.Series( director_deg )\n",
    "df_summary = pd.DataFrame( {\"degree\" : s_deg} )\n",
    "df_summary.sort_values( by=\"degree\", ascending=False ).head(10)"
   ]
  },
  {
   "cell_type": "markdown",
   "metadata": {},
   "source": [
    "### Task 3"
   ]
  },
  {
   "cell_type": "markdown",
   "metadata": {},
   "source": [
    "Using the bipartite network from Task 1, create a new weighted projected network such that:\n",
    "\n",
    "- Each node is a company.\n",
    "- Each edge indicates the number of directors which sit on the boards of two companies (i.e. the number of \"co-directorships\")."
   ]
  },
  {
   "cell_type": "code",
   "execution_count": 9,
   "metadata": {},
   "outputs": [
    {
     "name": "stdout",
     "output_type": "stream",
     "text": [
      "Created projected network 90 nodes, 130 edges\n"
     ]
    }
   ],
   "source": [
    "g = bipartite.weighted_projected_graph(b, company_nodes)\n",
    "print (\"Created projected network %d nodes, %d edges\" % ( len(g), g.number_of_edges() ))"
   ]
  },
  {
   "cell_type": "markdown",
   "metadata": {},
   "source": [
    "### Task 4"
   ]
  },
  {
   "cell_type": "markdown",
   "metadata": {},
   "source": [
    "Using the projected network from Task 3, identify the most frequent company overlaps in the network, and plot the edge weight distribution for the network."
   ]
  },
  {
   "cell_type": "code",
   "execution_count": 10,
   "metadata": {},
   "outputs": [
    {
     "data": {
      "text/html": [
       "<div>\n",
       "<style scoped>\n",
       "    .dataframe tbody tr th:only-of-type {\n",
       "        vertical-align: middle;\n",
       "    }\n",
       "\n",
       "    .dataframe tbody tr th {\n",
       "        vertical-align: top;\n",
       "    }\n",
       "\n",
       "    .dataframe thead th {\n",
       "        text-align: right;\n",
       "    }\n",
       "</style>\n",
       "<table border=\"1\" class=\"dataframe\">\n",
       "  <thead>\n",
       "    <tr style=\"text-align: right;\">\n",
       "      <th></th>\n",
       "      <th></th>\n",
       "      <th>weight</th>\n",
       "    </tr>\n",
       "  </thead>\n",
       "  <tbody>\n",
       "    <tr>\n",
       "      <th>Conroy Gold &amp; Natural Resources Plc - Esm</th>\n",
       "      <th>Karelian Diamond Resources Plc - Esm</th>\n",
       "      <td>5</td>\n",
       "    </tr>\n",
       "    <tr>\n",
       "      <th>Total Produce Plc - Esm</th>\n",
       "      <th>Fyffes Plc - Esm</th>\n",
       "      <td>3</td>\n",
       "    </tr>\n",
       "    <tr>\n",
       "      <th>Norkom Group Plc - Esm</th>\n",
       "      <th>Tvc Holdings Plc - Esm</th>\n",
       "      <td>3</td>\n",
       "    </tr>\n",
       "    <tr>\n",
       "      <th>Origin Enterprises Plc - Esm</th>\n",
       "      <th>Iaws Group Plc</th>\n",
       "      <td>3</td>\n",
       "    </tr>\n",
       "    <tr>\n",
       "      <th>Allied Irish Banks Plc</th>\n",
       "      <th>Crh Plc</th>\n",
       "      <td>2</td>\n",
       "    </tr>\n",
       "    <tr>\n",
       "      <th>United Drug Plc</th>\n",
       "      <th>Kerry Group Plc</th>\n",
       "      <td>2</td>\n",
       "    </tr>\n",
       "    <tr>\n",
       "      <th>Allied Irish Banks Plc</th>\n",
       "      <th>Irish Continental Group Plc</th>\n",
       "      <td>2</td>\n",
       "    </tr>\n",
       "    <tr>\n",
       "      <th>Crh Plc</th>\n",
       "      <th>Bank Of Ireland</th>\n",
       "      <td>2</td>\n",
       "    </tr>\n",
       "    <tr>\n",
       "      <th>Bank Of Ireland</th>\n",
       "      <th>Elan Corporation Plc</th>\n",
       "      <td>2</td>\n",
       "    </tr>\n",
       "    <tr>\n",
       "      <th>Total Produce Plc - Esm</th>\n",
       "      <th>Balmoral International Land Plc - Esm</th>\n",
       "      <td>2</td>\n",
       "    </tr>\n",
       "  </tbody>\n",
       "</table>\n",
       "</div>"
      ],
      "text/plain": [
       "                                                                                 weight\n",
       "Conroy Gold & Natural Resources Plc - Esm Karelian Diamond Resources Plc - Esm        5\n",
       "Total Produce Plc - Esm                   Fyffes Plc - Esm                            3\n",
       "Norkom Group Plc - Esm                    Tvc Holdings Plc - Esm                      3\n",
       "Origin Enterprises Plc - Esm              Iaws Group Plc                              3\n",
       "Allied Irish Banks Plc                    Crh Plc                                     2\n",
       "United Drug Plc                           Kerry Group Plc                             2\n",
       "Allied Irish Banks Plc                    Irish Continental Group Plc                 2\n",
       "Crh Plc                                   Bank Of Ireland                             2\n",
       "Bank Of Ireland                           Elan Corporation Plc                        2\n",
       "Total Produce Plc - Esm                   Balmoral International Land Plc - Esm       2"
      ]
     },
     "execution_count": 10,
     "metadata": {},
     "output_type": "execute_result"
    }
   ],
   "source": [
    "# get all the edge weights\n",
    "weights = {}\n",
    "for e in g.edges(data=True):\n",
    "    pair = (e[0],e[1])\n",
    "    weights[pair] = e[2][\"weight\"]\n",
    "s_weights = pd.Series( weights ) \n",
    "df_weights = pd.DataFrame( {\"weight\" : s_weights} )\n",
    "# display the most frequent overlaps (i.e. top weights)\n",
    "df_weights.sort_values(by=\"weight\",ascending=False).head(10)"
   ]
  }
 ],
 "metadata": {
  "kernelspec": {
   "display_name": "Python 3",
   "language": "python",
   "name": "python3"
  },
  "language_info": {
   "codemirror_mode": {
    "name": "ipython",
    "version": 3
   },
   "file_extension": ".py",
   "mimetype": "text/x-python",
   "name": "python",
   "nbconvert_exporter": "python",
   "pygments_lexer": "ipython3",
   "version": "3.8.5"
  }
 },
 "nbformat": 4,
 "nbformat_minor": 2
}
