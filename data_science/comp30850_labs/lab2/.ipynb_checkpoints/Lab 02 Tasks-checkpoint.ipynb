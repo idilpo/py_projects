{
 "cells": [
  {
   "cell_type": "markdown",
   "metadata": {},
   "source": [
    "# Lab 02 Tasks"
   ]
  },
  {
   "cell_type": "markdown",
   "metadata": {},
   "source": [
    "The dataset used for this is a **character network**, representing the relationships between characters in George R. R. Martin's book *A Storm of Swords*, the third novel in his series *A Song of Ice and Fire*. The strength of the relationships between characters are calculated based on how many times two characters' names appeared within 15 words of one another in the book. \n",
    "\n",
    "This data was originally compiled by A. Beveridge and J. Shan. See [here](http://mlg.ucd.ie/modules/COMP30850/network_of_thrones.pdf) for more details on this network."
   ]
  },
  {
   "cell_type": "markdown",
   "metadata": {},
   "source": [
    "### Task 1"
   ]
  },
  {
   "cell_type": "markdown",
   "metadata": {},
   "source": [
    "Load the network from the GEXF file game-of-thrones.gexf, and examine the following aspects of the network:\n",
    "\n",
    "- What type of network is this?\n",
    "- How many nodes and edges are in the network?\n",
    "- What are the identifiers of the node in the network?\n",
    "- How connected is the network?"
   ]
  },
  {
   "cell_type": "code",
   "execution_count": 2,
   "metadata": {},
   "outputs": [],
   "source": [
    "import networkx as nx"
   ]
  },
  {
   "cell_type": "code",
   "execution_count": 3,
   "metadata": {},
   "outputs": [],
   "source": [
    "g = nx.read_gexf(\"game-of-thrones.gexf\")"
   ]
  },
  {
   "cell_type": "markdown",
   "metadata": {},
   "source": [
    "### Task 2"
   ]
  },
  {
   "cell_type": "markdown",
   "metadata": {},
   "source": [
    "Based on the edge weights in the network, perform the following:\n",
    "\n",
    "- Plot the edge weight distribution for the network.\n",
    "- Identify the top 10 pairs of characters with the strongest associations (i.e. highest edge weights)."
   ]
  },
  {
   "cell_type": "code",
   "execution_count": null,
   "metadata": {},
   "outputs": [],
   "source": []
  },
  {
   "cell_type": "markdown",
   "metadata": {},
   "source": [
    "### Task 3"
   ]
  },
  {
   "cell_type": "markdown",
   "metadata": {},
   "source": [
    "Create a new unweighted version of the network, where only edges with weights >= 15 from the original network are preserved (i.e. pairs of characters must be mentioned together at least 15 times). Exclude nodes which do not have any remaining edges in the new network.\n",
    "\n",
    "For this new unweighted network:\n",
    "\n",
    "- Identify the number of nodes and edges\n",
    "- Identify the number of connected components\n",
    "- Draw a simple network diagram of the full network\n",
    "- Draw a simple network diagram of only the largest component"
   ]
  },
  {
   "cell_type": "code",
   "execution_count": null,
   "metadata": {},
   "outputs": [],
   "source": []
  }
 ],
 "metadata": {
  "kernelspec": {
   "display_name": "Python 3",
   "language": "python",
   "name": "python3"
  },
  "language_info": {
   "codemirror_mode": {
    "name": "ipython",
    "version": 3
   },
   "file_extension": ".py",
   "mimetype": "text/x-python",
   "name": "python",
   "nbconvert_exporter": "python",
   "pygments_lexer": "ipython3",
   "version": "3.8.5"
  }
 },
 "nbformat": 4,
 "nbformat_minor": 2
}
