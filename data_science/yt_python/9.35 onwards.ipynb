{
 "cells": [
  {
   "cell_type": "markdown",
   "metadata": {},
   "source": [
    "# 9:35:00 onwards"
   ]
  },
  {
   "cell_type": "markdown",
   "metadata": {},
   "source": [
    "# NumPy"
   ]
  },
  {
   "cell_type": "code",
   "execution_count": null,
   "metadata": {},
   "outputs": [],
   "source": [
    "# WHY NUMPY --> faster. like a list that is restricted to the same datatype so we do not need to save individual \n",
    "# information for every element, helps with writing functions that are much more faster."
   ]
  },
  {
   "cell_type": "code",
   "execution_count": 3,
   "metadata": {},
   "outputs": [],
   "source": [
    "import numpy as np"
   ]
  },
  {
   "cell_type": "code",
   "execution_count": 4,
   "metadata": {},
   "outputs": [],
   "source": [
    "a = np.array([1,2,3,5,7], dtype='i')\n",
    "b = np.array((2,3,5), dtype='f')"
   ]
  },
  {
   "cell_type": "code",
   "execution_count": 5,
   "metadata": {},
   "outputs": [
    {
     "data": {
      "text/plain": [
       "numpy.ndarray"
      ]
     },
     "execution_count": 5,
     "metadata": {},
     "output_type": "execute_result"
    }
   ],
   "source": [
    "type(a)"
   ]
  },
  {
   "cell_type": "code",
   "execution_count": 6,
   "metadata": {},
   "outputs": [
    {
     "name": "stdout",
     "output_type": "stream",
     "text": [
      "[2. 3. 5.]\n"
     ]
    }
   ],
   "source": [
    "print(b)"
   ]
  },
  {
   "cell_type": "code",
   "execution_count": 8,
   "metadata": {},
   "outputs": [
    {
     "data": {
      "text/plain": [
       "dtype('int32')"
      ]
     },
     "execution_count": 8,
     "metadata": {},
     "output_type": "execute_result"
    }
   ],
   "source": [
    "# the datatype in a:\n",
    "a.dtype"
   ]
  },
  {
   "cell_type": "code",
   "execution_count": 9,
   "metadata": {},
   "outputs": [
    {
     "data": {
      "text/plain": [
       "dtype('float32')"
      ]
     },
     "execution_count": 9,
     "metadata": {},
     "output_type": "execute_result"
    }
   ],
   "source": [
    "b.dtype"
   ]
  },
  {
   "cell_type": "code",
   "execution_count": 10,
   "metadata": {},
   "outputs": [],
   "source": [
    "c = np.array([[1,2,3],[4,5,6]])"
   ]
  },
  {
   "cell_type": "code",
   "execution_count": 12,
   "metadata": {},
   "outputs": [
    {
     "data": {
      "text/plain": [
       "2"
      ]
     },
     "execution_count": 12,
     "metadata": {},
     "output_type": "execute_result"
    }
   ],
   "source": [
    "# number of dimensions:\n",
    "# dimension = total number of indicies that are required to access an element\n",
    "c.ndim"
   ]
  },
  {
   "cell_type": "code",
   "execution_count": 14,
   "metadata": {},
   "outputs": [
    {
     "data": {
      "text/plain": [
       "3"
      ]
     },
     "execution_count": 14,
     "metadata": {},
     "output_type": "execute_result"
    }
   ],
   "source": [
    "# accessing elements in multidimensional arrays:\n",
    "c[0,2]"
   ]
  },
  {
   "cell_type": "code",
   "execution_count": 26,
   "metadata": {},
   "outputs": [
    {
     "data": {
      "text/plain": [
       "2"
      ]
     },
     "execution_count": 26,
     "metadata": {},
     "output_type": "execute_result"
    }
   ],
   "source": [
    "B = np.array([[1,2,3,-1],[2,4,5,9]])\n",
    "C = np.array([[[1,2,3],[4,5,6],[0,0,-1]],[[-1,-2,-3],[-4,-5,-6],[0,0,1]]])\n",
    "B.ndim"
   ]
  },
  {
   "cell_type": "code",
   "execution_count": 29,
   "metadata": {},
   "outputs": [
    {
     "data": {
      "text/plain": [
       "(2, 3, 3)"
      ]
     },
     "execution_count": 29,
     "metadata": {},
     "output_type": "execute_result"
    }
   ],
   "source": [
    "# .shape = returns a tuple: (total number of 2d arrays, 1d arrays, elements in each 1d array)\n",
    "C.shape"
   ]
  },
  {
   "cell_type": "code",
   "execution_count": 31,
   "metadata": {},
   "outputs": [
    {
     "name": "stdout",
     "output_type": "stream",
     "text": [
      "2\n",
      "3\n",
      "3\n"
     ]
    }
   ],
   "source": [
    "print(C.shape[0]) #total number of 2d arrays\n",
    "print(C.shape[1]) #total number of 1d arrays\n",
    "print(C.shape[2]) #total number elements in each 1d array"
   ]
  },
  {
   "cell_type": "code",
   "execution_count": 17,
   "metadata": {},
   "outputs": [
    {
     "data": {
      "text/plain": [
       "-3"
      ]
     },
     "execution_count": 17,
     "metadata": {},
     "output_type": "execute_result"
    }
   ],
   "source": [
    "C[1,0,2]"
   ]
  },
  {
   "cell_type": "code",
   "execution_count": 32,
   "metadata": {},
   "outputs": [
    {
     "name": "stdout",
     "output_type": "stream",
     "text": [
      "<class 'numpy.ndarray'>\n"
     ]
    }
   ],
   "source": [
    "print(type(C))"
   ]
  },
  {
   "cell_type": "code",
   "execution_count": 34,
   "metadata": {},
   "outputs": [
    {
     "data": {
      "text/plain": [
       "1"
      ]
     },
     "execution_count": 34,
     "metadata": {},
     "output_type": "execute_result"
    }
   ],
   "source": [
    "A = np.array([2]) #this is an array with only 1 element:\n",
    "A.ndim"
   ]
  },
  {
   "cell_type": "code",
   "execution_count": 37,
   "metadata": {},
   "outputs": [],
   "source": [
    "D = np.array(3) #0d array as we passed a number\n",
    "# D.dim --> this will give an error as the object has 0 dimension "
   ]
  },
  {
   "cell_type": "code",
   "execution_count": 38,
   "metadata": {},
   "outputs": [
    {
     "data": {
      "text/plain": [
       "18"
      ]
     },
     "execution_count": 38,
     "metadata": {},
     "output_type": "execute_result"
    }
   ],
   "source": [
    "# total number of elements in the array:\n",
    "C.size"
   ]
  },
  {
   "cell_type": "code",
   "execution_count": 39,
   "metadata": {},
   "outputs": [
    {
     "data": {
      "text/plain": [
       "144"
      ]
     },
     "execution_count": 39,
     "metadata": {},
     "output_type": "execute_result"
    }
   ],
   "source": [
    "# total number of bytes in the array:\n",
    "C.nbytes"
   ]
  },
  {
   "cell_type": "markdown",
   "metadata": {},
   "source": [
    "# 10:01:00 onwards - NumPy functions:"
   ]
  },
  {
   "cell_type": "code",
   "execution_count": 87,
   "metadata": {},
   "outputs": [
    {
     "data": {
      "text/plain": [
       "array([0., 0., 0.])"
      ]
     },
     "execution_count": 87,
     "metadata": {},
     "output_type": "execute_result"
    }
   ],
   "source": [
    "# .zeros: creates an array of 0s\n",
    "F = np.zeros(3)\n",
    "F"
   ]
  },
  {
   "cell_type": "code",
   "execution_count": 86,
   "metadata": {},
   "outputs": [
    {
     "data": {
      "text/plain": [
       "array([1., 1., 1., 1., 1., 1., 1., 1., 1., 1.])"
      ]
     },
     "execution_count": 86,
     "metadata": {},
     "output_type": "execute_result"
    }
   ],
   "source": [
    "# .ones: creates an array of 1s\n",
    "O = np.ones(10)\n",
    "O"
   ]
  },
  {
   "cell_type": "code",
   "execution_count": 45,
   "metadata": {},
   "outputs": [
    {
     "name": "stdout",
     "output_type": "stream",
     "text": [
      "[0 1 2 3 4 5 6]\n",
      "[20 25 30 35 40 45 50 55 60 65 70 75 80 85 90 95]\n"
     ]
    }
   ],
   "source": [
    "# .arange(n): creates a 1d array starting from 0  to given number\n",
    "G = np.arange(7)\n",
    "print(G)\n",
    "G = np.arange(20,100,5)\n",
    "print(G)"
   ]
  },
  {
   "cell_type": "code",
   "execution_count": 47,
   "metadata": {},
   "outputs": [
    {
     "name": "stdout",
     "output_type": "stream",
     "text": [
      "range(20, 100, 5)\n",
      "[20, 25, 30, 35, 40, 45, 50, 55, 60, 65, 70, 75, 80, 85, 90, 95]\n"
     ]
    }
   ],
   "source": [
    "# .range --> an iterator. returns an object (given elements), doesnt create a list.\n",
    "print(range(20,100,5))\n",
    "H = list(range(20,100,5))\n",
    "print(H)"
   ]
  },
  {
   "cell_type": "code",
   "execution_count": 49,
   "metadata": {},
   "outputs": [
    {
     "name": "stdout",
     "output_type": "stream",
     "text": [
      "[9 6 2 4 0 5 1 8 7 3]\n"
     ]
    }
   ],
   "source": [
    "# .random: .permutation inside .random package shuffles the given values in an array\n",
    "J = np.random.permutation(np.arange(10))\n",
    "print(J)"
   ]
  },
  {
   "cell_type": "code",
   "execution_count": 51,
   "metadata": {},
   "outputs": [
    {
     "name": "stdout",
     "output_type": "stream",
     "text": [
      "5\n"
     ]
    }
   ],
   "source": [
    "# .random: .randint inside .random package generates a random integer between given values\n",
    "ri = np.random.randint(2,6)\n",
    "print(ri)"
   ]
  },
  {
   "cell_type": "code",
   "execution_count": 52,
   "metadata": {},
   "outputs": [
    {
     "data": {
      "text/plain": [
       "\u001b[0;31mSignature:\u001b[0m \u001b[0mnp\u001b[0m\u001b[0;34m.\u001b[0m\u001b[0mreshape\u001b[0m\u001b[0;34m(\u001b[0m\u001b[0ma\u001b[0m\u001b[0;34m,\u001b[0m \u001b[0mnewshape\u001b[0m\u001b[0;34m,\u001b[0m \u001b[0morder\u001b[0m\u001b[0;34m=\u001b[0m\u001b[0;34m'C'\u001b[0m\u001b[0;34m)\u001b[0m\u001b[0;34m\u001b[0m\u001b[0;34m\u001b[0m\u001b[0m\n",
       "\u001b[0;31mDocstring:\u001b[0m\n",
       "Gives a new shape to an array without changing its data.\n",
       "\n",
       "Parameters\n",
       "----------\n",
       "a : array_like\n",
       "    Array to be reshaped.\n",
       "newshape : int or tuple of ints\n",
       "    The new shape should be compatible with the original shape. If\n",
       "    an integer, then the result will be a 1-D array of that length.\n",
       "    One shape dimension can be -1. In this case, the value is\n",
       "    inferred from the length of the array and remaining dimensions.\n",
       "order : {'C', 'F', 'A'}, optional\n",
       "    Read the elements of `a` using this index order, and place the\n",
       "    elements into the reshaped array using this index order.  'C'\n",
       "    means to read / write the elements using C-like index order,\n",
       "    with the last axis index changing fastest, back to the first\n",
       "    axis index changing slowest. 'F' means to read / write the\n",
       "    elements using Fortran-like index order, with the first index\n",
       "    changing fastest, and the last index changing slowest. Note that\n",
       "    the 'C' and 'F' options take no account of the memory layout of\n",
       "    the underlying array, and only refer to the order of indexing.\n",
       "    'A' means to read / write the elements in Fortran-like index\n",
       "    order if `a` is Fortran *contiguous* in memory, C-like order\n",
       "    otherwise.\n",
       "\n",
       "Returns\n",
       "-------\n",
       "reshaped_array : ndarray\n",
       "    This will be a new view object if possible; otherwise, it will\n",
       "    be a copy.  Note there is no guarantee of the *memory layout* (C- or\n",
       "    Fortran- contiguous) of the returned array.\n",
       "\n",
       "See Also\n",
       "--------\n",
       "ndarray.reshape : Equivalent method.\n",
       "\n",
       "Notes\n",
       "-----\n",
       "It is not always possible to change the shape of an array without\n",
       "copying the data. If you want an error to be raised when the data is copied,\n",
       "you should assign the new shape to the shape attribute of the array::\n",
       "\n",
       " >>> a = np.zeros((10, 2))\n",
       "\n",
       " # A transpose makes the array non-contiguous\n",
       " >>> b = a.T\n",
       "\n",
       " # Taking a view makes it possible to modify the shape without modifying\n",
       " # the initial object.\n",
       " >>> c = b.view()\n",
       " >>> c.shape = (20)\n",
       " Traceback (most recent call last):\n",
       "    ...\n",
       " AttributeError: Incompatible shape for in-place modification. Use\n",
       " `.reshape()` to make a copy with the desired shape.\n",
       "\n",
       "The `order` keyword gives the index ordering both for *fetching* the values\n",
       "from `a`, and then *placing* the values into the output array.\n",
       "For example, let's say you have an array:\n",
       "\n",
       ">>> a = np.arange(6).reshape((3, 2))\n",
       ">>> a\n",
       "array([[0, 1],\n",
       "       [2, 3],\n",
       "       [4, 5]])\n",
       "\n",
       "You can think of reshaping as first raveling the array (using the given\n",
       "index order), then inserting the elements from the raveled array into the\n",
       "new array using the same kind of index ordering as was used for the\n",
       "raveling.\n",
       "\n",
       ">>> np.reshape(a, (2, 3)) # C-like index ordering\n",
       "array([[0, 1, 2],\n",
       "       [3, 4, 5]])\n",
       ">>> np.reshape(np.ravel(a), (2, 3)) # equivalent to C ravel then C reshape\n",
       "array([[0, 1, 2],\n",
       "       [3, 4, 5]])\n",
       ">>> np.reshape(a, (2, 3), order='F') # Fortran-like index ordering\n",
       "array([[0, 4, 3],\n",
       "       [2, 1, 5]])\n",
       ">>> np.reshape(np.ravel(a, order='F'), (2, 3), order='F')\n",
       "array([[0, 4, 3],\n",
       "       [2, 1, 5]])\n",
       "\n",
       "Examples\n",
       "--------\n",
       ">>> a = np.array([[1,2,3], [4,5,6]])\n",
       ">>> np.reshape(a, 6)\n",
       "array([1, 2, 3, 4, 5, 6])\n",
       ">>> np.reshape(a, 6, order='F')\n",
       "array([1, 4, 2, 5, 3, 6])\n",
       "\n",
       ">>> np.reshape(a, (3,-1))       # the unspecified value is inferred to be 2\n",
       "array([[1, 2],\n",
       "       [3, 4],\n",
       "       [5, 6]])\n",
       "\u001b[0;31mFile:\u001b[0m      /opt/anaconda3/lib/python3.8/site-packages/numpy/core/fromnumeric.py\n",
       "\u001b[0;31mType:\u001b[0m      function\n"
      ]
     },
     "metadata": {},
     "output_type": "display_data"
    }
   ],
   "source": [
    "np.reshape?"
   ]
  },
  {
   "cell_type": "code",
   "execution_count": 72,
   "metadata": {},
   "outputs": [
    {
     "name": "stdout",
     "output_type": "stream",
     "text": [
      "[0.61190824 0.00127269 0.9999458  0.47899894 0.18782885 0.7248409\n",
      " 0.53170306 0.18724717 0.22776593 0.03652837 0.625919   0.3388219\n",
      " 0.14349562 0.35221088 0.08875292 0.95394085 0.99229034 0.39405086\n",
      " 0.57257505 0.17404855 0.80364298 0.87401367 0.38820316 0.57976613\n",
      " 0.54555567 0.68778568 0.79219277 0.61490194 0.32780386 0.46721849\n",
      " 0.29276091 0.21114788 0.2555333  0.72996706 0.36654783 0.84417042\n",
      " 0.45025432 0.65229118 0.73277902 0.57191652 0.69136307 0.76928588\n",
      " 0.9946188  0.03687498 0.90973541 0.7811359  0.99308154 0.1676041\n",
      " 0.39369074 0.50668445 0.77608198 0.29618908 0.90225652 0.56850924\n",
      " 0.66084858 0.25869152 0.92585819 0.09766869 0.26427304 0.72312048\n",
      " 0.18525519 0.28798698 0.6089937  0.26633702 0.99055035 0.78948368\n",
      " 0.54723174 0.15980309 0.34678125 0.2846632  0.22303838 0.17536549\n",
      " 0.55012293 0.9311418  0.33532637 0.68215901 0.83335972 0.42264685\n",
      " 0.52878351 0.01782831 0.65636275 0.13143538 0.22016208 0.71115538\n",
      " 0.99008676 0.15499434 0.71360159 0.15686026 0.39671206 0.20085726\n",
      " 0.04769824 0.95891326 0.70919726 0.1614512  0.65539624 0.04830941\n",
      " 0.93976454 0.77404587 0.79784486 0.06594599]\n"
     ]
    }
   ],
   "source": [
    "# .random: .rand inside .random package generates random values in a given array shape\n",
    "K = np.random.rand(100)\n",
    "print(K)"
   ]
  },
  {
   "cell_type": "code",
   "execution_count": 58,
   "metadata": {},
   "outputs": [],
   "source": [
    "import matplotlib.pyplot as plt"
   ]
  },
  {
   "cell_type": "code",
   "execution_count": 73,
   "metadata": {},
   "outputs": [
    {
     "data": {
      "text/plain": [
       "(array([ 9., 13., 12., 10.,  4., 10., 11., 14.,  4., 13.]),\n",
       " array([0.00127269, 0.10114   , 0.20100731, 0.30087462, 0.40074193,\n",
       "        0.50060924, 0.60047655, 0.70034387, 0.80021118, 0.90007849,\n",
       "        0.9999458 ]),\n",
       " <BarContainer object of 10 artists>)"
      ]
     },
     "execution_count": 73,
     "metadata": {},
     "output_type": "execute_result"
    },
    {
     "data": {
      "image/png": "[encoded data removed]",
      "text/plain": [
       "<Figure size 432x288 with 1 Axes>"
      ]
     },
     "metadata": {
      "needs_background": "light"
     },
     "output_type": "display_data"
    }
   ],
   "source": [
    "plt.hist(K,bins=10)"
   ]
  },
  {
   "cell_type": "code",
   "execution_count": 75,
   "metadata": {},
   "outputs": [
    {
     "data": {
      "text/plain": [
       "(array([  2.,   0.,   0.,   0.,   2.,   0.,   0.,   0.,   0.,   0.,   1.,\n",
       "          2.,   0.,   1.,   3.,   0.,   1.,   1.,   3.,   3.,   2.,   2.,\n",
       "          3.,   3.,   6.,   7.,   3.,   5.,   7.,   2.,  10.,   6.,   7.,\n",
       "          7.,   5.,  12.,   8.,  11.,  14.,  12.,  12.,  10.,  13.,  15.,\n",
       "         11.,  16.,  16.,  25.,  23.,  23.,  25.,  31.,  33.,  37.,  28.,\n",
       "         30.,  34.,  53.,  45.,  47.,  49.,  39.,  63.,  57.,  58.,  58.,\n",
       "         64.,  75.,  56.,  74.,  65.,  70.,  88.,  91.,  94.,  88.,  90.,\n",
       "        113., 104., 114., 137., 116., 104., 131., 120., 113., 126., 132.,\n",
       "        141., 132., 134., 132., 129., 135., 151., 145., 126., 152., 138.,\n",
       "        131., 134., 142., 130., 149., 137., 137., 136., 140., 131., 142.,\n",
       "        128., 124., 121., 137., 128., 144., 118., 104., 117., 118., 118.,\n",
       "        105., 121., 107.,  99.,  90., 103.,  99.,  81.,  98.,  77.,  83.,\n",
       "         89.,  85.,  70.,  69.,  66.,  67.,  69.,  36.,  56.,  48.,  39.,\n",
       "         38.,  39.,  48.,  32.,  34.,  33.,  35.,  33.,  37.,  21.,  46.,\n",
       "         24.,  19.,  22.,  17.,  14.,   9.,  21.,  18.,  11.,  13.,  11.,\n",
       "          5.,  10.,  13.,   8.,  10.,  11.,   5.,   8.,   6.,   3.,   5.,\n",
       "          1.,   6.,   3.,   5.,   2.,   2.,   2.,   1.,   0.,   3.,   3.,\n",
       "          1.,   1.,   0.,   1.,   1.,   1.,   0.,   0.,   0.,   0.,   0.,\n",
       "          2.,   1.]),\n",
       " array([-3.61059815, -3.57497057, -3.53934299, -3.50371541, -3.46808784,\n",
       "        -3.43246026, -3.39683268, -3.3612051 , -3.32557752, -3.28994994,\n",
       "        -3.25432236, -3.21869478, -3.1830672 , -3.14743962, -3.11181204,\n",
       "        -3.07618447, -3.04055689, -3.00492931, -2.96930173, -2.93367415,\n",
       "        -2.89804657, -2.86241899, -2.82679141, -2.79116383, -2.75553625,\n",
       "        -2.71990867, -2.6842811 , -2.64865352, -2.61302594, -2.57739836,\n",
       "        -2.54177078, -2.5061432 , -2.47051562, -2.43488804, -2.39926046,\n",
       "        -2.36363288, -2.3280053 , -2.29237773, -2.25675015, -2.22112257,\n",
       "        -2.18549499, -2.14986741, -2.11423983, -2.07861225, -2.04298467,\n",
       "        -2.00735709, -1.97172951, -1.93610193, -1.90047436, -1.86484678,\n",
       "        -1.8292192 , -1.79359162, -1.75796404, -1.72233646, -1.68670888,\n",
       "        -1.6510813 , -1.61545372, -1.57982614, -1.54419856, -1.50857099,\n",
       "        -1.47294341, -1.43731583, -1.40168825, -1.36606067, -1.33043309,\n",
       "        -1.29480551, -1.25917793, -1.22355035, -1.18792277, -1.15229519,\n",
       "        -1.11666762, -1.08104004, -1.04541246, -1.00978488, -0.9741573 ,\n",
       "        -0.93852972, -0.90290214, -0.86727456, -0.83164698, -0.7960194 ,\n",
       "        -0.76039182, -0.72476425, -0.68913667, -0.65350909, -0.61788151,\n",
       "        -0.58225393, -0.54662635, -0.51099877, -0.47537119, -0.43974361,\n",
       "        -0.40411603, -0.36848846, -0.33286088, -0.2972333 , -0.26160572,\n",
       "        -0.22597814, -0.19035056, -0.15472298, -0.1190954 , -0.08346782,\n",
       "        -0.04784024, -0.01221266,  0.02341491,  0.05904249,  0.09467007,\n",
       "         0.13029765,  0.16592523,  0.20155281,  0.23718039,  0.27280797,\n",
       "         0.30843555,  0.34406313,  0.37969071,  0.41531828,  0.45094586,\n",
       "         0.48657344,  0.52220102,  0.5578286 ,  0.59345618,  0.62908376,\n",
       "         0.66471134,  0.70033892,  0.7359665 ,  0.77159408,  0.80722165,\n",
       "         0.84284923,  0.87847681,  0.91410439,  0.94973197,  0.98535955,\n",
       "         1.02098713,  1.05661471,  1.09224229,  1.12786987,  1.16349745,\n",
       "         1.19912502,  1.2347526 ,  1.27038018,  1.30600776,  1.34163534,\n",
       "         1.37726292,  1.4128905 ,  1.44851808,  1.48414566,  1.51977324,\n",
       "         1.55540082,  1.59102839,  1.62665597,  1.66228355,  1.69791113,\n",
       "         1.73353871,  1.76916629,  1.80479387,  1.84042145,  1.87604903,\n",
       "         1.91167661,  1.94730419,  1.98293176,  2.01855934,  2.05418692,\n",
       "         2.0898145 ,  2.12544208,  2.16106966,  2.19669724,  2.23232482,\n",
       "         2.2679524 ,  2.30357998,  2.33920756,  2.37483513,  2.41046271,\n",
       "         2.44609029,  2.48171787,  2.51734545,  2.55297303,  2.58860061,\n",
       "         2.62422819,  2.65985577,  2.69548335,  2.73111093,  2.7667385 ,\n",
       "         2.80236608,  2.83799366,  2.87362124,  2.90924882,  2.9448764 ,\n",
       "         2.98050398,  3.01613156,  3.05175914,  3.08738672,  3.12301429,\n",
       "         3.15864187,  3.19426945,  3.22989703,  3.26552461,  3.30115219,\n",
       "         3.33677977,  3.37240735,  3.40803493,  3.44366251,  3.47929009,\n",
       "         3.51491766]),\n",
       " <BarContainer object of 200 artists>)"
      ]
     },
     "execution_count": 75,
     "metadata": {},
     "output_type": "execute_result"
    },
    {
     "data": {
      "image/png": "[encoded data removed]",
      "text/plain": [
       "<Figure size 432x288 with 1 Axes>"
      ]
     },
     "metadata": {
      "needs_background": "light"
     },
     "output_type": "display_data"
    }
   ],
   "source": [
    "L = np.random.randn(10000)\n",
    "plt.hist(L,bins=200)"
   ]
  },
  {
   "cell_type": "code",
   "execution_count": 77,
   "metadata": {},
   "outputs": [
    {
     "data": {
      "text/plain": [
       "array([[0.21742977, 0.48382434, 0.66423753],\n",
       "       [0.42604663, 0.19243301, 0.61388051]])"
      ]
     },
     "execution_count": 77,
     "metadata": {},
     "output_type": "execute_result"
    }
   ],
   "source": [
    "M = np.random.rand(2,3)\n",
    "M"
   ]
  },
  {
   "cell_type": "code",
   "execution_count": 78,
   "metadata": {},
   "outputs": [
    {
     "data": {
      "text/plain": [
       "2"
      ]
     },
     "execution_count": 78,
     "metadata": {},
     "output_type": "execute_result"
    }
   ],
   "source": [
    "M.ndim"
   ]
  },
  {
   "cell_type": "code",
   "execution_count": 80,
   "metadata": {},
   "outputs": [
    {
     "data": {
      "text/plain": [
       "array([[[[0.15613287, 0.63060188],\n",
       "         [0.39658799, 0.2907472 ],\n",
       "         [0.77260443, 0.55687157],\n",
       "         [0.91987566, 0.59041989]],\n",
       "\n",
       "        [[0.81076549, 0.5117686 ],\n",
       "         [0.14536817, 0.99814781],\n",
       "         [0.26142539, 0.02548062],\n",
       "         [0.84803632, 0.82551868]],\n",
       "\n",
       "        [[0.97915842, 0.11407975],\n",
       "         [0.22256887, 0.39915859],\n",
       "         [0.98165769, 0.02824067],\n",
       "         [0.65310534, 0.00892485]]],\n",
       "\n",
       "\n",
       "       [[[0.97210952, 0.28351808],\n",
       "         [0.2012546 , 0.80088111],\n",
       "         [0.35817884, 0.15403584],\n",
       "         [0.60980938, 0.7002783 ]],\n",
       "\n",
       "        [[0.78293608, 0.16753868],\n",
       "         [0.17683003, 0.06283644],\n",
       "         [0.35678933, 0.02551207],\n",
       "         [0.69169035, 0.9784492 ]],\n",
       "\n",
       "        [[0.43215244, 0.19631415],\n",
       "         [0.64582782, 0.60213696],\n",
       "         [0.55165341, 0.69353888],\n",
       "         [0.38136589, 0.73986067]]]])"
      ]
     },
     "execution_count": 80,
     "metadata": {},
     "output_type": "execute_result"
    }
   ],
   "source": [
    "# changing the dimensions of array M:\n",
    "M = np.random.rand(2,3,4,2)\n",
    "M\n",
    "# here there are 2 3d arrays, each 3d array has 3 2d arrays, each 2d array has 4 1d arrays, each 1d array has 2 elements:"
   ]
  },
  {
   "cell_type": "code",
   "execution_count": 81,
   "metadata": {},
   "outputs": [
    {
     "data": {
      "text/plain": [
       "4"
      ]
     },
     "execution_count": 81,
     "metadata": {},
     "output_type": "execute_result"
    }
   ],
   "source": [
    "M.ndim"
   ]
  },
  {
   "cell_type": "code",
   "execution_count": 83,
   "metadata": {},
   "outputs": [
    {
     "data": {
      "text/plain": [
       "array([[ 0,  1,  2,  3,  4,  5,  6,  7,  8,  9, 10, 11, 12, 13, 14, 15,\n",
       "        16, 17, 18, 19, 20, 21, 22, 23, 24],\n",
       "       [25, 26, 27, 28, 29, 30, 31, 32, 33, 34, 35, 36, 37, 38, 39, 40,\n",
       "        41, 42, 43, 44, 45, 46, 47, 48, 49],\n",
       "       [50, 51, 52, 53, 54, 55, 56, 57, 58, 59, 60, 61, 62, 63, 64, 65,\n",
       "        66, 67, 68, 69, 70, 71, 72, 73, 74],\n",
       "       [75, 76, 77, 78, 79, 80, 81, 82, 83, 84, 85, 86, 87, 88, 89, 90,\n",
       "        91, 92, 93, 94, 95, 96, 97, 98, 99]])"
      ]
     },
     "execution_count": 83,
     "metadata": {},
     "output_type": "execute_result"
    }
   ],
   "source": [
    "# reshaping the array to have 4 rows and 25 columns\n",
    "N = np.arange(100).reshape(4,25)\n",
    "N"
   ]
  },
  {
   "cell_type": "code",
   "execution_count": 84,
   "metadata": {},
   "outputs": [
    {
     "data": {
      "text/plain": [
       "(4, 25)"
      ]
     },
     "execution_count": 84,
     "metadata": {},
     "output_type": "execute_result"
    }
   ],
   "source": [
    "N.shape"
   ]
  },
  {
   "cell_type": "code",
   "execution_count": 85,
   "metadata": {},
   "outputs": [
    {
     "data": {
      "text/plain": [
       "array([[[ 0,  1,  2,  3,  4],\n",
       "        [ 5,  6,  7,  8,  9],\n",
       "        [10, 11, 12, 13, 14],\n",
       "        [15, 16, 17, 18, 19],\n",
       "        [20, 21, 22, 23, 24]],\n",
       "\n",
       "       [[25, 26, 27, 28, 29],\n",
       "        [30, 31, 32, 33, 34],\n",
       "        [35, 36, 37, 38, 39],\n",
       "        [40, 41, 42, 43, 44],\n",
       "        [45, 46, 47, 48, 49]],\n",
       "\n",
       "       [[50, 51, 52, 53, 54],\n",
       "        [55, 56, 57, 58, 59],\n",
       "        [60, 61, 62, 63, 64],\n",
       "        [65, 66, 67, 68, 69],\n",
       "        [70, 71, 72, 73, 74]],\n",
       "\n",
       "       [[75, 76, 77, 78, 79],\n",
       "        [80, 81, 82, 83, 84],\n",
       "        [85, 86, 87, 88, 89],\n",
       "        [90, 91, 92, 93, 94],\n",
       "        [95, 96, 97, 98, 99]]])"
      ]
     },
     "execution_count": 85,
     "metadata": {},
     "output_type": "execute_result"
    }
   ],
   "source": [
    "N = np.arange(100).reshape(4,5,5)\n",
    "N"
   ]
  },
  {
   "cell_type": "code",
   "execution_count": null,
   "metadata": {},
   "outputs": [],
   "source": []
  }
 ],
 "metadata": {
  "kernelspec": {
   "display_name": "Python 3",
   "language": "python",
   "name": "python3"
  },
  "language_info": {
   "codemirror_mode": {
    "name": "ipython",
    "version": 3
   },
   "file_extension": ".py",
   "mimetype": "text/x-python",
   "name": "python",
   "nbconvert_exporter": "python",
   "pygments_lexer": "ipython3",
   "version": "3.8.5"
  }
 },
 "nbformat": 4,
 "nbformat_minor": 4
}
