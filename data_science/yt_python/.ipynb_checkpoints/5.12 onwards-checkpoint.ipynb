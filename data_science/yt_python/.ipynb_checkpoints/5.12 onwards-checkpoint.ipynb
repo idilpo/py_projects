{
 "cells": [
  {
   "cell_type": "markdown",
   "metadata": {},
   "source": [
    "# 5:12:00 onwards:"
   ]
  },
  {
   "cell_type": "markdown",
   "metadata": {},
   "source": [
    "# Functions:"
   ]
  },
  {
   "cell_type": "code",
   "execution_count": 2,
   "metadata": {},
   "outputs": [
    {
     "name": "stdout",
     "output_type": "stream",
     "text": [
      "Task was successful.\n",
      "Moving to the next task.\n",
      "Send me the next task.\n"
     ]
    }
   ],
   "source": [
    "def printSuccess():\n",
    "    print(\"Task was successful.\")\n",
    "    print(\"Moving to the next task.\")\n",
    "    print(\"Send me the next task.\")\n",
    "printSuccess()"
   ]
  },
  {
   "cell_type": "code",
   "execution_count": 4,
   "metadata": {},
   "outputs": [],
   "source": [
    "def printSuccess2():\n",
    "    \"\"\" This function is doing nothing except printing a message.\"\"\" \n",
    "    print(\"\")"
   ]
  },
  {
   "cell_type": "code",
   "execution_count": 6,
   "metadata": {},
   "outputs": [
    {
     "name": "stdout",
     "output_type": "stream",
     "text": [
      "Help on function printSuccess2 in module __main__:\n",
      "\n",
      "printSuccess2()\n",
      "    This function is doing nothing except printing a message.\n",
      "\n"
     ]
    }
   ],
   "source": [
    "help(printSuccess2)"
   ]
  },
  {
   "cell_type": "code",
   "execution_count": 12,
   "metadata": {},
   "outputs": [
    {
     "name": "stdout",
     "output_type": "stream",
     "text": [
      "This is a message.\n",
      "You havce  inputted a type  <class 'int'>\n",
      "Please input a string.\n"
     ]
    }
   ],
   "source": [
    "def message(msg):\n",
    "    if isinstance(msg, str):\n",
    "        print(msg)\n",
    "    else: \n",
    "        print(\"You havce  inputted a type \", type(msg))\n",
    "        print(\"Please input a string.\")\n",
    "message(\"This is a message.\")\n",
    "message(123)"
   ]
  },
  {
   "cell_type": "code",
   "execution_count": 17,
   "metadata": {},
   "outputs": [
    {
     "name": "stdout",
     "output_type": "stream",
     "text": [
      "8\n",
      "None\n",
      "0\n"
     ]
    }
   ],
   "source": [
    "def func(arg1, arg2):\n",
    "    if (isinstance(arg1, int) & isinstance(arg2, int)):\n",
    "        if (arg1 > arg2):\n",
    "            minArg = arg2\n",
    "        elif (arg2 > arg1):\n",
    "            minArg = arg1\n",
    "        else:\n",
    "            minArg = None\n",
    "    else: print(\"Please input an integer value.\")\n",
    "    return minArg\n",
    "print(func(8,9))\n",
    "print(func(3,3))\n",
    "print(func(2,0))"
   ]
  },
  {
   "cell_type": "code",
   "execution_count": 18,
   "metadata": {},
   "outputs": [],
   "source": [
    "variableOutSideTheFunction = 3"
   ]
  },
  {
   "cell_type": "code",
   "execution_count": 24,
   "metadata": {},
   "outputs": [],
   "source": [
    "def g():\n",
    "    variableOutSideTheFunction = 5\n",
    "    #print(variableOutSideTheFunction)"
   ]
  },
  {
   "cell_type": "code",
   "execution_count": 25,
   "metadata": {},
   "outputs": [
    {
     "name": "stdout",
     "output_type": "stream",
     "text": [
      "<class 'NoneType'>\n"
     ]
    }
   ],
   "source": [
    "print(type(g())) #its return value is \"None\""
   ]
  },
  {
   "cell_type": "code",
   "execution_count": 21,
   "metadata": {},
   "outputs": [
    {
     "name": "stdout",
     "output_type": "stream",
     "text": [
      "3\n"
     ]
    }
   ],
   "source": [
    "print(variableOutSideTheFunction)"
   ]
  },
  {
   "cell_type": "code",
   "execution_count": 27,
   "metadata": {},
   "outputs": [],
   "source": [
    "def h():\n",
    "    print(\"A\")\n",
    "    a = 3\n",
    "    b = 5\n",
    "    c = a+b\n",
    "    print(\"something\")\n",
    "    return c\n",
    "    print(\"B\")\n",
    "    print(\"C\")"
   ]
  },
  {
   "cell_type": "code",
   "execution_count": 28,
   "metadata": {},
   "outputs": [
    {
     "name": "stdout",
     "output_type": "stream",
     "text": [
      "A\n",
      "something\n"
     ]
    },
    {
     "data": {
      "text/plain": [
       "8"
      ]
     },
     "execution_count": 28,
     "metadata": {},
     "output_type": "execute_result"
    }
   ],
   "source": [
    "h() #function doesnt go on after the return statement"
   ]
  },
  {
   "cell_type": "code",
   "execution_count": 29,
   "metadata": {},
   "outputs": [
    {
     "name": "stdout",
     "output_type": "stream",
     "text": [
      "A\n",
      "something\n",
      "<class 'int'>\n"
     ]
    }
   ],
   "source": [
    "print(type(h()))"
   ]
  },
  {
   "cell_type": "code",
   "execution_count": 30,
   "metadata": {},
   "outputs": [
    {
     "name": "stdout",
     "output_type": "stream",
     "text": [
      "5 7 something\n"
     ]
    }
   ],
   "source": [
    "# returning multiple values:\n",
    "def r():\n",
    "    a = 5\n",
    "    b = 7\n",
    "    d = \"something\"\n",
    "    return a,b,d\n",
    "\n",
    "x,y,z = r()\n",
    "print(x,y,z)"
   ]
  },
  {
   "cell_type": "markdown",
   "metadata": {},
   "source": [
    "# 6:15:00 onwards:"
   ]
  },
  {
   "cell_type": "markdown",
   "metadata": {},
   "source": [
    "# Arguments:"
   ]
  },
  {
   "cell_type": "code",
   "execution_count": 34,
   "metadata": {},
   "outputs": [
    {
     "name": "stdout",
     "output_type": "stream",
     "text": [
      "3\n",
      "12\n",
      "10\n"
     ]
    }
   ],
   "source": [
    "# to give arbitrary number of arguments to a function:\n",
    "def add(*args): #all args that are received here will be received as a list hence are accessed using indexing\n",
    "    sum = 0\n",
    "    for i in range(len(args)):\n",
    "        sum = sum + args[i]\n",
    "    return sum\n",
    "\n",
    "print(add(1,2))\n",
    "print(add(3,4,5))\n",
    "print(add(10))"
   ]
  },
  {
   "cell_type": "code",
   "execution_count": 35,
   "metadata": {},
   "outputs": [
    {
     "name": "stdout",
     "output_type": "stream",
     "text": [
      "Variable Name is:  a  & value is:  3\n",
      "Variable Name is:  b  & value is:  B\n",
      "Variable Name is:  c  & value is:  CCC\n",
      "Variable Name is:  d  & value is:  6.7\n"
     ]
    }
   ],
   "source": [
    "# order/sequence of arguments:\n",
    "def printAll(**c): # ** = receiving a (key, value) list pair\n",
    "    for x in c:\n",
    "        print(\"Variable Name is: \", x, \" & value is: \", c[x])\n",
    "printAll(a=3, b=\"B\", c=\"CCC\", d=6.7)"
   ]
  },
  {
   "cell_type": "code",
   "execution_count": 39,
   "metadata": {},
   "outputs": [
    {
     "name": "stdout",
     "output_type": "stream",
     "text": [
      "0\n",
      "8\n",
      "\n",
      "9\n",
      "8\n"
     ]
    }
   ],
   "source": [
    "# default values:\n",
    "def defaultFunc(val=0):\n",
    "    print(val)\n",
    "    val = 8\n",
    "    print(val)\n",
    "defaultFunc()\n",
    "print()\n",
    "defaultFunc(9)"
   ]
  },
  {
   "cell_type": "code",
   "execution_count": 40,
   "metadata": {},
   "outputs": [
    {
     "name": "stdout",
     "output_type": "stream",
     "text": [
      "6\n"
     ]
    }
   ],
   "source": [
    "def gg(s=6):\n",
    "    print(s)\n",
    "gg()"
   ]
  },
  {
   "cell_type": "code",
   "execution_count": 41,
   "metadata": {},
   "outputs": [
    {
     "name": "stdout",
     "output_type": "stream",
     "text": [
      "56\n"
     ]
    }
   ],
   "source": [
    "gg(56)"
   ]
  },
  {
   "cell_type": "code",
   "execution_count": 42,
   "metadata": {},
   "outputs": [
    {
     "name": "stdout",
     "output_type": "stream",
     "text": [
      "[-9, 2, 3]\n"
     ]
    }
   ],
   "source": [
    "LL = [1,2,3]\n",
    "LL2 = LL\n",
    "LL2[0] = -9\n",
    "print(LL)"
   ]
  },
  {
   "cell_type": "code",
   "execution_count": 46,
   "metadata": {},
   "outputs": [
    {
     "name": "stdout",
     "output_type": "stream",
     "text": [
      "1\n",
      "2\n"
     ]
    }
   ],
   "source": [
    "def ff(LLL=[1,2]):\n",
    "    for i in LLL:\n",
    "        print(i)\n",
    "\n",
    "LLL2 = [12,3,4]\n",
    "ff()"
   ]
  },
  {
   "cell_type": "code",
   "execution_count": 51,
   "metadata": {},
   "outputs": [
    {
     "data": {
      "text/plain": [
       "'\\n# modules: involves a collection of functions you\\'d like to use in different projects. \\n\\n# say we created a myfunctions.py file that has this code:\\ndef printMe(msg = \"No given message.\"):\\n    print(msg)\\n    \\ndef printList(L=[]):\\n    for i in L:\\n        print(i)\\n        \\n# need to specify the path of the file (D:/mymodules/myfuncs.py):\\nimport sys\\nsys.path.append(\"D:/mymodules/myfuncs.py\")\\nimport myfuncs as mf\\nmf.printMe(\"hi\")\\n'"
      ]
     },
     "execution_count": 51,
     "metadata": {},
     "output_type": "execute_result"
    }
   ],
   "source": [
    "\"\"\"\n",
    "# modules: involves a collection of functions you'd like to use in different projects. \n",
    "\n",
    "# say we created a myfunctions.py file that has this code:\n",
    "def printMe(msg = \"No given message.\"):\n",
    "    print(msg)\n",
    "    \n",
    "def printList(L=[]):\n",
    "    for i in L:\n",
    "        print(i)\n",
    "        \n",
    "# need to specify the path of the file (D:/mymodules/myfuncs.py):\n",
    "import sys\n",
    "sys.path.append(\"D:/mymodules/myfuncs.py\")\n",
    "import myfuncs as mf\n",
    "mf.printMe(\"hi\")\n",
    "\"\"\""
   ]
  },
  {
   "cell_type": "code",
   "execution_count": 55,
   "metadata": {},
   "outputs": [],
   "source": [
    "import sys\n",
    "sys.path.append('C:/ABC/')"
   ]
  },
  {
   "cell_type": "code",
   "execution_count": null,
   "metadata": {},
   "outputs": [],
   "source": [
    "import sys \n",
    "sys.path.append()"
   ]
  },
  {
   "cell_type": "code",
   "execution_count": null,
   "metadata": {},
   "outputs": [],
   "source": []
  }
 ],
 "metadata": {
  "kernelspec": {
   "display_name": "Python 3",
   "language": "python",
   "name": "python3"
  },
  "language_info": {
   "codemirror_mode": {
    "name": "ipython",
    "version": 3
   },
   "file_extension": ".py",
   "mimetype": "text/x-python",
   "name": "python",
   "nbconvert_exporter": "python",
   "pygments_lexer": "ipython3",
   "version": "3.8.5"
  }
 },
 "nbformat": 4,
 "nbformat_minor": 4
}
