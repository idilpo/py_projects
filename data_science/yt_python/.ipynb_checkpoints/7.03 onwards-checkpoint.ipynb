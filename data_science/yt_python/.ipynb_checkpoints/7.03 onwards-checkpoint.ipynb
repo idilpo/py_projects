{
 "cells": [
  {
   "cell_type": "markdown",
   "metadata": {},
   "source": [
    "# 7:03:00 onwards"
   ]
  },
  {
   "cell_type": "markdown",
   "metadata": {},
   "source": [
    "# examples:"
   ]
  },
  {
   "cell_type": "code",
   "execution_count": 6,
   "metadata": {},
   "outputs": [],
   "source": [
    "# same example from before solved simpler:\n",
    "\"\"\" Given a list of numbers i.e. [1,2,4,-5,7,9,3,2], make another list that contains all the items \n",
    "in sorted order from min to max. i.e. your result will be another list like [-5,1,2,2,3,7,9].\n",
    "\"\"\"\n",
    "def findMin(L):\n",
    "    m = L[0]\n",
    "    idx = 0\n",
    "    counter = 0\n",
    "    \n",
    "    for i in L:\n",
    "        if i<m:\n",
    "            m = i\n",
    "            idx = i\n",
    "        else: pass\n",
    "        counter+=1\n",
    "        \n",
    "    return m, idx"
   ]
  },
  {
   "cell_type": "code",
   "execution_count": 27,
   "metadata": {},
   "outputs": [
    {
     "name": "stdout",
     "output_type": "stream",
     "text": [
      "Minimum Value: 2 , Index: 2\n"
     ]
    }
   ],
   "source": [
    "List  = [3,7,2,12,55,4]\n",
    "a,b = findMin(List)\n",
    "print(\"Minimum Value:\", a, \", Index:\", b)"
   ]
  },
  {
   "cell_type": "code",
   "execution_count": 28,
   "metadata": {},
   "outputs": [],
   "source": [
    "def swapValues(L, idx1, idx2):\n",
    "    t = L[idx1] \n",
    "    L[idx1] = L[idx2] \n",
    "    L[idx2] = t \n",
    "    return L"
   ]
  },
  {
   "cell_type": "code",
   "execution_count": 29,
   "metadata": {},
   "outputs": [
    {
     "name": "stdout",
     "output_type": "stream",
     "text": [
      "[3, 7, 2, 12, 55, 4]\n",
      "[3, 7, 2, 55, 12, 4]\n"
     ]
    }
   ],
   "source": [
    "print(List)\n",
    "swappedList = swapValues(List,3,4)\n",
    "print(swappedList)"
   ]
  },
  {
   "cell_type": "code",
   "execution_count": 40,
   "metadata": {},
   "outputs": [
    {
     "name": "stdout",
     "output_type": "stream",
     "text": [
      "r\n",
      "<class 'str'>\n",
      "How are yo\n",
      "u\n",
      " who are \n",
      "Hwaeyu\n",
      "weud\n",
      "4\n"
     ]
    }
   ],
   "source": [
    "# string[start:stop:step]\n",
    "s = \"How are you and who are you\"\n",
    "print(s[5])\n",
    "print(type(s[5]))\n",
    "print(s[0:10])\n",
    "print(s[-1])\n",
    "print(s[-12:-3])\n",
    "print(s[0:12:2])\n",
    "s[::-1]\n",
    "print(s[2:15:4])\n",
    "print(len(s[2:15:4]))"
   ]
  },
  {
   "cell_type": "markdown",
   "metadata": {},
   "source": [
    "# 8:00:00 - different important methods for strings:"
   ]
  },
  {
   "cell_type": "code",
   "execution_count": 43,
   "metadata": {},
   "outputs": [
    {
     "name": "stdout",
     "output_type": "stream",
     "text": [
      "abc def     hgq asdfaf\n"
     ]
    }
   ],
   "source": [
    "# .strip:\n",
    "m = \"    abc def     hgq asdfaf     \"\n",
    "n = m.strip()\n",
    "print(n)"
   ]
  },
  {
   "cell_type": "code",
   "execution_count": 45,
   "metadata": {},
   "outputs": [
    {
     "name": "stdout",
     "output_type": "stream",
     "text": [
      "abc defg ;; sadfa qf\n",
      "ABC DEFG ;; SADFA QF\n"
     ]
    }
   ],
   "source": [
    "# .lower & .upper:\n",
    "d = \"ABC deFg ;; sadfa QF\"\n",
    "e = d.lower()\n",
    "o = d.upper()\n",
    "print(e)\n",
    "print(o)"
   ]
  },
  {
   "cell_type": "code",
   "execution_count": 50,
   "metadata": {},
   "outputs": [
    {
     "name": "stdout",
     "output_type": "stream",
     "text": [
      "ABC deFg ** sadfa QF\n",
      "ABC deFg **&&^^%%**&&^^%% sadfa QF\n",
      "ABC deFg two semi colons sadfa QF\n"
     ]
    }
   ],
   "source": [
    "# .replace:\n",
    "k = d.replace(\";\",\"*\")\n",
    "print(k)\n",
    "l = d.replace(\";\",\"**&&^^%%\")\n",
    "print(l)\n",
    "j = d.replace(\";;\",\"two semi colons\")\n",
    "print(j)"
   ]
  },
  {
   "cell_type": "code",
   "execution_count": 52,
   "metadata": {},
   "outputs": [
    {
     "name": "stdout",
     "output_type": "stream",
     "text": [
      "['abc', 'def', 'hgydfa', 'yy23']\n"
     ]
    }
   ],
   "source": [
    "# .split:\n",
    "aa = \"abc;def;hgydfa;yy23\"\n",
    "Ll = aa.split(\";\")\n",
    "print(Ll)"
   ]
  },
  {
   "cell_type": "code",
   "execution_count": 55,
   "metadata": {},
   "outputs": [
    {
     "name": "stdout",
     "output_type": "stream",
     "text": [
      "Abc;def;hgydfa;yy23\n",
      "Abdafadfggq\n"
     ]
    },
    {
     "data": {
      "text/plain": [
       "\u001b[0;31mSignature:\u001b[0m \u001b[0ma\u001b[0m\u001b[0;34m.\u001b[0m\u001b[0mcapitalize\u001b[0m\u001b[0;34m(\u001b[0m\u001b[0;34m)\u001b[0m\u001b[0;34m\u001b[0m\u001b[0;34m\u001b[0m\u001b[0m\n",
       "\u001b[0;31mDocstring:\u001b[0m\n",
       "Return a capitalized version of the string.\n",
       "\n",
       "More specifically, make the first character have upper case and the rest lower\n",
       "case.\n",
       "\u001b[0;31mType:\u001b[0m      builtin_function_or_method\n"
      ]
     },
     "metadata": {},
     "output_type": "display_data"
    }
   ],
   "source": [
    "# .capitalize:\n",
    "print(aa.capitalize())\n",
    "mm = \"abdAfadfGGQ\".capitalize()\n",
    "print(mm)\n",
    "a.capitalize?"
   ]
  },
  {
   "cell_type": "code",
   "execution_count": null,
   "metadata": {},
   "outputs": [],
   "source": []
  }
 ],
 "metadata": {
  "kernelspec": {
   "display_name": "Python 3",
   "language": "python",
   "name": "python3"
  },
  "language_info": {
   "codemirror_mode": {
    "name": "ipython",
    "version": 3
   },
   "file_extension": ".py",
   "mimetype": "text/x-python",
   "name": "python",
   "nbconvert_exporter": "python",
   "pygments_lexer": "ipython3",
   "version": "3.8.5"
  }
 },
 "nbformat": 4,
 "nbformat_minor": 4
}
