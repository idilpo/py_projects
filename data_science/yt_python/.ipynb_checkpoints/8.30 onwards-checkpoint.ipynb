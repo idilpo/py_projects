{
 "cells": [
  {
   "cell_type": "markdown",
   "metadata": {},
   "source": [
    "# 8:30:00 onwards"
   ]
  },
  {
   "cell_type": "markdown",
   "metadata": {},
   "source": [
    "# Data Structures:"
   ]
  },
  {
   "cell_type": "code",
   "execution_count": 1,
   "metadata": {},
   "outputs": [],
   "source": [
    "L = [1,3,4.9,\"name\",3]\n",
    "T = (1,3,4.9,\"name\",3)\n",
    "S = {1,3,4.9,\"name\",3}\n",
    "D = {23:\"twothree\",'B':43,'C':'CCD'}"
   ]
  },
  {
   "cell_type": "code",
   "execution_count": 2,
   "metadata": {},
   "outputs": [
    {
     "name": "stdout",
     "output_type": "stream",
     "text": [
      "The type of L is  <class 'list'>\n",
      "The type of T is  <class 'tuple'>\n",
      "The type of S is  <class 'set'>\n",
      "The type of D is  <class 'dict'>\n"
     ]
    }
   ],
   "source": [
    "print(\"The type of L is \", type(L))\n",
    "print(\"The type of T is \", type(T))\n",
    "print(\"The type of S is \", type(S))\n",
    "print(\"The type of D is \", type(D))"
   ]
  },
  {
   "cell_type": "code",
   "execution_count": 3,
   "metadata": {},
   "outputs": [
    {
     "name": "stdout",
     "output_type": "stream",
     "text": [
      "3\n",
      "3\n",
      "True\n",
      "twothree\n"
     ]
    }
   ],
   "source": [
    "# accessing elements:\n",
    "print(L[1])\n",
    "print(T[1])\n",
    "print(3 in S)\n",
    "print(D[23])"
   ]
  },
  {
   "cell_type": "code",
   "execution_count": 5,
   "metadata": {},
   "outputs": [
    {
     "name": "stdout",
     "output_type": "stream",
     "text": [
      "43\n"
     ]
    },
    {
     "data": {
      "text/plain": [
       "{1, 3, 4.9, 'name'}"
      ]
     },
     "execution_count": 5,
     "metadata": {},
     "output_type": "execute_result"
    }
   ],
   "source": [
    "print(D['B'])\n",
    "S"
   ]
  },
  {
   "cell_type": "code",
   "execution_count": 8,
   "metadata": {},
   "outputs": [
    {
     "name": "stdout",
     "output_type": "stream",
     "text": [
      "[1, 3, 4.9, 'name', 3]\n",
      "[3, 4.9]\n",
      "[3, 'name', 4.9, 3, 1]\n"
     ]
    }
   ],
   "source": [
    "print(L)\n",
    "print(L[1:3])\n",
    "print(L[::-1])"
   ]
  },
  {
   "cell_type": "code",
   "execution_count": 9,
   "metadata": {},
   "outputs": [
    {
     "data": {
      "text/plain": [
       "[1, 3, 4.9, 'name', 3, 'how', 'are', 6, 'you']"
      ]
     },
     "execution_count": 9,
     "metadata": {},
     "output_type": "execute_result"
    }
   ],
   "source": [
    "L = L + [\"how\",\"are\",6,\"you\"]\n",
    "L"
   ]
  },
  {
   "cell_type": "code",
   "execution_count": 10,
   "metadata": {},
   "outputs": [
    {
     "data": {
      "text/plain": [
       "[1, 3, 4.9, 'name', 3, 'how', 'are', 6, 'you', 6.8]"
      ]
     },
     "execution_count": 10,
     "metadata": {},
     "output_type": "execute_result"
    }
   ],
   "source": [
    "L.append(6.8)\n",
    "L"
   ]
  },
  {
   "cell_type": "code",
   "execution_count": 19,
   "metadata": {},
   "outputs": [
    {
     "data": {
      "text/plain": [
       "[1, 3, 4.9, 3, 'how', 'are', 6, 'you', 6.8]"
      ]
     },
     "execution_count": 19,
     "metadata": {},
     "output_type": "execute_result"
    }
   ],
   "source": [
    "del L[3]\n",
    "L"
   ]
  },
  {
   "cell_type": "code",
   "execution_count": 13,
   "metadata": {},
   "outputs": [
    {
     "data": {
      "text/plain": [
       "(1, 3, 4.9)"
      ]
     },
     "execution_count": 13,
     "metadata": {},
     "output_type": "execute_result"
    }
   ],
   "source": [
    "T[:3]"
   ]
  },
  {
   "cell_type": "code",
   "execution_count": 14,
   "metadata": {},
   "outputs": [
    {
     "name": "stdout",
     "output_type": "stream",
     "text": [
      "(1, 3, 4.9, 'name', 3, 'a', 'b', 45)\n"
     ]
    }
   ],
   "source": [
    "T2 = ('a','b',45)\n",
    "T3 = T+T2\n",
    "print(T3)"
   ]
  },
  {
   "cell_type": "code",
   "execution_count": 15,
   "metadata": {},
   "outputs": [
    {
     "name": "stdout",
     "output_type": "stream",
     "text": [
      "{1, 3, 4.9, 'name'}\n",
      "{1, 3, 4.9, 'name', 56}\n"
     ]
    }
   ],
   "source": [
    "print(S)\n",
    "S.add(56)\n",
    "print(S)"
   ]
  },
  {
   "cell_type": "code",
   "execution_count": 16,
   "metadata": {},
   "outputs": [
    {
     "data": {
      "text/plain": [
       "{1, 23, 3, 4.9, 56, 'game', 'name'}"
      ]
     },
     "execution_count": 16,
     "metadata": {},
     "output_type": "execute_result"
    }
   ],
   "source": [
    "S.update({23,\"game\",1})\n",
    "S"
   ]
  },
  {
   "cell_type": "code",
   "execution_count": 20,
   "metadata": {},
   "outputs": [
    {
     "data": {
      "text/plain": [
       "{1, 23, 3, 4.9, 56, 'name'}"
      ]
     },
     "execution_count": 20,
     "metadata": {},
     "output_type": "execute_result"
    }
   ],
   "source": [
    "S.remove('game')\n",
    "S"
   ]
  },
  {
   "cell_type": "code",
   "execution_count": 17,
   "metadata": {},
   "outputs": [
    {
     "name": "stdout",
     "output_type": "stream",
     "text": [
      "{23: 'twothree', 'B': 43, 'C': 'CCD'}\n",
      "{23: 'twothree', 'B': 43, 'C': 'CCD', 'newKey': 'newValue'}\n"
     ]
    }
   ],
   "source": [
    "print(D)\n",
    "D['newKey'] = \"newValue\"\n",
    "print(D)"
   ]
  },
  {
   "cell_type": "code",
   "execution_count": 21,
   "metadata": {},
   "outputs": [
    {
     "name": "stdout",
     "output_type": "stream",
     "text": [
      "{23: 'twothree', 'B': 43, 'newKey': 'newValue'}\n"
     ]
    }
   ],
   "source": [
    "del D['C']\n",
    "print(D)"
   ]
  },
  {
   "cell_type": "code",
   "execution_count": 22,
   "metadata": {},
   "outputs": [
    {
     "name": "stdout",
     "output_type": "stream",
     "text": [
      "{23: 'twothree', 'B': 43, 'newKey': 'newValue', 'y': 'YY', 'z': 10}\n"
     ]
    }
   ],
   "source": [
    "# in dictionaries concatenating doesnt work --> D = D + D2 doesnt work\n",
    "D2 = {\"y\":\"YY\",\"z\":10}\n",
    "D.update(D2)\n",
    "print(D)"
   ]
  },
  {
   "cell_type": "code",
   "execution_count": 25,
   "metadata": {},
   "outputs": [
    {
     "name": "stdout",
     "output_type": "stream",
     "text": [
      "[1, 3, 4.9, 3, 'how', 'are', 6, 'you', 6.8]\n",
      "[1, 3, 4.9, 3, 'how', 'are', 6, 'you', 6.8]\n",
      "[1, 3, 'four point nine', 3, 'how', 'are', 6, 'you', 6.8]\n"
     ]
    }
   ],
   "source": [
    "# changes made to the 2nd list (references the original list) also changes the original list:\n",
    "print(L)\n",
    "L2 = L\n",
    "print(L2)\n",
    "L2[2] = \"four point nine\"\n",
    "print(L)"
   ]
  },
  {
   "cell_type": "code",
   "execution_count": 26,
   "metadata": {},
   "outputs": [
    {
     "name": "stdout",
     "output_type": "stream",
     "text": [
      "[1, 3, 'four point nine', 3, 'how', 'are', 6, 'you', 6.8]\n",
      "[1, 3, 'four point nine', 3, 'how', 'are', 6, 'you', 6.8]\n",
      "[1, 3, 'four point nine', 3, 'how', 'are', 6, 'you', 6.8]\n"
     ]
    }
   ],
   "source": [
    "# changes made to the copied list doesnt show in the original list:\n",
    "print(L)\n",
    "L2 = L.copy()\n",
    "print(L2)\n",
    "L2[2] = 4.9\n",
    "print(L)"
   ]
  },
  {
   "cell_type": "code",
   "execution_count": 28,
   "metadata": {},
   "outputs": [
    {
     "name": "stdout",
     "output_type": "stream",
     "text": [
      "[1, 3, 'four point nine', 3, 'how', 'are', 6, 'you', 6.8]\n",
      "[3, 'four point nine', 3, 'how']\n",
      "[1, 3, 'four point nine', 3, 'how', 'are', 6, 'you', 6.8]\n",
      "['three', 'four point nine', 3, 'how']\n",
      "[1, 3, 'four point nine', 3, 'how', 'are', 6, 'you', 6.8]\n"
     ]
    }
   ],
   "source": [
    "# with slicing, L3 is automatically a copy of L:\n",
    "print(L)\n",
    "L3 = L[1:5]\n",
    "print(L3)\n",
    "print(L)\n",
    "L3[0] = \"three\"\n",
    "print(L3)\n",
    "print(L)"
   ]
  },
  {
   "cell_type": "code",
   "execution_count": 30,
   "metadata": {},
   "outputs": [
    {
     "name": "stdout",
     "output_type": "stream",
     "text": [
      "Help on built-in function append:\n",
      "\n",
      "append(object, /) method of builtins.list instance\n",
      "    Append object to the end of the list.\n",
      "\n"
     ]
    },
    {
     "data": {
      "text/plain": [
       "\u001b[0;31mSignature:\u001b[0m \u001b[0mL\u001b[0m\u001b[0;34m.\u001b[0m\u001b[0mclear\u001b[0m\u001b[0;34m(\u001b[0m\u001b[0;34m)\u001b[0m\u001b[0;34m\u001b[0m\u001b[0;34m\u001b[0m\u001b[0m\n",
       "\u001b[0;31mDocstring:\u001b[0m Remove all items from list.\n",
       "\u001b[0;31mType:\u001b[0m      builtin_function_or_method\n"
      ]
     },
     "metadata": {},
     "output_type": "display_data"
    }
   ],
   "source": [
    "help(L.append)\n",
    "L.clear?"
   ]
  },
  {
   "cell_type": "code",
   "execution_count": 31,
   "metadata": {},
   "outputs": [
    {
     "data": {
      "text/plain": [
       "\u001b[0;31mSignature:\u001b[0m \u001b[0mL\u001b[0m\u001b[0;34m.\u001b[0m\u001b[0mpop\u001b[0m\u001b[0;34m(\u001b[0m\u001b[0mindex\u001b[0m\u001b[0;34m=\u001b[0m\u001b[0;34m-\u001b[0m\u001b[0;36m1\u001b[0m\u001b[0;34m,\u001b[0m \u001b[0;34m/\u001b[0m\u001b[0;34m)\u001b[0m\u001b[0;34m\u001b[0m\u001b[0;34m\u001b[0m\u001b[0m\n",
       "\u001b[0;31mDocstring:\u001b[0m\n",
       "Remove and return item at index (default last).\n",
       "\n",
       "Raises IndexError if list is empty or index is out of range.\n",
       "\u001b[0;31mType:\u001b[0m      builtin_function_or_method\n"
      ]
     },
     "metadata": {},
     "output_type": "display_data"
    }
   ],
   "source": [
    "L.pop?"
   ]
  },
  {
   "cell_type": "code",
   "execution_count": 34,
   "metadata": {},
   "outputs": [],
   "source": [
    "L.reverse()"
   ]
  },
  {
   "cell_type": "code",
   "execution_count": 35,
   "metadata": {},
   "outputs": [
    {
     "data": {
      "text/plain": [
       "[6.8, 'you', 6, 'are', 'how', 3, 'four point nine', 3, 1]"
      ]
     },
     "execution_count": 35,
     "metadata": {},
     "output_type": "execute_result"
    }
   ],
   "source": [
    "L #reversed now"
   ]
  },
  {
   "cell_type": "code",
   "execution_count": 36,
   "metadata": {},
   "outputs": [
    {
     "data": {
      "text/plain": [
       "dict_items([(23, 'twothree'), ('B', 43), ('newKey', 'newValue'), ('y', 'YY'), ('z', 10)])"
      ]
     },
     "execution_count": 36,
     "metadata": {},
     "output_type": "execute_result"
    }
   ],
   "source": [
    "D.items()"
   ]
  },
  {
   "cell_type": "markdown",
   "metadata": {},
   "source": [
    "# 9:10:00 onwards"
   ]
  },
  {
   "cell_type": "code",
   "execution_count": 39,
   "metadata": {},
   "outputs": [
    {
     "data": {
      "text/plain": [
       "'are'"
      ]
     },
     "execution_count": 39,
     "metadata": {},
     "output_type": "execute_result"
    }
   ],
   "source": [
    "D4 = {'A':L,'B':T,'C':S,'D':D}\n",
    "D4['A'][3]"
   ]
  },
  {
   "cell_type": "code",
   "execution_count": 42,
   "metadata": {},
   "outputs": [
    {
     "data": {
      "text/plain": [
       "{23: 'twothree', 'B': 43, 'newKey': 'newValue', 'y': 'YY', 'z': 10}"
      ]
     },
     "execution_count": 42,
     "metadata": {},
     "output_type": "execute_result"
    }
   ],
   "source": [
    "K = D4['D']\n",
    "K"
   ]
  },
  {
   "cell_type": "code",
   "execution_count": 44,
   "metadata": {},
   "outputs": [
    {
     "name": "stdout",
     "output_type": "stream",
     "text": [
      "23 twothree\n",
      "B 43\n",
      "newKey newValue\n",
      "y YY\n",
      "z 10\n"
     ]
    }
   ],
   "source": [
    "for x in K:\n",
    "    print(x, K[x])"
   ]
  },
  {
   "cell_type": "code",
   "execution_count": 45,
   "metadata": {},
   "outputs": [
    {
     "data": {
      "text/plain": [
       "dict"
      ]
     },
     "execution_count": 45,
     "metadata": {},
     "output_type": "execute_result"
    }
   ],
   "source": [
    "L4 = [L,T,D,23,\"game\"]\n",
    "type(L4[2])"
   ]
  },
  {
   "cell_type": "code",
   "execution_count": 46,
   "metadata": {},
   "outputs": [
    {
     "data": {
      "text/plain": [
       "[0, 1, 4, 9, 16, 25, 36, 49, 64, 81]"
      ]
     },
     "execution_count": 46,
     "metadata": {},
     "output_type": "execute_result"
    }
   ],
   "source": [
    "L5 = [x**2 for x in range(10)]\n",
    "L5"
   ]
  },
  {
   "cell_type": "code",
   "execution_count": 47,
   "metadata": {},
   "outputs": [
    {
     "data": {
      "text/plain": [
       "{4, 25, 64, 121, 196, 289}"
      ]
     },
     "execution_count": 47,
     "metadata": {},
     "output_type": "execute_result"
    }
   ],
   "source": [
    "S3 = {x**2 for x in range(2,20,3)}\n",
    "S3"
   ]
  },
  {
   "cell_type": "code",
   "execution_count": 56,
   "metadata": {},
   "outputs": [],
   "source": [
    "\"\"\"Let say you are a teacher and you have different student records containing id of a student and the marks list in each \n",
    "subject where different students have taken different number of subjects. All these records are in hard copy. You want to \n",
    "enter all the data in computer and want to compute the average marks of each student and display.\"\"\"\n",
    "\n",
    "def getDataFromUser():\n",
    "    D = {}\n",
    "    while True:\n",
    "        studentId = input(\"Enter student ID: \")\n",
    "        marksList = input(\"Enter the marks by comma separted values: \")\n",
    "        moreStudents = input('Enter \"no\" to quit insertion: ')\n",
    "        if studentId in D:\n",
    "            print(studentId, \"is already insterted\")\n",
    "        else:\n",
    "            D[studentId] = marksList.split(\",\")\n",
    "        if moreStudents.lower() == \"no\":\n",
    "            return D"
   ]
  },
  {
   "cell_type": "code",
   "execution_count": 58,
   "metadata": {},
   "outputs": [
    {
     "name": "stdin",
     "output_type": "stream",
     "text": [
      "Enter student ID:  1\n",
      "Enter the marks by comma separted values:  23,34,45,56,67\n",
      "Enter \"no\" to quit insertion:  \n",
      "Enter student ID:  12\n",
      "Enter the marks by comma separted values:  78,89,80,90,34,44\n",
      "Enter \"no\" to quit insertion:  \n",
      "Enter student ID:  123\n",
      "Enter the marks by comma separted values:  23,21,44,55,66\n",
      "Enter \"no\" to quit insertion:  no\n"
     ]
    }
   ],
   "source": [
    "studentData = getDataFromUser()"
   ]
  },
  {
   "cell_type": "code",
   "execution_count": 59,
   "metadata": {},
   "outputs": [
    {
     "data": {
      "text/plain": [
       "{'1': ['23', '34', '45', '56', '67'],\n",
       " '12': ['78', '89', '80', '90', '34', '44'],\n",
       " '123': ['23', '21', '44', '55', '66']}"
      ]
     },
     "execution_count": 59,
     "metadata": {},
     "output_type": "execute_result"
    }
   ],
   "source": [
    "studentData"
   ]
  },
  {
   "cell_type": "code",
   "execution_count": 60,
   "metadata": {},
   "outputs": [],
   "source": [
    "def averageMarks(D):\n",
    "    avg = {}\n",
    "    for stu in D:\n",
    "        L = D[stu]\n",
    "        sumMarks = 0\n",
    "        for marks in L:\n",
    "            sumMarks += int(marks)\n",
    "        avg[stu] = sumMarks/len(L)\n",
    "    return avg"
   ]
  },
  {
   "cell_type": "code",
   "execution_count": 64,
   "metadata": {},
   "outputs": [
    {
     "data": {
      "text/plain": [
       "{'1': 45.0, '12': 69.16666666666667, '123': 41.8}"
      ]
     },
     "execution_count": 64,
     "metadata": {},
     "output_type": "execute_result"
    }
   ],
   "source": [
    "averageMarks(studentData)"
   ]
  },
  {
   "cell_type": "code",
   "execution_count": 65,
   "metadata": {},
   "outputs": [
    {
     "name": "stdout",
     "output_type": "stream",
     "text": [
      "Student : 1 got avgerageMarks as:  45.0\n",
      "Student : 12 got avgerageMarks as:  69.16666666666667\n",
      "Student : 123 got avgerageMarks as:  41.8\n"
     ]
    }
   ],
   "source": [
    "avgM = averageMarks(studentData)\n",
    "for x in avgM:\n",
    "    print(\"Student :\",x,\"got avgerageMarks as: \",avgM[x])"
   ]
  },
  {
   "cell_type": "code",
   "execution_count": null,
   "metadata": {},
   "outputs": [],
   "source": []
  }
 ],
 "metadata": {
  "kernelspec": {
   "display_name": "Python 3",
   "language": "python",
   "name": "python3"
  },
  "language_info": {
   "codemirror_mode": {
    "name": "ipython",
    "version": 3
   },
   "file_extension": ".py",
   "mimetype": "text/x-python",
   "name": "python",
   "nbconvert_exporter": "python",
   "pygments_lexer": "ipython3",
   "version": "3.8.5"
  }
 },
 "nbformat": 4,
 "nbformat_minor": 4
}
